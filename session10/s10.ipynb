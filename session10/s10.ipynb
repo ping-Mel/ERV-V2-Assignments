{
  "cells": [
    {
      "cell_type": "markdown",
      "metadata": {
        "id": "view-in-github",
        "colab_type": "text"
      },
      "source": [
        "<a href=\"https://colab.research.google.com/github/ping-Mel/ERV-V2-Assignments/blob/main/session10/s10.ipynb\" target=\"_parent\"><img src=\"https://colab.research.google.com/assets/colab-badge.svg\" alt=\"Open In Colab\"/></a>"
      ]
    },
    {
      "cell_type": "code",
      "execution_count": 1,
      "metadata": {
        "id": "tUALKIqUQzaR",
        "outputId": "de976fb0-c3a5-4a26-886e-b245d0435a04",
        "colab": {
          "base_uri": "https://localhost:8080/"
        }
      },
      "outputs": [
        {
          "output_type": "stream",
          "name": "stdout",
          "text": [
            "Collecting ERA-V2-Architecture==0.1.1\n",
            "  Downloading ERA_V2_Architecture-0.1.1.tar.gz (3.3 kB)\n",
            "  Preparing metadata (setup.py) ... \u001b[?25l\u001b[?25hdone\n",
            "Building wheels for collected packages: ERA-V2-Architecture\n",
            "  Building wheel for ERA-V2-Architecture (setup.py) ... \u001b[?25l\u001b[?25hdone\n",
            "  Created wheel for ERA-V2-Architecture: filename=ERA_V2_Architecture-0.1.1-py3-none-any.whl size=3857 sha256=dd2ce3deb7134bdf933a80522716c43097a943ae9daa8ce3a86109a99dc596c3\n",
            "  Stored in directory: /root/.cache/pip/wheels/bf/a9/18/d36084418a8871bd2294e421c331fa7504f8730fbd011672d8\n",
            "Successfully built ERA-V2-Architecture\n",
            "Installing collected packages: ERA-V2-Architecture\n",
            "Successfully installed ERA-V2-Architecture-0.1.1\n"
          ]
        }
      ],
      "source": [
        "pip install ERA-V2-Architecture==0.1.1"
      ]
    },
    {
      "cell_type": "code",
      "execution_count": 11,
      "metadata": {
        "id": "akVIWUfTQzaW",
        "outputId": "e5f60bd6-740f-4b33-b3a1-f27c98833f8f",
        "colab": {
          "base_uri": "https://localhost:8080/"
        }
      },
      "outputs": [
        {
          "output_type": "stream",
          "name": "stdout",
          "text": [
            "Requirement already satisfied: torchsummary in /usr/local/lib/python3.10/dist-packages (1.5.1)\n"
          ]
        }
      ],
      "source": [
        "from ERA_V2_Architecture.model import Models\n",
        "\n",
        "!pip install torchsummary\n",
        "from __future__ import print_function\n",
        "import torch.optim as optim\n",
        "from torchvision import datasets, transforms\n",
        "import matplotlib.pyplot as plt\n",
        "import albumentations as A\n",
        "from albumentations.pytorch import ToTensorV2\n",
        "import cv2\n",
        "import numpy as np\n",
        "\n",
        "\n",
        "# Now you can use the classes and functions defined in models.py\n"
      ]
    },
    {
      "cell_type": "code",
      "source": [
        "Models.evaluate_model(Models.NetD)"
      ],
      "metadata": {
        "id": "qHygRZ7dSIcB",
        "outputId": "87377c5d-d843-4dd4-b418-721b1933a2e9",
        "colab": {
          "base_uri": "https://localhost:8080/"
        }
      },
      "execution_count": 12,
      "outputs": [
        {
          "output_type": "stream",
          "name": "stdout",
          "text": [
            "----------------------------------------------------------------\n",
            "        Layer (type)               Output Shape         Param #\n",
            "================================================================\n",
            "            Conv2d-1          [-1, 256, 15, 15]           7,168\n",
            "              ReLU-2          [-1, 256, 15, 15]               0\n",
            "           Dropout-3          [-1, 256, 15, 15]               0\n",
            "            Conv2d-4            [-1, 128, 7, 7]           2,432\n",
            "              ReLU-5            [-1, 128, 7, 7]               0\n",
            "           Dropout-6            [-1, 128, 7, 7]               0\n",
            "            Conv2d-7            [-1, 128, 7, 7]          16,512\n",
            "              ReLU-8            [-1, 128, 7, 7]               0\n",
            "           Dropout-9            [-1, 128, 7, 7]               0\n",
            "           Conv2d-10             [-1, 64, 4, 4]          73,792\n",
            "             ReLU-11             [-1, 64, 4, 4]               0\n",
            "          Dropout-12             [-1, 64, 4, 4]               0\n",
            "           Conv2d-13             [-1, 16, 2, 2]           9,232\n",
            "             ReLU-14             [-1, 16, 2, 2]               0\n",
            "          Dropout-15             [-1, 16, 2, 2]               0\n",
            "AdaptiveAvgPool2d-16             [-1, 16, 1, 1]               0\n",
            "           Linear-17                   [-1, 10]             170\n",
            "================================================================\n",
            "Total params: 109,306\n",
            "Trainable params: 109,306\n",
            "Non-trainable params: 0\n",
            "----------------------------------------------------------------\n",
            "Input size (MB): 0.01\n",
            "Forward/backward pass size (MB): 1.63\n",
            "Params size (MB): 0.42\n",
            "Estimated Total Size (MB): 2.06\n",
            "----------------------------------------------------------------\n"
          ]
        }
      ]
    }
  ],
  "metadata": {
    "kernelspec": {
      "display_name": "Python 3",
      "language": "python",
      "name": "python3"
    },
    "language_info": {
      "codemirror_mode": {
        "name": "ipython",
        "version": 3
      },
      "file_extension": ".py",
      "mimetype": "text/x-python",
      "name": "python",
      "nbconvert_exporter": "python",
      "pygments_lexer": "ipython3",
      "version": "3.12.1"
    },
    "colab": {
      "provenance": [],
      "include_colab_link": true
    }
  },
  "nbformat": 4,
  "nbformat_minor": 0
}