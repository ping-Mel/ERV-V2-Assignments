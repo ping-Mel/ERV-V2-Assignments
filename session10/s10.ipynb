{
 "cells": [
    {
        "cell_type": "markdown",
        "metadata": {
          "colab_type": "text",
          "id": "view-in-github"
        },
        "source": [
          "<a href=\"https://colab.research.google.com/github/ping-Mel/ERV-V2-Assignments/blob/main/session10/s10.ipynb\" target=\"_parent\"><img src=\"https://colab.research.google.com/assets/colab-badge.svg\" alt=\"Open In Colab\"/></a>"
        ]
      },
  {
   "cell_type": "code",
   "execution_count": 14,
   "metadata": {},
   "outputs": [
    {
     "name": "stdout",
     "output_type": "stream",
     "text": [
      "Collecting ERA-V2-Architecture==0.1.1Note: you may need to restart the kernel to use updated packages.\n",
      "\n",
      "  Downloading ERA_V2_Architecture-0.1.1.tar.gz (3.3 kB)\n",
      "  Installing build dependencies: started\n",
      "  Installing build dependencies: finished with status 'done'\n",
      "  Getting requirements to build wheel: started\n",
      "  Getting requirements to build wheel: finished with status 'done'\n",
      "  Preparing metadata (pyproject.toml): started\n",
      "  Preparing metadata (pyproject.toml): finished with status 'done'\n",
      "Building wheels for collected packages: ERA-V2-Architecture\n",
      "  Building wheel for ERA-V2-Architecture (pyproject.toml): started\n",
      "  Building wheel for ERA-V2-Architecture (pyproject.toml): finished with status 'done'\n",
      "  Created wheel for ERA-V2-Architecture: filename=ERA_V2_Architecture-0.1.1-py3-none-any.whl size=3870 sha256=7175852efc27208c25cf55108d31151ec5b828c5041ab9055de88814736ada83\n",
      "  Stored in directory: c:\\users\\xianp\\appdata\\local\\pip\\cache\\wheels\\76\\83\\b4\\fbaaf380d5dea69c34b93286c5d58d13d62572320c8ff71495\n",
      "Successfully built ERA-V2-Architecture\n",
      "Installing collected packages: ERA-V2-Architecture\n",
      "  Attempting uninstall: ERA-V2-Architecture\n",
      "    Found existing installation: ERA_V2_Architecture 0.1.0\n",
      "    Uninstalling ERA_V2_Architecture-0.1.0:\n",
      "      Successfully uninstalled ERA_V2_Architecture-0.1.0\n",
      "Successfully installed ERA-V2-Architecture-0.1.1\n"
     ]
    },
    {
     "name": "stderr",
     "output_type": "stream",
     "text": [
      "\n",
      "[notice] A new release of pip is available: 23.2.1 -> 24.0\n",
      "[notice] To update, run: python.exe -m pip install --upgrade pip\n"
     ]
    }
   ],
   "source": [
    "pip install ERA-V2-Architecture==0.1.1"
   ]
  },
  {
   "cell_type": "code",
   "execution_count": 15,
   "metadata": {},
   "outputs": [
    {
     "ename": "ModuleNotFoundError",
     "evalue": "No module named 'torch'",
     "output_type": "error",
     "traceback": [
      "\u001b[1;31m---------------------------------------------------------------------------\u001b[0m",
      "\u001b[1;31mModuleNotFoundError\u001b[0m                       Traceback (most recent call last)",
      "Cell \u001b[1;32mIn[15], line 1\u001b[0m\n\u001b[1;32m----> 1\u001b[0m \u001b[38;5;28;01mfrom\u001b[39;00m \u001b[38;5;21;01mERA_V2_Architecture\u001b[39;00m\u001b[38;5;21;01m.\u001b[39;00m\u001b[38;5;21;01mmodel\u001b[39;00m\u001b[38;5;21;01m.\u001b[39;00m\u001b[38;5;21;01mmodels\u001b[39;00m \u001b[38;5;28;01mimport\u001b[39;00m NetA\n\u001b[0;32m      3\u001b[0m \u001b[38;5;66;03m# Now you can use the classes and functions defined in models.py\u001b[39;00m\n",
      "File \u001b[1;32mc:\\Users\\xianp\\AppData\\Local\\Programs\\Python\\Python312\\Lib\\site-packages\\ERA_V2_Architecture\\model\\__init__.py:2\u001b[0m\n\u001b[0;32m      1\u001b[0m \u001b[38;5;66;03m# __init__.py\u001b[39;00m\n\u001b[1;32m----> 2\u001b[0m \u001b[38;5;28;01mfrom\u001b[39;00m \u001b[38;5;21;01m.\u001b[39;00m\u001b[38;5;21;01mmodels\u001b[39;00m \u001b[38;5;28;01mimport\u001b[39;00m Models\n",
      "File \u001b[1;32mc:\\Users\\xianp\\AppData\\Local\\Programs\\Python\\Python312\\Lib\\site-packages\\ERA_V2_Architecture\\model\\models.py:1\u001b[0m\n\u001b[1;32m----> 1\u001b[0m \u001b[38;5;28;01mimport\u001b[39;00m \u001b[38;5;21;01mtorch\u001b[39;00m\n\u001b[0;32m      2\u001b[0m \u001b[38;5;28;01mimport\u001b[39;00m \u001b[38;5;21;01mtorch\u001b[39;00m\u001b[38;5;21;01m.\u001b[39;00m\u001b[38;5;21;01mnn\u001b[39;00m \u001b[38;5;28;01mas\u001b[39;00m \u001b[38;5;21;01mnn\u001b[39;00m\n\u001b[0;32m      3\u001b[0m \u001b[38;5;28;01mimport\u001b[39;00m \u001b[38;5;21;01mtorch\u001b[39;00m\u001b[38;5;21;01m.\u001b[39;00m\u001b[38;5;21;01mnn\u001b[39;00m\u001b[38;5;21;01m.\u001b[39;00m\u001b[38;5;21;01mfunctional\u001b[39;00m \u001b[38;5;28;01mas\u001b[39;00m \u001b[38;5;21;01mF\u001b[39;00m\n",
      "\u001b[1;31mModuleNotFoundError\u001b[0m: No module named 'torch'"
     ]
    }
   ],
   "source": [
    "from ERA_V2_Architecture.model.models import NetA\n",
    "\n",
    "# Now you can use the classes and functions defined in models.py\n"
   ]
  }
 ],
 "metadata": {
  "kernelspec": {
   "display_name": "Python 3",
   "language": "python",
   "name": "python3"
  },
  "language_info": {
   "codemirror_mode": {
    "name": "ipython",
    "version": 3
   },
   "file_extension": ".py",
   "mimetype": "text/x-python",
   "name": "python",
   "nbconvert_exporter": "python",
   "pygments_lexer": "ipython3",
   "version": "3.12.1"
  }
 },
 "nbformat": 4,
 "nbformat_minor": 2
}
