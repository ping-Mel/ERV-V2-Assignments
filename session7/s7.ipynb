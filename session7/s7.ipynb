{
  "cells": [
    {
      "cell_type": "markdown",
      "metadata": {
        "id": "view-in-github",
        "colab_type": "text"
      },
      "source": [
        "<a href=\"https://colab.research.google.com/github/ping-Mel/ERV-V2-Assignments/blob/main/session7/s7.ipynb\" target=\"_parent\"><img src=\"https://colab.research.google.com/assets/colab-badge.svg\" alt=\"Open In Colab\"/></a>"
      ]
    },
    {
      "cell_type": "code",
      "execution_count": 1,
      "metadata": {
        "id": "tglh0twEe3Zz"
      },
      "outputs": [],
      "source": [
        "import torch\n",
        "import torch.nn as nn\n",
        "import torch.nn.functional as F\n",
        "from torchsummary import summary\n",
        "\n",
        "class Models:\n",
        "    \"\"\"\n",
        "    In this class, we organize our neural network architectures as nested/inner classes.\n",
        "    This approach groups related functionalities and creates an organized and encapsulated\n",
        "    code structure. Each neural network architecture is defined as an inner class within\n",
        "    this Models class. This allows for easy instantiation and clear hierarchy of neural\n",
        "    network models, each with its distinct architecture and characteristics.\n",
        "    \"\"\"\n",
        "    @staticmethod\n",
        "    def evaluate_model(model_class, input_size=(1, 28, 28)):\n",
        "        \"\"\"\n",
        "        Static method to evaluate the model architecture.\n",
        "        This method will print a summary of the model showing the layers and parameters.\n",
        "\n",
        "        Parameters:\n",
        "        model_class (class): The inner class representing the neural network architecture to evaluate.\n",
        "        input_size (tuple): The size of the input to the model. Default is (1, 28, 28) for MNIST dataset.\n",
        "        \"\"\"\n",
        "        # Check for CUDA availability and set the device accordingly\n",
        "        use_cuda = torch.cuda.is_available()\n",
        "        device = torch.device(\"cuda\" if use_cuda else \"cpu\")\n",
        "\n",
        "        # Initialize the model from the inner class and move to the appropriate device\n",
        "        model = model_class().to(device)\n",
        "\n",
        "        # Print the summary of the model\n",
        "        summary(model, input_size=input_size)\n",
        "\n",
        "\n",
        "\n",
        "    class NetA(nn.Module):\n",
        "        \"\"\"\n",
        "        Inner class representing an initial neural network architecture.\n",
        "        \"\"\"\n",
        "        def __init__(self):\n",
        "            super(Models.NetA, self).__init__()\n",
        "            # Convolutional layers\n",
        "            #R_in, N_in, j_in, S, R_out, N_out, J_out, P, K\n",
        "            # 1    28      1   1    3      28     1    1  3\n",
        "            self.conv1 = nn.Conv2d(1, 32, 3, padding=1)\n",
        "            #R_in, N_in, j_in, S, R_out, N_out, J_out, P, K\n",
        "            # 3    28      1   1    5      28     1    1  3\n",
        "            self.conv2 = nn.Conv2d(32, 64, 3, padding=1)\n",
        "            #R_in, N_in, j_in, S, R_out, N_out, J_out, P, K\n",
        "            # 5    28      1   2    6      14     2    0  2\n",
        "            self.pool1 = nn.MaxPool2d(2, 2)\n",
        "            #R_in, N_in, j_in, S, R_out, N_out, J_out, P, K\n",
        "            # 6    14      2   1    10     14     2    1  3\n",
        "            self.conv3 = nn.Conv2d(64, 128, 3, padding=1)\n",
        "            #R_in, N_in, j_in, S, R_out, N_out, J_out, P, K\n",
        "            # 10    14     2   1    14     14     2    1  3\n",
        "            self.conv4 = nn.Conv2d(128, 256, 3, padding=1)\n",
        "            #R_in, N_in, j_in, S, R_out, N_out, J_out, P, K\n",
        "            # 14    14     2   2    16     7     4     0  2\n",
        "            self.pool2 = nn.MaxPool2d(2, 2)\n",
        "            #R_in, N_in, j_in, S, R_out, N_out, J_out, P, K\n",
        "            # 16    7      4   1    24     5     4     0  3\n",
        "            self.conv5 = nn.Conv2d(256, 512, 3)\n",
        "            #R_in, N_in, j_in, S, R_out, N_out, J_out, P, K\n",
        "            # 24    5     4    1    32     3     4     0  3\n",
        "            self.conv6 = nn.Conv2d(512, 1024, 3)\n",
        "            #R_in, N_in, j_in, S, R_out, N_out, J_out, P, K\n",
        "            # 32    3      4   1    40     1     4     0  3\n",
        "            self.conv7 = nn.Conv2d(1024, 10, 3)\n",
        "\n",
        "        def forward(self, x):\n",
        "            x = self.pool1(F.relu(self.conv2(F.relu(self.conv1(x)))))\n",
        "            x = self.pool2(F.relu(self.conv4(F.relu(self.conv3(x)))))\n",
        "            x = F.relu(self.conv6(F.relu(self.conv5(x))))\n",
        "            x = self.conv7(x)\n",
        "            x = x.view(-1, 10) #1x1x10> 10\n",
        "            return F.log_softmax(x, dim=-1)\n",
        "\n",
        "    class NetB(nn.Module):\n",
        "        \"\"\"\n",
        "        Inner class representing a simple neural network architecture with reduced the channel size.\n",
        "        \"\"\"\n",
        "        def __init__(self):\n",
        "            super(Models.NetB, self).__init__()\n",
        "            #R_in, N_in, j_in, S, R_out, N_out, J_out, P, K\n",
        "            # 1    28      1   1    3      26     1    0  3\n",
        "            self.convblock1 = nn.Sequential(\n",
        "              nn.Conv2d(1, 16, 3),\n",
        "              nn.ReLU()\n",
        "            )\n",
        "            #R_in, N_in, j_in, S, R_out, N_out, J_out, P, K\n",
        "            # 3    26      1   1    5      24     1    0  3\n",
        "            self.convblock2 = nn.Sequential(\n",
        "              nn.Conv2d(16, 32 , 3),\n",
        "              nn.ReLU()\n",
        "            )\n",
        "            #R_in, N_in, j_in, S, R_out, N_out, J_out, P, K\n",
        "            # 5    24      1   2    6      12     2    0  2\n",
        "            self.pool1 = nn.MaxPool2d(2, 2)\n",
        "            #R_in, N_in, j_in, S, R_out, N_out, J_out, P, K\n",
        "            # 6    12      2   1    10       10     2    0  3\n",
        "            self.convblock3 = nn.Sequential(\n",
        "              nn.Conv2d(32, 64 , 3),\n",
        "              nn.ReLU()\n",
        "            )\n",
        "            #R_in, N_in, j_in, S, R_out, N_out, J_out, P, K\n",
        "            # 10    10      2   2    14    5     4     0  2\n",
        "            self.pool2 = nn.MaxPool2d(2, 2)\n",
        "            #R_in, N_in, j_in, S, R_out, N_out, J_out, P, K\n",
        "            # 14    5      4   1    22    3     4     0  3\n",
        "            self.convblock4 = nn.Sequential(\n",
        "              nn.Conv2d(64, 32 , 3),\n",
        "              nn.ReLU()\n",
        "            )\n",
        "            #R_in, N_in, j_in, S, R_out, N_out, J_out, P, K\n",
        "            # 22    3      4   1    30    1     4     0  3\n",
        "            self.convblock5 = nn.Sequential(\n",
        "              nn.Conv2d(32, 10 , 3),\n",
        "            )\n",
        "\n",
        "\n",
        "        def forward(self, x):\n",
        "          x = self.convblock1(x)\n",
        "          x = self.convblock2(x)\n",
        "          x = self.pool1(x)\n",
        "          x = self.convblock3(x)\n",
        "          x = self.pool2(x)\n",
        "          x = self.convblock4(x)\n",
        "          x = self.convblock5(x)\n",
        "          x = x.view(-1, 10)\n",
        "          return F.log_softmax(x, dim=-1)\n",
        "\n",
        "    class NetC(nn.Module):\n",
        "        \"\"\"\n",
        "        Inner class representing a simple neural network architecture with reduced the channel size.\n",
        "        \"\"\"\n",
        "        def __init__(self):\n",
        "            super(Models.NetC, self).__init__()\n",
        "\n",
        "            self.convblock1 = nn.Sequential(\n",
        "              nn.Conv2d(1, 10, 3, padding=1),\n",
        "              nn.BatchNorm2d(10),\n",
        "              nn.ReLU(),\n",
        "              nn.Dropout(0.25)\n",
        "            )\n",
        "\n",
        "            self.convblock2 = nn.Sequential(\n",
        "              nn.Conv2d(10, 20 , 3, padding=1),\n",
        "              nn.BatchNorm2d(20),\n",
        "              nn.ReLU(),\n",
        "              nn.Dropout(0.25)\n",
        "            )\n",
        "\n",
        "            self.pool1 = nn.MaxPool2d(2, 2)\n",
        "\n",
        "            self.convblock3 = nn.Sequential(\n",
        "              nn.Conv2d(20, 10 , 3, padding=1),\n",
        "              nn.BatchNorm2d(10),\n",
        "              nn.ReLU(),\n",
        "              nn.Dropout(0.25)\n",
        "            )\n",
        "\n",
        "            self.pool2 = nn.MaxPool2d(2, 2)\n",
        "\n",
        "            self.convblock4 = nn.Sequential(\n",
        "              nn.Conv2d(10, 10 , 3),\n",
        "              nn.BatchNorm2d(10),\n",
        "              nn.ReLU()\n",
        "            )\n",
        "\n",
        "            self.convblock5 = nn.Sequential(\n",
        "              nn.Conv2d(10, 10 , 3),\n",
        "              nn.AdaptiveAvgPool2d(1)\n",
        "            )\n",
        "\n",
        "\n",
        "        def forward(self, x):\n",
        "          x = self.convblock1(x)\n",
        "          x = self.convblock2(x)\n",
        "          x = self.pool1(x)\n",
        "          x = self.convblock3(x)\n",
        "          x = self.pool2(x)\n",
        "          x = self.convblock4(x)\n",
        "          x = self.convblock5(x)\n",
        "          x = x.view(-1, 10)\n",
        "          return F.log_softmax(x, dim=-1)"
      ]
    },
    {
      "cell_type": "markdown",
      "source": [
        "# Target 1: Inital Model Setup and First Evaluation\n",
        "\n",
        "## Initial Setup\n",
        "- Construct the **basic skeleton** of the neural network model. This includes defining the layers and forward pass logic in Class Models (model.py) NetA inner class.\n",
        "- Ensure that the code is functional and can execute without errors.\n",
        "\n",
        "## Aim\n",
        "1.   **99.4%** (this must be consistently shown in your last few epochs, and not a one-time achievement)\n",
        "2.   Less than or equal to **15** Epochs\n",
        "3.   Less than **8000** Parameters"
      ],
      "metadata": {
        "id": "n7-uVFdBiqZs"
      }
    },
    {
      "cell_type": "code",
      "execution_count": 2,
      "metadata": {
        "id": "0m2JWFliFfKT",
        "outputId": "22a6d3bc-2d73-4d83-93f0-1f4cced46f20",
        "colab": {
          "base_uri": "https://localhost:8080/"
        }
      },
      "outputs": [
        {
          "output_type": "stream",
          "name": "stdout",
          "text": [
            "Requirement already satisfied: torchsummary in /usr/local/lib/python3.10/dist-packages (1.5.1)\n"
          ]
        }
      ],
      "source": [
        "!pip install torchsummary\n",
        "\n",
        "from __future__ import print_function\n",
        "import torch.optim as optim\n",
        "from torchvision import datasets, transforms\n",
        "import matplotlib.pyplot as plt"
      ]
    },
    {
      "cell_type": "code",
      "source": [
        "# Train Phase transformations\n",
        "train_transforms = transforms.Compose([\n",
        "                                      #  transforms.Resize((28, 28)),\n",
        "                                      #  transforms.ColorJitter(brightness=0.10, contrast=0.1, saturation=0.10, hue=0.1),\n",
        "                                       transforms.ToTensor(),\n",
        "                                       transforms.Normalize((0.1307,), (0.3081,)) # The mean and std have to be sequences (e.g., tuples), therefore you should add a comma after the values.\n",
        "                                       # Note the difference between (0.1307) and (0.1307,)\n",
        "                                       ])\n",
        "\n",
        "# Test Phase transformations\n",
        "test_transforms = transforms.Compose([\n",
        "                                      #  transforms.Resize((28, 28)),\n",
        "                                      #  transforms.ColorJitter(brightness=0.10, contrast=0.1, saturation=0.10, hue=0.1),\n",
        "                                       transforms.ToTensor(),\n",
        "                                       transforms.Normalize((0.1307,), (0.3081,))\n",
        "                                       ])"
      ],
      "metadata": {
        "id": "r-7f44K2lAhp"
      },
      "execution_count": 3,
      "outputs": []
    },
    {
      "cell_type": "code",
      "source": [
        "train = datasets.MNIST('./data', train=True, download=True, transform=train_transforms)\n",
        "test = datasets.MNIST('./data', train=False, download=True, transform=test_transforms)"
      ],
      "metadata": {
        "id": "sPJpIkhglCR2",
        "outputId": "ce16b94c-f393-488f-f84c-222d4b179143",
        "colab": {
          "base_uri": "https://localhost:8080/"
        }
      },
      "execution_count": 4,
      "outputs": [
        {
          "output_type": "stream",
          "name": "stdout",
          "text": [
            "Downloading http://yann.lecun.com/exdb/mnist/train-images-idx3-ubyte.gz\n",
            "Downloading http://yann.lecun.com/exdb/mnist/train-images-idx3-ubyte.gz to ./data/MNIST/raw/train-images-idx3-ubyte.gz\n"
          ]
        },
        {
          "output_type": "stream",
          "name": "stderr",
          "text": [
            "100%|██████████| 9912422/9912422 [00:00<00:00, 78586044.80it/s]\n"
          ]
        },
        {
          "output_type": "stream",
          "name": "stdout",
          "text": [
            "Extracting ./data/MNIST/raw/train-images-idx3-ubyte.gz to ./data/MNIST/raw\n",
            "\n",
            "Downloading http://yann.lecun.com/exdb/mnist/train-labels-idx1-ubyte.gz\n",
            "Downloading http://yann.lecun.com/exdb/mnist/train-labels-idx1-ubyte.gz to ./data/MNIST/raw/train-labels-idx1-ubyte.gz\n"
          ]
        },
        {
          "output_type": "stream",
          "name": "stderr",
          "text": [
            "100%|██████████| 28881/28881 [00:00<00:00, 85668807.51it/s]"
          ]
        },
        {
          "output_type": "stream",
          "name": "stdout",
          "text": [
            "Extracting ./data/MNIST/raw/train-labels-idx1-ubyte.gz to ./data/MNIST/raw\n",
            "\n",
            "Downloading http://yann.lecun.com/exdb/mnist/t10k-images-idx3-ubyte.gz\n"
          ]
        },
        {
          "output_type": "stream",
          "name": "stderr",
          "text": [
            "\n"
          ]
        },
        {
          "output_type": "stream",
          "name": "stdout",
          "text": [
            "Downloading http://yann.lecun.com/exdb/mnist/t10k-images-idx3-ubyte.gz to ./data/MNIST/raw/t10k-images-idx3-ubyte.gz\n"
          ]
        },
        {
          "output_type": "stream",
          "name": "stderr",
          "text": [
            "100%|██████████| 1648877/1648877 [00:00<00:00, 34766500.76it/s]\n"
          ]
        },
        {
          "output_type": "stream",
          "name": "stdout",
          "text": [
            "Extracting ./data/MNIST/raw/t10k-images-idx3-ubyte.gz to ./data/MNIST/raw\n",
            "\n",
            "Downloading http://yann.lecun.com/exdb/mnist/t10k-labels-idx1-ubyte.gz\n",
            "Downloading http://yann.lecun.com/exdb/mnist/t10k-labels-idx1-ubyte.gz to ./data/MNIST/raw/t10k-labels-idx1-ubyte.gz\n"
          ]
        },
        {
          "output_type": "stream",
          "name": "stderr",
          "text": [
            "100%|██████████| 4542/4542 [00:00<00:00, 1756618.60it/s]"
          ]
        },
        {
          "output_type": "stream",
          "name": "stdout",
          "text": [
            "Extracting ./data/MNIST/raw/t10k-labels-idx1-ubyte.gz to ./data/MNIST/raw\n",
            "\n"
          ]
        },
        {
          "output_type": "stream",
          "name": "stderr",
          "text": [
            "\n"
          ]
        }
      ]
    },
    {
      "cell_type": "code",
      "source": [
        "SEED = 1\n",
        "\n",
        "# CUDA?\n",
        "cuda = torch.cuda.is_available()\n",
        "print(\"CUDA Available?\", cuda)\n",
        "\n",
        "# For reproducibility\n",
        "torch.manual_seed(SEED)\n",
        "\n",
        "if cuda:\n",
        "    torch.cuda.manual_seed(SEED)\n",
        "\n",
        "# dataloader arguments - something you'll fetch these from cmdprmt\n",
        "dataloader_args = dict(shuffle=True, batch_size=128, num_workers=4, pin_memory=True) if cuda else dict(shuffle=True, batch_size=64)\n",
        "\n",
        "# train dataloader\n",
        "train_loader = torch.utils.data.DataLoader(train, **dataloader_args)\n",
        "\n",
        "# test dataloader\n",
        "test_loader = torch.utils.data.DataLoader(test, **dataloader_args)"
      ],
      "metadata": {
        "id": "l1TLQwoGlMdD",
        "outputId": "6e74f7ba-5b11-4bd5-941e-dddbbdc33c23",
        "colab": {
          "base_uri": "https://localhost:8080/"
        }
      },
      "execution_count": 5,
      "outputs": [
        {
          "output_type": "stream",
          "name": "stdout",
          "text": [
            "CUDA Available? True\n"
          ]
        },
        {
          "output_type": "stream",
          "name": "stderr",
          "text": [
            "/usr/local/lib/python3.10/dist-packages/torch/utils/data/dataloader.py:557: UserWarning: This DataLoader will create 4 worker processes in total. Our suggested max number of worker in current system is 2, which is smaller than what this DataLoader is going to create. Please be aware that excessive worker creation might get DataLoader running slow or even freeze, lower the worker number to avoid potential slowness/freeze if necessary.\n",
            "  warnings.warn(_create_warning_msg(\n"
          ]
        }
      ]
    },
    {
      "cell_type": "code",
      "execution_count": 6,
      "metadata": {
        "id": "8fDefDhaFlwH"
      },
      "outputs": [],
      "source": [
        "from tqdm import tqdm\n",
        "\n",
        "train_losses = []\n",
        "test_losses = []\n",
        "train_acc = []\n",
        "test_acc = []\n",
        "\n",
        "def train(model, device, train_loader, optimizer, epoch):\n",
        "  model.train()\n",
        "  pbar = tqdm(train_loader)\n",
        "  correct = 0\n",
        "  processed = 0\n",
        "  for batch_idx, (data, target) in enumerate(pbar):\n",
        "    # get samples\n",
        "    data, target = data.to(device), target.to(device)\n",
        "\n",
        "    # Init\n",
        "    optimizer.zero_grad()\n",
        "    # In PyTorch, we need to set the gradients to zero before starting to do backpropragation because PyTorch accumulates the gradients on subsequent backward passes.\n",
        "    # Because of this, when you start your training loop, ideally you should zero out the gradients so that you do the parameter update correctly.\n",
        "\n",
        "    # Predict\n",
        "    y_pred = model(data)\n",
        "\n",
        "    # Calculate loss\n",
        "    loss = F.nll_loss(y_pred, target)\n",
        "    train_losses.append(loss)\n",
        "\n",
        "    # Backpropagation\n",
        "    loss.backward()\n",
        "    optimizer.step()\n",
        "\n",
        "    # Update pbar-tqdm\n",
        "\n",
        "    pred = y_pred.argmax(dim=1, keepdim=True)  # get the index of the max log-probability\n",
        "    correct += pred.eq(target.view_as(pred)).sum().item()\n",
        "    processed += len(data)\n",
        "\n",
        "    pbar.set_description(desc= f'Loss={loss.item()} Batch_id={batch_idx} Accuracy={100*correct/processed:0.2f}%')\n",
        "    train_acc.append(100*correct/processed)\n",
        "\n",
        "def test(model, device, test_loader):\n",
        "    model.eval()\n",
        "    test_loss = 0\n",
        "    correct = 0\n",
        "    with torch.no_grad():\n",
        "        for data, target in test_loader:\n",
        "            data, target = data.to(device), target.to(device)\n",
        "            output = model(data)\n",
        "            test_loss += F.nll_loss(output, target, reduction='sum').item()  # sum up batch loss\n",
        "            pred = output.argmax(dim=1, keepdim=True)  # get the index of the max log-probability\n",
        "            correct += pred.eq(target.view_as(pred)).sum().item()\n",
        "\n",
        "    test_loss /= len(test_loader.dataset)\n",
        "    test_losses.append(test_loss)\n",
        "\n",
        "    print('\\nTest set: Average loss: {:.4f}, Accuracy: {}/{} ({:.2f}%)\\n'.format(\n",
        "        test_loss, correct, len(test_loader.dataset),\n",
        "        100. * correct / len(test_loader.dataset)))\n",
        "\n",
        "    test_acc.append(100. * correct / len(test_loader.dataset))\n"
      ]
    },
    {
      "cell_type": "markdown",
      "source": [
        "# Result 1: Inital Model Setup and First Evaluation\n",
        "\n",
        "## Model Evaluation\n",
        "- Assess the **model parameters** using static method **evaluate_model** in Class **Models** to understand the complexity and capacity of the network.\n",
        "\n",
        "## Training and Testing\n",
        "- Train the model with the training dataset and validate its performance on a separate validation set.\n",
        "- Evaluate the **accuracy** of the model using the test dataset to ensure that it meets the preliminary performance benchmarks.\n",
        "\n",
        "## Result Capture\n",
        "- Record the performance metrics such as loss and accuracy for both training and validation phases.\n",
        "\n",
        "\n",
        "> **Parameter**:6,379,786\n",
        "\n",
        "> **Best Training Accuracy**: EPOCH:14 (**99.96%**)\n",
        "\n",
        "> **Best Test Accuracy**: EPOCH:14 (**99.24%**)\n",
        "\n"
      ],
      "metadata": {
        "id": "J_27-gbKiYt0"
      }
    },
    {
      "cell_type": "code",
      "execution_count": 25,
      "metadata": {
        "colab": {
          "base_uri": "https://localhost:8080/"
        },
        "id": "xdydjYTZFyi3",
        "outputId": "b65275f9-1c7f-4ea9-85c9-06b6aab5bb64"
      },
      "outputs": [
        {
          "output_type": "stream",
          "name": "stdout",
          "text": [
            "----------------------------------------------------------------\n",
            "        Layer (type)               Output Shape         Param #\n",
            "================================================================\n",
            "            Conv2d-1           [-1, 32, 28, 28]             320\n",
            "            Conv2d-2           [-1, 64, 28, 28]          18,496\n",
            "         MaxPool2d-3           [-1, 64, 14, 14]               0\n",
            "            Conv2d-4          [-1, 128, 14, 14]          73,856\n",
            "            Conv2d-5          [-1, 256, 14, 14]         295,168\n",
            "         MaxPool2d-6            [-1, 256, 7, 7]               0\n",
            "            Conv2d-7            [-1, 512, 5, 5]       1,180,160\n",
            "            Conv2d-8           [-1, 1024, 3, 3]       4,719,616\n",
            "            Conv2d-9             [-1, 10, 1, 1]          92,170\n",
            "================================================================\n",
            "Total params: 6,379,786\n",
            "Trainable params: 6,379,786\n",
            "Non-trainable params: 0\n",
            "----------------------------------------------------------------\n",
            "Input size (MB): 0.00\n",
            "Forward/backward pass size (MB): 1.51\n",
            "Params size (MB): 24.34\n",
            "Estimated Total Size (MB): 25.85\n",
            "----------------------------------------------------------------\n"
          ]
        }
      ],
      "source": [
        "Models.evaluate_model(Models.NetA)"
      ]
    },
    {
      "cell_type": "code",
      "execution_count": 18,
      "metadata": {
        "colab": {
          "base_uri": "https://localhost:8080/"
        },
        "id": "MMWbLWO6FuHb",
        "outputId": "d9a16ab0-f042-4736-bd5e-5f276dbbd282"
      },
      "outputs": [
        {
          "output_type": "stream",
          "name": "stdout",
          "text": [
            "EPOCH: 0\n"
          ]
        },
        {
          "output_type": "stream",
          "name": "stderr",
          "text": [
            "Loss=0.03761669248342514 Batch_id=468 Accuracy=87.55%: 100%|██████████| 469/469 [00:21<00:00, 21.80it/s]\n"
          ]
        },
        {
          "output_type": "stream",
          "name": "stdout",
          "text": [
            "\n",
            "Test set: Average loss: 0.0704, Accuracy: 9773/10000 (97.73%)\n",
            "\n",
            "EPOCH: 1\n"
          ]
        },
        {
          "output_type": "stream",
          "name": "stderr",
          "text": [
            "Loss=0.038250882178545 Batch_id=468 Accuracy=98.24%: 100%|██████████| 469/469 [00:22<00:00, 20.91it/s]\n"
          ]
        },
        {
          "output_type": "stream",
          "name": "stdout",
          "text": [
            "\n",
            "Test set: Average loss: 0.0359, Accuracy: 9875/10000 (98.75%)\n",
            "\n",
            "EPOCH: 2\n"
          ]
        },
        {
          "output_type": "stream",
          "name": "stderr",
          "text": [
            "Loss=0.09250428527593613 Batch_id=468 Accuracy=98.86%: 100%|██████████| 469/469 [00:23<00:00, 19.79it/s]\n"
          ]
        },
        {
          "output_type": "stream",
          "name": "stdout",
          "text": [
            "\n",
            "Test set: Average loss: 0.0352, Accuracy: 9879/10000 (98.79%)\n",
            "\n",
            "EPOCH: 3\n"
          ]
        },
        {
          "output_type": "stream",
          "name": "stderr",
          "text": [
            "Loss=0.0018328595906496048 Batch_id=468 Accuracy=99.21%: 100%|██████████| 469/469 [00:22<00:00, 20.52it/s]\n"
          ]
        },
        {
          "output_type": "stream",
          "name": "stdout",
          "text": [
            "\n",
            "Test set: Average loss: 0.0260, Accuracy: 9909/10000 (99.09%)\n",
            "\n",
            "EPOCH: 4\n"
          ]
        },
        {
          "output_type": "stream",
          "name": "stderr",
          "text": [
            "Loss=0.004556652158498764 Batch_id=468 Accuracy=99.39%: 100%|██████████| 469/469 [00:21<00:00, 21.72it/s]\n"
          ]
        },
        {
          "output_type": "stream",
          "name": "stdout",
          "text": [
            "\n",
            "Test set: Average loss: 0.0278, Accuracy: 9905/10000 (99.05%)\n",
            "\n",
            "EPOCH: 5\n"
          ]
        },
        {
          "output_type": "stream",
          "name": "stderr",
          "text": [
            "Loss=0.04073157534003258 Batch_id=468 Accuracy=99.59%: 100%|██████████| 469/469 [00:21<00:00, 22.18it/s]\n"
          ]
        },
        {
          "output_type": "stream",
          "name": "stdout",
          "text": [
            "\n",
            "Test set: Average loss: 0.0286, Accuracy: 9915/10000 (99.15%)\n",
            "\n",
            "EPOCH: 6\n"
          ]
        },
        {
          "output_type": "stream",
          "name": "stderr",
          "text": [
            "Loss=0.0017468458972871304 Batch_id=468 Accuracy=99.68%: 100%|██████████| 469/469 [00:21<00:00, 21.78it/s]\n"
          ]
        },
        {
          "output_type": "stream",
          "name": "stdout",
          "text": [
            "\n",
            "Test set: Average loss: 0.0297, Accuracy: 9914/10000 (99.14%)\n",
            "\n",
            "EPOCH: 7\n"
          ]
        },
        {
          "output_type": "stream",
          "name": "stderr",
          "text": [
            "Loss=0.15875424444675446 Batch_id=468 Accuracy=99.75%: 100%|██████████| 469/469 [00:21<00:00, 21.60it/s]\n"
          ]
        },
        {
          "output_type": "stream",
          "name": "stdout",
          "text": [
            "\n",
            "Test set: Average loss: 0.0334, Accuracy: 9908/10000 (99.08%)\n",
            "\n",
            "EPOCH: 8\n"
          ]
        },
        {
          "output_type": "stream",
          "name": "stderr",
          "text": [
            "Loss=0.047380480915308 Batch_id=468 Accuracy=99.76%: 100%|██████████| 469/469 [00:21<00:00, 21.55it/s]\n"
          ]
        },
        {
          "output_type": "stream",
          "name": "stdout",
          "text": [
            "\n",
            "Test set: Average loss: 0.0271, Accuracy: 9924/10000 (99.24%)\n",
            "\n",
            "EPOCH: 9\n"
          ]
        },
        {
          "output_type": "stream",
          "name": "stderr",
          "text": [
            "Loss=0.0008249827078543603 Batch_id=468 Accuracy=99.77%: 100%|██████████| 469/469 [00:22<00:00, 21.07it/s]\n"
          ]
        },
        {
          "output_type": "stream",
          "name": "stdout",
          "text": [
            "\n",
            "Test set: Average loss: 0.0247, Accuracy: 9925/10000 (99.25%)\n",
            "\n",
            "EPOCH: 10\n"
          ]
        },
        {
          "output_type": "stream",
          "name": "stderr",
          "text": [
            "Loss=0.0007086018449626863 Batch_id=468 Accuracy=99.85%: 100%|██████████| 469/469 [00:23<00:00, 19.69it/s]\n"
          ]
        },
        {
          "output_type": "stream",
          "name": "stdout",
          "text": [
            "\n",
            "Test set: Average loss: 0.0297, Accuracy: 9925/10000 (99.25%)\n",
            "\n",
            "EPOCH: 11\n"
          ]
        },
        {
          "output_type": "stream",
          "name": "stderr",
          "text": [
            "Loss=0.00037964293733239174 Batch_id=468 Accuracy=99.89%: 100%|██████████| 469/469 [00:22<00:00, 20.91it/s]\n"
          ]
        },
        {
          "output_type": "stream",
          "name": "stdout",
          "text": [
            "\n",
            "Test set: Average loss: 0.0270, Accuracy: 9934/10000 (99.34%)\n",
            "\n",
            "EPOCH: 12\n"
          ]
        },
        {
          "output_type": "stream",
          "name": "stderr",
          "text": [
            "Loss=0.004726060200482607 Batch_id=468 Accuracy=99.90%: 100%|██████████| 469/469 [00:21<00:00, 22.03it/s]\n"
          ]
        },
        {
          "output_type": "stream",
          "name": "stdout",
          "text": [
            "\n",
            "Test set: Average loss: 0.0316, Accuracy: 9926/10000 (99.26%)\n",
            "\n",
            "EPOCH: 13\n"
          ]
        },
        {
          "output_type": "stream",
          "name": "stderr",
          "text": [
            "Loss=0.004295483231544495 Batch_id=468 Accuracy=99.93%: 100%|██████████| 469/469 [00:21<00:00, 21.35it/s]\n"
          ]
        },
        {
          "output_type": "stream",
          "name": "stdout",
          "text": [
            "\n",
            "Test set: Average loss: 0.0322, Accuracy: 9927/10000 (99.27%)\n",
            "\n",
            "EPOCH: 14\n"
          ]
        },
        {
          "output_type": "stream",
          "name": "stderr",
          "text": [
            "Loss=0.00013004502397961915 Batch_id=468 Accuracy=99.96%: 100%|██████████| 469/469 [00:21<00:00, 21.72it/s]\n"
          ]
        },
        {
          "output_type": "stream",
          "name": "stdout",
          "text": [
            "\n",
            "Test set: Average loss: 0.0325, Accuracy: 9924/10000 (99.24%)\n",
            "\n"
          ]
        }
      ],
      "source": [
        "use_cuda = torch.cuda.is_available()\n",
        "device = torch.device(\"cuda\" if use_cuda else \"cpu\")\n",
        "model = Models.NetA().to(device)\n",
        "optimizer = optim.SGD(model.parameters(), lr=0.01, momentum=0.9)\n",
        "EPOCHS = 15\n",
        "for epoch in range(EPOCHS):\n",
        "    print(\"EPOCH:\", epoch)\n",
        "    train(model, device, train_loader, optimizer, epoch)\n",
        "    test(model, device, test_loader)"
      ]
    },
    {
      "cell_type": "code",
      "source": [
        "t = [t_items.item() for t_items in train_losses]\n",
        "\n",
        "fig, axs = plt.subplots(2,2,figsize=(15,10))\n",
        "axs[0, 0].plot(t)\n",
        "axs[0, 0].set_title(\"Training Loss\")\n",
        "axs[1, 0].plot(train_acc)\n",
        "axs[1, 0].set_title(\"Training Accuracy\")\n",
        "axs[0, 1].plot(test_losses)\n",
        "axs[0, 1].set_title(\"Test Loss\")\n",
        "axs[1, 1].plot(test_acc)\n",
        "axs[1, 1].set_title(\"Test Accuracy\")"
      ],
      "metadata": {
        "id": "ehPzXNjEotDK",
        "outputId": "20686cf7-25ed-4365-b55d-641606b2953c",
        "colab": {
          "base_uri": "https://localhost:8080/",
          "height": 870
        }
      },
      "execution_count": 27,
      "outputs": [
        {
          "output_type": "execute_result",
          "data": {
            "text/plain": [
              "Text(0.5, 1.0, 'Test Accuracy')"
            ]
          },
          "metadata": {},
          "execution_count": 27
        },
        {
          "output_type": "display_data",
          "data": {
            "text/plain": [
              "<Figure size 1500x1000 with 4 Axes>"
            ],
            "image/png": "[encoded data removed]"
          },
          "metadata": {}
        }
      ]
    },
    {
      "cell_type": "markdown",
      "source": [
        "# Analysis 1: Inital Model Setup and First Evaluation\n",
        "\n",
        "## Analysis\n",
        "\n",
        "1.   Given the MNIST dataset, which consists of 28x28 pixel grayscale images, it is very simple, does not required a very deep and complex network. in NetA archteicure, the last layers feature output uses 1024 channels, it will result large parameters (6 mil+ > required 8000)\n",
        "2.   From the model training accuracy vs. testing accuracy, it appares the overfitting.\n",
        "\n",
        "## Model Improvement Recommendations\n",
        "\n",
        "1. **Simplify the Network Architecture to reduce complexity:** Streamline the model by minimizing the number of layers and parameters. This can enhance generalization and reduce the risk of overfitting.\n",
        "\n",
        "2. **Manage Channel Expansion to control channel sizes:** Begin with a lower number of channels in the initial layers. Incrementally increase the number of channels in deeper layers only if necessary. A moderate number of channels can effectively capture the essential features in the MNIST dataset without leading to overfitting.\n",
        "\n",
        "---\n",
        "---\n",
        "---\n",
        "\n",
        "\n"
      ],
      "metadata": {
        "id": "MkoygjPEp6-u"
      }
    },
    {
      "cell_type": "markdown",
      "source": [
        "# Target 2: Simplify Model Architecture and Second Evaluation\n",
        "\n",
        "*   Manage Channel Expansion, the simplified architecture is defined in Class Models (model.py) **NetB** inner class with reduced input channels and output channels.\n",
        "*   Simplified the network architectures\n",
        "\n",
        "\n",
        "## Aim\n",
        "1.   **99.4%** (this must be consistently shown in your last few epochs, and not a one-time achievement)\n",
        "2.   Less than or equal to **15** Epochs\n",
        "3.   Less than **8000** Parameters\n",
        "\n",
        "\n",
        "\n"
      ],
      "metadata": {
        "id": "kvQNUDiK6aZZ"
      }
    },
    {
      "cell_type": "markdown",
      "source": [
        "# Result 2: Simplify Model Architecture and Second Evaluation\n",
        "\n",
        "## Result Capture\n",
        "- Record the performance metrics such as loss and accuracy for both training and validation phases.\n",
        "\n",
        "\n",
        "> **Parameter**: 44,650\n",
        "\n",
        "> **Best Training Accuracy**: EPOCH:8 (**99.42%**)\n",
        "\n",
        "> **Best Test Accuracy**: EPOCH:8 (**99.15%**)"
      ],
      "metadata": {
        "id": "H_WjAvL-8UbO"
      }
    },
    {
      "cell_type": "code",
      "source": [
        "Models.evaluate_model(Models.NetB)"
      ],
      "metadata": {
        "id": "HwpP3IOyyCFt",
        "outputId": "a4566a8e-8836-4110-ee00-bad3e93ca22e",
        "colab": {
          "base_uri": "https://localhost:8080/"
        }
      },
      "execution_count": 16,
      "outputs": [
        {
          "output_type": "stream",
          "name": "stdout",
          "text": [
            "----------------------------------------------------------------\n",
            "        Layer (type)               Output Shape         Param #\n",
            "================================================================\n",
            "            Conv2d-1           [-1, 16, 26, 26]             160\n",
            "              ReLU-2           [-1, 16, 26, 26]               0\n",
            "            Conv2d-3           [-1, 32, 24, 24]           4,640\n",
            "              ReLU-4           [-1, 32, 24, 24]               0\n",
            "         MaxPool2d-5           [-1, 32, 12, 12]               0\n",
            "            Conv2d-6           [-1, 64, 10, 10]          18,496\n",
            "              ReLU-7           [-1, 64, 10, 10]               0\n",
            "         MaxPool2d-8             [-1, 64, 5, 5]               0\n",
            "            Conv2d-9             [-1, 32, 3, 3]          18,464\n",
            "             ReLU-10             [-1, 32, 3, 3]               0\n",
            "           Conv2d-11             [-1, 10, 1, 1]           2,890\n",
            "================================================================\n",
            "Total params: 44,650\n",
            "Trainable params: 44,650\n",
            "Non-trainable params: 0\n",
            "----------------------------------------------------------------\n",
            "Input size (MB): 0.00\n",
            "Forward/backward pass size (MB): 0.60\n",
            "Params size (MB): 0.17\n",
            "Estimated Total Size (MB): 0.77\n",
            "----------------------------------------------------------------\n"
          ]
        }
      ]
    },
    {
      "cell_type": "code",
      "source": [
        "use_cuda = torch.cuda.is_available()\n",
        "device = torch.device(\"cuda\" if use_cuda else \"cpu\")\n",
        "model = Models.NetB().to(device)\n",
        "optimizer = optim.SGD(model.parameters(), lr=0.01, momentum=0.9)\n",
        "EPOCHS = 15\n",
        "for epoch in range(EPOCHS):\n",
        "    print(\"EPOCH:\", epoch)\n",
        "    train(model, device, train_loader, optimizer, epoch)\n",
        "    test(model, device, test_loader)"
      ],
      "metadata": {
        "id": "owFo4iai8Gca",
        "outputId": "ef524d11-968a-4e42-98c6-d18347a6e6cb",
        "colab": {
          "base_uri": "https://localhost:8080/"
        }
      },
      "execution_count": 17,
      "outputs": [
        {
          "output_type": "stream",
          "name": "stdout",
          "text": [
            "EPOCH: 0\n"
          ]
        },
        {
          "output_type": "stream",
          "name": "stderr",
          "text": [
            "\r  0%|          | 0/469 [00:00<?, ?it/s]/usr/local/lib/python3.10/dist-packages/torch/utils/data/dataloader.py:557: UserWarning: This DataLoader will create 4 worker processes in total. Our suggested max number of worker in current system is 2, which is smaller than what this DataLoader is going to create. Please be aware that excessive worker creation might get DataLoader running slow or even freeze, lower the worker number to avoid potential slowness/freeze if necessary.\n",
            "  warnings.warn(_create_warning_msg(\n",
            "Loss=0.031161854043602943 Batch_id=468 Accuracy=89.04%: 100%|██████████| 469/469 [00:17<00:00, 26.53it/s]\n"
          ]
        },
        {
          "output_type": "stream",
          "name": "stdout",
          "text": [
            "\n",
            "Test set: Average loss: 0.0631, Accuracy: 9795/10000 (97.95%)\n",
            "\n",
            "EPOCH: 1\n"
          ]
        },
        {
          "output_type": "stream",
          "name": "stderr",
          "text": [
            "Loss=0.12033449858427048 Batch_id=468 Accuracy=97.94%: 100%|██████████| 469/469 [00:19<00:00, 24.21it/s]\n"
          ]
        },
        {
          "output_type": "stream",
          "name": "stdout",
          "text": [
            "\n",
            "Test set: Average loss: 0.0508, Accuracy: 9852/10000 (98.52%)\n",
            "\n",
            "EPOCH: 2\n"
          ]
        },
        {
          "output_type": "stream",
          "name": "stderr",
          "text": [
            "Loss=0.03883303329348564 Batch_id=468 Accuracy=98.54%: 100%|██████████| 469/469 [00:18<00:00, 24.96it/s]\n"
          ]
        },
        {
          "output_type": "stream",
          "name": "stdout",
          "text": [
            "\n",
            "Test set: Average loss: 0.0417, Accuracy: 9880/10000 (98.80%)\n",
            "\n",
            "EPOCH: 3\n"
          ]
        },
        {
          "output_type": "stream",
          "name": "stderr",
          "text": [
            "Loss=0.0027813438791781664 Batch_id=468 Accuracy=98.80%: 100%|██████████| 469/469 [00:17<00:00, 26.85it/s]\n"
          ]
        },
        {
          "output_type": "stream",
          "name": "stdout",
          "text": [
            "\n",
            "Test set: Average loss: 0.0412, Accuracy: 9870/10000 (98.70%)\n",
            "\n",
            "EPOCH: 4\n"
          ]
        },
        {
          "output_type": "stream",
          "name": "stderr",
          "text": [
            "Loss=0.02860967069864273 Batch_id=468 Accuracy=98.97%: 100%|██████████| 469/469 [00:17<00:00, 26.50it/s]\n"
          ]
        },
        {
          "output_type": "stream",
          "name": "stdout",
          "text": [
            "\n",
            "Test set: Average loss: 0.0361, Accuracy: 9893/10000 (98.93%)\n",
            "\n",
            "EPOCH: 5\n"
          ]
        },
        {
          "output_type": "stream",
          "name": "stderr",
          "text": [
            "Loss=0.02320309914648533 Batch_id=468 Accuracy=99.14%: 100%|██████████| 469/469 [00:18<00:00, 25.63it/s]\n"
          ]
        },
        {
          "output_type": "stream",
          "name": "stdout",
          "text": [
            "\n",
            "Test set: Average loss: 0.0355, Accuracy: 9892/10000 (98.92%)\n",
            "\n",
            "EPOCH: 6\n"
          ]
        },
        {
          "output_type": "stream",
          "name": "stderr",
          "text": [
            "Loss=0.006894409190863371 Batch_id=468 Accuracy=99.24%: 100%|██████████| 469/469 [00:19<00:00, 24.49it/s]\n"
          ]
        },
        {
          "output_type": "stream",
          "name": "stdout",
          "text": [
            "\n",
            "Test set: Average loss: 0.0354, Accuracy: 9882/10000 (98.82%)\n",
            "\n",
            "EPOCH: 7\n"
          ]
        },
        {
          "output_type": "stream",
          "name": "stderr",
          "text": [
            "Loss=0.00782772433012724 Batch_id=468 Accuracy=99.37%: 100%|██████████| 469/469 [00:17<00:00, 26.49it/s]\n"
          ]
        },
        {
          "output_type": "stream",
          "name": "stdout",
          "text": [
            "\n",
            "Test set: Average loss: 0.0319, Accuracy: 9906/10000 (99.06%)\n",
            "\n",
            "EPOCH: 8\n"
          ]
        },
        {
          "output_type": "stream",
          "name": "stderr",
          "text": [
            "Loss=0.005994472187012434 Batch_id=468 Accuracy=99.42%: 100%|██████████| 469/469 [00:18<00:00, 25.48it/s]\n"
          ]
        },
        {
          "output_type": "stream",
          "name": "stdout",
          "text": [
            "\n",
            "Test set: Average loss: 0.0305, Accuracy: 9915/10000 (99.15%)\n",
            "\n",
            "EPOCH: 9\n"
          ]
        },
        {
          "output_type": "stream",
          "name": "stderr",
          "text": [
            "Loss=0.007736837491393089 Batch_id=468 Accuracy=99.46%: 100%|██████████| 469/469 [00:16<00:00, 27.60it/s]\n"
          ]
        },
        {
          "output_type": "stream",
          "name": "stdout",
          "text": [
            "\n",
            "Test set: Average loss: 0.0339, Accuracy: 9905/10000 (99.05%)\n",
            "\n",
            "EPOCH: 10\n"
          ]
        },
        {
          "output_type": "stream",
          "name": "stderr",
          "text": [
            "Loss=0.013863920234143734 Batch_id=468 Accuracy=99.56%: 100%|██████████| 469/469 [00:17<00:00, 27.03it/s]\n"
          ]
        },
        {
          "output_type": "stream",
          "name": "stdout",
          "text": [
            "\n",
            "Test set: Average loss: 0.0327, Accuracy: 9910/10000 (99.10%)\n",
            "\n",
            "EPOCH: 11\n"
          ]
        },
        {
          "output_type": "stream",
          "name": "stderr",
          "text": [
            "Loss=0.0020040825475007296 Batch_id=468 Accuracy=99.57%: 100%|██████████| 469/469 [00:17<00:00, 26.39it/s]\n"
          ]
        },
        {
          "output_type": "stream",
          "name": "stdout",
          "text": [
            "\n",
            "Test set: Average loss: 0.0342, Accuracy: 9905/10000 (99.05%)\n",
            "\n",
            "EPOCH: 12\n"
          ]
        },
        {
          "output_type": "stream",
          "name": "stderr",
          "text": [
            "Loss=0.0010165638523176312 Batch_id=468 Accuracy=99.59%: 100%|██████████| 469/469 [00:17<00:00, 26.12it/s]\n"
          ]
        },
        {
          "output_type": "stream",
          "name": "stdout",
          "text": [
            "\n",
            "Test set: Average loss: 0.0407, Accuracy: 9895/10000 (98.95%)\n",
            "\n",
            "EPOCH: 13\n"
          ]
        },
        {
          "output_type": "stream",
          "name": "stderr",
          "text": [
            "Loss=0.0014601144939661026 Batch_id=468 Accuracy=99.67%: 100%|██████████| 469/469 [00:17<00:00, 26.06it/s]\n"
          ]
        },
        {
          "output_type": "stream",
          "name": "stdout",
          "text": [
            "\n",
            "Test set: Average loss: 0.0346, Accuracy: 9904/10000 (99.04%)\n",
            "\n",
            "EPOCH: 14\n"
          ]
        },
        {
          "output_type": "stream",
          "name": "stderr",
          "text": [
            "Loss=0.001348346471786499 Batch_id=468 Accuracy=99.69%: 100%|██████████| 469/469 [00:16<00:00, 27.90it/s]\n"
          ]
        },
        {
          "output_type": "stream",
          "name": "stdout",
          "text": [
            "\n",
            "Test set: Average loss: 0.0326, Accuracy: 9914/10000 (99.14%)\n",
            "\n"
          ]
        }
      ]
    },
    {
      "cell_type": "code",
      "source": [
        "t = [t_items.item() for t_items in train_losses]\n",
        "\n",
        "fig, axs = plt.subplots(2,2,figsize=(15,10))\n",
        "axs[0, 0].plot(t)\n",
        "axs[0, 0].set_title(\"Training Loss\")\n",
        "axs[1, 0].plot(train_acc)\n",
        "axs[1, 0].set_title(\"Training Accuracy\")\n",
        "axs[0, 1].plot(test_losses)\n",
        "axs[0, 1].set_title(\"Test Loss\")\n",
        "axs[1, 1].plot(test_acc)\n",
        "axs[1, 1].set_title(\"Test Accuracy\")"
      ],
      "metadata": {
        "id": "65PWtJup8MfL",
        "outputId": "5ee3674b-f609-4a5d-d8f3-86bdd064303a",
        "colab": {
          "base_uri": "https://localhost:8080/",
          "height": 870
        }
      },
      "execution_count": 14,
      "outputs": [
        {
          "output_type": "execute_result",
          "data": {
            "text/plain": [
              "Text(0.5, 1.0, 'Test Accuracy')"
            ]
          },
          "metadata": {},
          "execution_count": 14
        },
        {
          "output_type": "display_data",
          "data": {
            "text/plain": [
              "<Figure size 1500x1000 with 4 Axes>"
            ],
            "image/png": "[encoded data removed]"
          },
          "metadata": {}
        }
      ]
    },
    {
      "cell_type": "markdown",
      "source": [
        "# Analysis 2: Simplify Model Architecture and Second Evaluation\n",
        "\n",
        "## Analysis\n",
        "\n",
        "1. The streamlined network architecture effectively reduces complexity, trimming the parameter count significantly from 6 million to 45K. This simplification represents a substantial improvement in model efficiency.\n",
        "\n",
        "2. The simplified model exhibits no signs of overfitting, indicating a well-balanced approach to learning. With additional epochs, it has the potential to achieve the targeted performance outcomes.\n",
        "\n",
        "## Model Improvement Recommendations\n",
        "\n",
        "1. Push further to reduce the channel size\n",
        "2. apply batch normalization after each convolutional layer before the activation function.\n",
        "3. To prevent overfitting, especially when training for more epochs or on datasets with limited diversity, include dropout layers after activation layers, 0.25 will be used.\n",
        "\n",
        "\n",
        "---\n",
        "---\n",
        "---"
      ],
      "metadata": {
        "id": "3-tgC_MBC5WR"
      }
    },
    {
      "cell_type": "markdown",
      "source": [
        "# Target 3: Tune Model Architecture to ehnace performance, generalisation and Third Evaluation (**NetC**)\n",
        "\n",
        "*   Batch Normalization\n",
        "*   Dropout for Regularization\n",
        "*   Include Padding in Convolutional Layers\n",
        "\n",
        "\n",
        "\n",
        "## Aim\n",
        "1.   **99.4%** (this must be consistently shown in your last few epochs, and not a one-time achievement)\n",
        "2.   Less than or equal to **15** Epochs\n",
        "3.   Less than **8000** Parameters\n",
        "\n"
      ],
      "metadata": {
        "id": "R9p86sTNKM2Q"
      }
    },
    {
      "cell_type": "markdown",
      "source": [
        "# Result 3: Tune Model Architecture to ehnace performance, generalisation and Third Evaluation (NetC)\n",
        "\n",
        "## Result Capture\n",
        "- Record the performance metrics such as loss and accuracy for both training and validation phases.\n",
        "\n",
        "\n",
        "> **Parameter**: 5650 < 8k\n",
        "\n",
        "> **Best Training Accuracy**: EPOCH:12 (**98.59%**)\n",
        "\n",
        "> **Best Test Accuracy**: EPOCH:12 (**98.61%**)"
      ],
      "metadata": {
        "id": "n5YV88_OrjNH"
      }
    },
    {
      "cell_type": "code",
      "source": [
        "Models.evaluate_model(Models.NetC)"
      ],
      "metadata": {
        "id": "AuuaL9ZLNB4L",
        "outputId": "af619bd0-f60d-4f84-8ab8-93f3b1f4a7a3",
        "colab": {
          "base_uri": "https://localhost:8080/"
        }
      },
      "execution_count": 7,
      "outputs": [
        {
          "output_type": "stream",
          "name": "stdout",
          "text": [
            "----------------------------------------------------------------\n",
            "        Layer (type)               Output Shape         Param #\n",
            "================================================================\n",
            "            Conv2d-1           [-1, 10, 28, 28]             100\n",
            "       BatchNorm2d-2           [-1, 10, 28, 28]              20\n",
            "              ReLU-3           [-1, 10, 28, 28]               0\n",
            "           Dropout-4           [-1, 10, 28, 28]               0\n",
            "            Conv2d-5           [-1, 20, 28, 28]           1,820\n",
            "       BatchNorm2d-6           [-1, 20, 28, 28]              40\n",
            "              ReLU-7           [-1, 20, 28, 28]               0\n",
            "           Dropout-8           [-1, 20, 28, 28]               0\n",
            "         MaxPool2d-9           [-1, 20, 14, 14]               0\n",
            "           Conv2d-10           [-1, 10, 14, 14]           1,810\n",
            "      BatchNorm2d-11           [-1, 10, 14, 14]              20\n",
            "             ReLU-12           [-1, 10, 14, 14]               0\n",
            "          Dropout-13           [-1, 10, 14, 14]               0\n",
            "        MaxPool2d-14             [-1, 10, 7, 7]               0\n",
            "           Conv2d-15             [-1, 10, 5, 5]             910\n",
            "      BatchNorm2d-16             [-1, 10, 5, 5]              20\n",
            "             ReLU-17             [-1, 10, 5, 5]               0\n",
            "           Conv2d-18             [-1, 10, 3, 3]             910\n",
            "AdaptiveAvgPool2d-19             [-1, 10, 1, 1]               0\n",
            "================================================================\n",
            "Total params: 5,650\n",
            "Trainable params: 5,650\n",
            "Non-trainable params: 0\n",
            "----------------------------------------------------------------\n",
            "Input size (MB): 0.00\n",
            "Forward/backward pass size (MB): 0.82\n",
            "Params size (MB): 0.02\n",
            "Estimated Total Size (MB): 0.84\n",
            "----------------------------------------------------------------\n"
          ]
        }
      ]
    },
    {
      "cell_type": "code",
      "source": [
        "use_cuda = torch.cuda.is_available()\n",
        "device = torch.device(\"cuda\" if use_cuda else \"cpu\")\n",
        "model = Models.NetC().to(device)\n",
        "optimizer = optim.SGD(model.parameters(), lr=0.01, momentum=0.9)\n",
        "EPOCHS = 15\n",
        "for epoch in range(EPOCHS):\n",
        "    print(\"EPOCH:\", epoch)\n",
        "    train(model, device, train_loader, optimizer, epoch)\n",
        "    test(model, device, test_loader)"
      ],
      "metadata": {
        "id": "vsy0k0SPNL45",
        "outputId": "745dbeab-9c02-4f7d-ae62-f90d34f9f0e1",
        "colab": {
          "base_uri": "https://localhost:8080/"
        }
      },
      "execution_count": 8,
      "outputs": [
        {
          "output_type": "stream",
          "name": "stdout",
          "text": [
            "EPOCH: 0\n"
          ]
        },
        {
          "output_type": "stream",
          "name": "stderr",
          "text": [
            "Loss=0.2551780939102173 Batch_id=468 Accuracy=84.31%: 100%|██████████| 469/469 [00:16<00:00, 27.78it/s]\n"
          ]
        },
        {
          "output_type": "stream",
          "name": "stdout",
          "text": [
            "\n",
            "Test set: Average loss: 0.3021, Accuracy: 9450/10000 (94.50%)\n",
            "\n",
            "EPOCH: 1\n"
          ]
        },
        {
          "output_type": "stream",
          "name": "stderr",
          "text": [
            "Loss=0.13949216902256012 Batch_id=468 Accuracy=96.49%: 100%|██████████| 469/469 [00:17<00:00, 26.41it/s]\n"
          ]
        },
        {
          "output_type": "stream",
          "name": "stdout",
          "text": [
            "\n",
            "Test set: Average loss: 0.1692, Accuracy: 9713/10000 (97.13%)\n",
            "\n",
            "EPOCH: 2\n"
          ]
        },
        {
          "output_type": "stream",
          "name": "stderr",
          "text": [
            "Loss=0.11397048085927963 Batch_id=468 Accuracy=97.27%: 100%|██████████| 469/469 [00:16<00:00, 28.95it/s]\n"
          ]
        },
        {
          "output_type": "stream",
          "name": "stdout",
          "text": [
            "\n",
            "Test set: Average loss: 0.1380, Accuracy: 9728/10000 (97.28%)\n",
            "\n",
            "EPOCH: 3\n"
          ]
        },
        {
          "output_type": "stream",
          "name": "stderr",
          "text": [
            "Loss=0.044262152165174484 Batch_id=468 Accuracy=97.69%: 100%|██████████| 469/469 [00:16<00:00, 29.15it/s]\n"
          ]
        },
        {
          "output_type": "stream",
          "name": "stdout",
          "text": [
            "\n",
            "Test set: Average loss: 0.1001, Accuracy: 9794/10000 (97.94%)\n",
            "\n",
            "EPOCH: 4\n"
          ]
        },
        {
          "output_type": "stream",
          "name": "stderr",
          "text": [
            "Loss=0.16977526247501373 Batch_id=468 Accuracy=97.90%: 100%|██████████| 469/469 [00:16<00:00, 28.25it/s]\n"
          ]
        },
        {
          "output_type": "stream",
          "name": "stdout",
          "text": [
            "\n",
            "Test set: Average loss: 0.0976, Accuracy: 9789/10000 (97.89%)\n",
            "\n",
            "EPOCH: 5\n"
          ]
        },
        {
          "output_type": "stream",
          "name": "stderr",
          "text": [
            "Loss=0.06621644645929337 Batch_id=468 Accuracy=98.03%: 100%|██████████| 469/469 [00:16<00:00, 28.88it/s]\n"
          ]
        },
        {
          "output_type": "stream",
          "name": "stdout",
          "text": [
            "\n",
            "Test set: Average loss: 0.1133, Accuracy: 9736/10000 (97.36%)\n",
            "\n",
            "EPOCH: 6\n"
          ]
        },
        {
          "output_type": "stream",
          "name": "stderr",
          "text": [
            "Loss=0.07339203357696533 Batch_id=468 Accuracy=98.19%: 100%|██████████| 469/469 [00:16<00:00, 28.08it/s]\n"
          ]
        },
        {
          "output_type": "stream",
          "name": "stdout",
          "text": [
            "\n",
            "Test set: Average loss: 0.1045, Accuracy: 9739/10000 (97.39%)\n",
            "\n",
            "EPOCH: 7\n"
          ]
        },
        {
          "output_type": "stream",
          "name": "stderr",
          "text": [
            "Loss=0.031861793249845505 Batch_id=468 Accuracy=98.36%: 100%|██████████| 469/469 [00:17<00:00, 27.46it/s]\n"
          ]
        },
        {
          "output_type": "stream",
          "name": "stdout",
          "text": [
            "\n",
            "Test set: Average loss: 0.0755, Accuracy: 9832/10000 (98.32%)\n",
            "\n",
            "EPOCH: 8\n"
          ]
        },
        {
          "output_type": "stream",
          "name": "stderr",
          "text": [
            "Loss=0.03924413397908211 Batch_id=468 Accuracy=98.35%: 100%|██████████| 469/469 [00:16<00:00, 28.14it/s]\n"
          ]
        },
        {
          "output_type": "stream",
          "name": "stdout",
          "text": [
            "\n",
            "Test set: Average loss: 0.0778, Accuracy: 9832/10000 (98.32%)\n",
            "\n",
            "EPOCH: 9\n"
          ]
        },
        {
          "output_type": "stream",
          "name": "stderr",
          "text": [
            "Loss=0.02377300150692463 Batch_id=468 Accuracy=98.44%: 100%|██████████| 469/469 [00:16<00:00, 29.16it/s]\n"
          ]
        },
        {
          "output_type": "stream",
          "name": "stdout",
          "text": [
            "\n",
            "Test set: Average loss: 0.0655, Accuracy: 9845/10000 (98.45%)\n",
            "\n",
            "EPOCH: 10\n"
          ]
        },
        {
          "output_type": "stream",
          "name": "stderr",
          "text": [
            "Loss=0.06138600781559944 Batch_id=468 Accuracy=98.47%: 100%|██████████| 469/469 [00:15<00:00, 29.65it/s]\n"
          ]
        },
        {
          "output_type": "stream",
          "name": "stdout",
          "text": [
            "\n",
            "Test set: Average loss: 0.0748, Accuracy: 9822/10000 (98.22%)\n",
            "\n",
            "EPOCH: 11\n"
          ]
        },
        {
          "output_type": "stream",
          "name": "stderr",
          "text": [
            "Loss=0.024509573355317116 Batch_id=468 Accuracy=98.50%: 100%|██████████| 469/469 [00:15<00:00, 30.39it/s]\n"
          ]
        },
        {
          "output_type": "stream",
          "name": "stdout",
          "text": [
            "\n",
            "Test set: Average loss: 0.0641, Accuracy: 9850/10000 (98.50%)\n",
            "\n",
            "EPOCH: 12\n"
          ]
        },
        {
          "output_type": "stream",
          "name": "stderr",
          "text": [
            "Loss=0.05318706855177879 Batch_id=468 Accuracy=98.59%: 100%|██████████| 469/469 [00:15<00:00, 30.06it/s]\n"
          ]
        },
        {
          "output_type": "stream",
          "name": "stdout",
          "text": [
            "\n",
            "Test set: Average loss: 0.0595, Accuracy: 9861/10000 (98.61%)\n",
            "\n",
            "EPOCH: 13\n"
          ]
        },
        {
          "output_type": "stream",
          "name": "stderr",
          "text": [
            "Loss=0.05101310834288597 Batch_id=468 Accuracy=98.63%: 100%|██████████| 469/469 [00:16<00:00, 28.53it/s]\n"
          ]
        },
        {
          "output_type": "stream",
          "name": "stdout",
          "text": [
            "\n",
            "Test set: Average loss: 0.0625, Accuracy: 9829/10000 (98.29%)\n",
            "\n",
            "EPOCH: 14\n"
          ]
        },
        {
          "output_type": "stream",
          "name": "stderr",
          "text": [
            "Loss=0.009602400474250317 Batch_id=468 Accuracy=98.62%: 100%|██████████| 469/469 [00:17<00:00, 27.37it/s]\n"
          ]
        },
        {
          "output_type": "stream",
          "name": "stdout",
          "text": [
            "\n",
            "Test set: Average loss: 0.0556, Accuracy: 9872/10000 (98.72%)\n",
            "\n"
          ]
        }
      ]
    },
    {
      "cell_type": "markdown",
      "source": [
        "# Analysis 3: Tune Model Architecture to ehnace performance, generalisation and Third Evaluation (NetC)\n",
        "\n",
        "## Analysis\n",
        "\n",
        "1. The revised model successfully meets the goal of having fewer than 8,000 parameters.\n",
        "\n",
        "2. Without showing signs of overfitting, the revised model achieves an impressive accuracy of 98.62% in fewer than 15 epochs. Through meticulous tuning and refinements, reaching the target accuracy of 99.4% is within reach\n",
        "\n",
        "## Model Improvement Recommendations\n",
        "\n",
        "1. Augmenting the dataset can help the model generalize better to unseen data. Techniques like slight rotations, translations, scaling.\n",
        "2."
      ],
      "metadata": {
        "id": "1L6VV5Y0soyP"
      }
    },
    {
      "cell_type": "code",
      "source": [],
      "metadata": {
        "id": "BBtT_hxVsoYi"
      },
      "execution_count": null,
      "outputs": []
    },
    {
      "cell_type": "code",
      "source": [
        "transform = transforms.Compose([\n",
        "    transforms.RandomAffine(degrees=5, translate=(0.1, 0.1), scale=(0.9, 1.1)),\n",
        "    transforms.ToTensor(),\n",
        "    transforms.Normalize((0.1307,), (0.3081,))\n",
        "])"
      ],
      "metadata": {
        "id": "Oedof5SmusPl"
      },
      "execution_count": null,
      "outputs": []
    }
  ],
  "metadata": {
    "accelerator": "GPU",
    "colab": {
      "provenance": [],
      "include_colab_link": true
    },
    "kernelspec": {
      "display_name": "Python 3",
      "name": "python3"
    }
  },
  "nbformat": 4,
  "nbformat_minor": 0
}