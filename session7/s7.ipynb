{
  "cells": [
    {
      "cell_type": "markdown",
      "metadata": {
        "id": "view-in-github",
        "colab_type": "text"
      },
      "source": [
        "<a href=\"https://colab.research.google.com/github/ping-Mel/ERV-V2-Assignments/blob/main/session7/s7.ipynb\" target=\"_parent\"><img src=\"https://colab.research.google.com/assets/colab-badge.svg\" alt=\"Open In Colab\"/></a>"
      ]
    },
    {
      "cell_type": "code",
      "execution_count": 1,
      "metadata": {
        "id": "tglh0twEe3Zz"
      },
      "outputs": [],
      "source": [
        "import torch\n",
        "import torch.nn as nn\n",
        "import torch.nn.functional as F\n",
        "from torchsummary import summary\n",
        "\n",
        "class Models:\n",
        "    \"\"\"\n",
        "    In this class, we organize our neural network architectures as nested/inner classes.\n",
        "    This approach groups related functionalities and creates an organized and encapsulated\n",
        "    code structure. Each neural network architecture is defined as an inner class within\n",
        "    this Models class. This allows for easy instantiation and clear hierarchy of neural\n",
        "    network models, each with its distinct architecture and characteristics.\n",
        "    \"\"\"\n",
        "    @staticmethod\n",
        "    def evaluate_model(model_class, input_size=(1, 28, 28)):\n",
        "        \"\"\"\n",
        "        Static method to evaluate the model architecture.\n",
        "        This method will print a summary of the model showing the layers and parameters.\n",
        "\n",
        "        Parameters:\n",
        "        model_class (class): The inner class representing the neural network architecture to evaluate.\n",
        "        input_size (tuple): The size of the input to the model. Default is (1, 28, 28) for MNIST dataset.\n",
        "        \"\"\"\n",
        "        # Check for CUDA availability and set the device accordingly\n",
        "        use_cuda = torch.cuda.is_available()\n",
        "        device = torch.device(\"cuda\" if use_cuda else \"cpu\")\n",
        "\n",
        "        # Initialize the model from the inner class and move to the appropriate device\n",
        "        model = model_class().to(device)\n",
        "\n",
        "        # Print the summary of the model\n",
        "        summary(model, input_size=input_size)\n",
        "\n",
        "\n",
        "\n",
        "    class NetA(nn.Module):\n",
        "        \"\"\"\n",
        "        Inner class representing an initial neural network architecture.\n",
        "        \"\"\"\n",
        "        def __init__(self):\n",
        "            super(Models.NetA, self).__init__()\n",
        "            # Convolutional layers\n",
        "            #R_in, N_in, j_in, S, R_out, N_out, J_out, P, K\n",
        "            # 1    28      1   1    3      28     1    1  3\n",
        "            self.conv1 = nn.Conv2d(1, 32, 3, padding=1)\n",
        "            #R_in, N_in, j_in, S, R_out, N_out, J_out, P, K\n",
        "            # 3    28      1   1    5      28     1    1  3\n",
        "            self.conv2 = nn.Conv2d(32, 64, 3, padding=1)\n",
        "            #R_in, N_in, j_in, S, R_out, N_out, J_out, P, K\n",
        "            # 5    28      1   2    6      14     2    0  2\n",
        "            self.pool1 = nn.MaxPool2d(2, 2)\n",
        "            #R_in, N_in, j_in, S, R_out, N_out, J_out, P, K\n",
        "            # 6    14      2   1    10     14     2    1  3\n",
        "            self.conv3 = nn.Conv2d(64, 128, 3, padding=1)\n",
        "            #R_in, N_in, j_in, S, R_out, N_out, J_out, P, K\n",
        "            # 10    14     2   1    14     14     2    1  3\n",
        "            self.conv4 = nn.Conv2d(128, 256, 3, padding=1)\n",
        "            #R_in, N_in, j_in, S, R_out, N_out, J_out, P, K\n",
        "            # 14    14     2   2    16     7     4     0  2\n",
        "            self.pool2 = nn.MaxPool2d(2, 2)\n",
        "            #R_in, N_in, j_in, S, R_out, N_out, J_out, P, K\n",
        "            # 16    7      4   1    24     5     4     0  3\n",
        "            self.conv5 = nn.Conv2d(256, 512, 3)\n",
        "            #R_in, N_in, j_in, S, R_out, N_out, J_out, P, K\n",
        "            # 24    5     4    1    32     3     4     0  3\n",
        "            self.conv6 = nn.Conv2d(512, 1024, 3)\n",
        "            #R_in, N_in, j_in, S, R_out, N_out, J_out, P, K\n",
        "            # 32    3      4   1    40     1     4     0  3\n",
        "            self.conv7 = nn.Conv2d(1024, 10, 3)\n",
        "\n",
        "        def forward(self, x):\n",
        "            x = self.pool1(F.relu(self.conv2(F.relu(self.conv1(x)))))\n",
        "            x = self.pool2(F.relu(self.conv4(F.relu(self.conv3(x)))))\n",
        "            x = F.relu(self.conv6(F.relu(self.conv5(x))))\n",
        "            x = self.conv7(x)\n",
        "            x = x.view(-1, 10) #1x1x10> 10\n",
        "            return F.log_softmax(x, dim=-1)\n",
        "\n",
        "    class NetB(nn.Module):\n",
        "        \"\"\"\n",
        "        Inner class representing a simple neural network architecture with reduced the channel size.\n",
        "        \"\"\"\n",
        "        def __init__(self):\n",
        "            super(Models.NetB, self).__init__()\n",
        "            #R_in, N_in, j_in, S, R_out, N_out, J_out, P, K\n",
        "            # 1    28      1   1    3      26     1    0  3\n",
        "            self.convblock1 = nn.Sequential(\n",
        "              nn.Conv2d(1, 16, 3),\n",
        "              nn.ReLU()\n",
        "            )\n",
        "            #R_in, N_in, j_in, S, R_out, N_out, J_out, P, K\n",
        "            # 3    26      1   1    5      24     1    0  3\n",
        "            self.convblock2 = nn.Sequential(\n",
        "              nn.Conv2d(16, 32 , 3),\n",
        "              nn.ReLU()\n",
        "            )\n",
        "            #R_in, N_in, j_in, S, R_out, N_out, J_out, P, K\n",
        "            # 5    24      1   2    6      12     2    0  2\n",
        "            self.pool1 = nn.MaxPool2d(2, 2)\n",
        "            #R_in, N_in, j_in, S, R_out, N_out, J_out, P, K\n",
        "            # 6    12      2   1    10       10     2    0  3\n",
        "            self.convblock3 = nn.Sequential(\n",
        "              nn.Conv2d(32, 64 , 3),\n",
        "              nn.ReLU()\n",
        "            )\n",
        "            #R_in, N_in, j_in, S, R_out, N_out, J_out, P, K\n",
        "            # 10    10      2   2    14    5     4     0  2\n",
        "            self.pool2 = nn.MaxPool2d(2, 2)\n",
        "            #R_in, N_in, j_in, S, R_out, N_out, J_out, P, K\n",
        "            # 14    5      4   1    22    3     4     0  3\n",
        "            self.convblock4 = nn.Sequential(\n",
        "              nn.Conv2d(64, 32 , 3),\n",
        "              nn.ReLU()\n",
        "            )\n",
        "            #R_in, N_in, j_in, S, R_out, N_out, J_out, P, K\n",
        "            # 22    3      4   1    30    1     4     0  3\n",
        "            self.convblock5 = nn.Sequential(\n",
        "              nn.Conv2d(32, 10 , 3),\n",
        "            )\n",
        "\n",
        "\n",
        "        def forward(self, x):\n",
        "          x = self.convblock1(x)\n",
        "          x = self.convblock2(x)\n",
        "          x = self.pool1(x)\n",
        "          x = self.convblock3(x)\n",
        "          x = self.pool2(x)\n",
        "          x = self.convblock4(x)\n",
        "          x = self.convblock5(x)\n",
        "          x = x.view(-1, 10)\n",
        "          return F.log_softmax(x, dim=-1)\n",
        "\n",
        "    class NetC(nn.Module):\n",
        "        \"\"\"\n",
        "        Inner class representing a simple neural network architecture with reduced the channel size.\n",
        "        \"\"\"\n",
        "        def __init__(self):\n",
        "            super(Models.NetC, self).__init__()\n",
        "            #R_in, N_in, j_in, S, R_out, N_out, J_out, P, K\n",
        "            # 1    28      1   1    3     28     1     1  3\n",
        "            self.convblock1 = nn.Sequential(\n",
        "              nn.Conv2d(1, 10, 3, padding=1),\n",
        "              nn.BatchNorm2d(10),\n",
        "              nn.ReLU(),\n",
        "              nn.Dropout(0.25)\n",
        "            )\n",
        "            #R_in, N_in, j_in, S, R_out, N_out, J_out, P, K\n",
        "            # 3    28      1   1    5     28     1     1  3\n",
        "            self.convblock2 = nn.Sequential(\n",
        "              nn.Conv2d(10, 20 , 3, padding=1),\n",
        "              nn.BatchNorm2d(20),\n",
        "              nn.ReLU(),\n",
        "              nn.Dropout(0.25)\n",
        "            )\n",
        "            #R_in, N_in, j_in, S, R_out, N_out, J_out, P, K\n",
        "            # 5    28      1   2    6     14     2     0  2\n",
        "            self.pool1 = nn.MaxPool2d(2, 2)\n",
        "            #R_in, N_in, j_in, S, R_out, N_out, J_out, P, K\n",
        "            # 6    14      2   1    10     14     2    1  3\n",
        "            self.convblock3 = nn.Sequential(\n",
        "              nn.Conv2d(20, 10 , 3, padding=1),\n",
        "              nn.BatchNorm2d(10),\n",
        "              nn.ReLU(),\n",
        "              nn.Dropout(0.25)\n",
        "            )\n",
        "            #R_in, N_in, j_in, S, R_out, N_out, J_out, P, K\n",
        "            # 10    14      2   2    12     7     4    0  2\n",
        "            self.pool2 = nn.MaxPool2d(2, 2)\n",
        "            #R_in, N_in, j_in, S, R_out, N_out, J_out, P, K\n",
        "            # 12    7      4   1    20     5     4    0  3\n",
        "            self.convblock4 = nn.Sequential(\n",
        "              nn.Conv2d(10, 10 , 3),\n",
        "              nn.BatchNorm2d(10),\n",
        "              nn.ReLU()\n",
        "            )\n",
        "            #R_in, N_in, j_in, S, R_out, N_out, J_out, P, K\n",
        "            # 20    5      4   1    28     3     4    0  3\n",
        "            self.convblock5 = nn.Sequential(\n",
        "              nn.Conv2d(10, 10 , 3),\n",
        "              nn.AdaptiveAvgPool2d(1)\n",
        "            )\n",
        "\n",
        "\n",
        "        def forward(self, x):\n",
        "          x = self.convblock1(x)\n",
        "          x = self.convblock2(x)\n",
        "          x = self.pool1(x)\n",
        "          x = self.convblock3(x)\n",
        "          x = self.pool2(x)\n",
        "          x = self.convblock4(x)\n",
        "          x = self.convblock5(x)\n",
        "          x = x.view(-1, 10)\n",
        "          return F.log_softmax(x, dim=-1)\n",
        "    class NetD(nn.Module):\n",
        "        \"\"\"\n",
        "        Inner class representing a simple neural network architecture with reduced the channel size.\n",
        "        \"\"\"\n",
        "        def __init__(self):\n",
        "            super(Models.NetD, self).__init__()\n",
        "            #R_in, N_in, j_in, S, R_out, N_out, J_out, P, K\n",
        "            # 1    28      1   1    3     26     1     0  3\n",
        "            self.convblock1 = nn.Sequential(\n",
        "              nn.Conv2d(1, 16, 3),\n",
        "              nn.BatchNorm2d(16),\n",
        "              nn.ReLU(),\n",
        "              nn.Dropout(0.1)\n",
        "            )\n",
        "            #R_in, N_in, j_in, S, R_out, N_out, J_out, P, K\n",
        "            # 3    26      1   1    5     24     1     0  3\n",
        "            self.convblock2 = nn.Sequential(\n",
        "              nn.Conv2d(16, 16 , 3),\n",
        "              nn.BatchNorm2d(16),\n",
        "              nn.ReLU(),\n",
        "              nn.Dropout(0.1)\n",
        "            )\n",
        "\n",
        "            #R_in, N_in, j_in, S, R_out, N_out, J_out, P, K\n",
        "            # 5     24     1  1     5      23    1   0  1\n",
        "            self.convblock3 = nn.Sequential(\n",
        "              nn.Conv2d(16, 10 , 1),\n",
        "              nn.BatchNorm2d(10),\n",
        "              nn.ReLU(),\n",
        "              nn.Dropout(0.1)\n",
        "            )\n",
        "            #R_in, N_in, j_in, S, R_out, N_out, J_out, P, K\n",
        "            # 5    23      1   2    6      11     2     0  2\n",
        "            self.pool1 = nn.MaxPool2d(2, 2)\n",
        "\n",
        "            #R_in, N_in, j_in, S, R_out, N_out, J_out, P, K\n",
        "            # 6    11      2   1     6     11     2    0  1\n",
        "            self.convblock4 = nn.Sequential(\n",
        "              nn.Conv2d(10, 10 , 1),\n",
        "              nn.BatchNorm2d(10),\n",
        "              nn.ReLU(),\n",
        "              nn.Dropout(0.1)\n",
        "            )\n",
        "\n",
        "            #R_in, N_in, j_in, S, R_out, N_out, J_out, P, K\n",
        "            # 6    11     2   2     8      5    4    0  2\n",
        "            self.pool2 = nn.MaxPool2d(2, 2)\n",
        "\n",
        "            #R_in, N_in, j_in, S, R_out, N_out, J_out, P, K\n",
        "            # 8    5      4   1    16     5       4    1  3\n",
        "            self.convblock5 = nn.Sequential(\n",
        "              nn.Conv2d(10, 10 , 3, padding=1),\n",
        "              nn.ReLU(),\n",
        "              nn.BatchNorm2d(10),\n",
        "              nn.Dropout(0.1)\n",
        "            )\n",
        "\n",
        "            #R_in, N_in, j_in, S, R_out, N_out, J_out, P, K\n",
        "            # 16    5      4   1    24     5       4    1  3\n",
        "            self.convblock6 = nn.Sequential(\n",
        "              nn.Conv2d(10, 10 , 3, padding=1),\n",
        "              nn.ReLU(),\n",
        "              nn.BatchNorm2d(10),\n",
        "              nn.Dropout(0.1)\n",
        "            )\n",
        "\n",
        "            #R_in, N_in, j_in, S, R_out, N_out, J_out, P, K\n",
        "            # 24    5      4   1    32     3       4   0  3\n",
        "            self.convblock7 = nn.Sequential(\n",
        "              nn.Conv2d(10, 10 , 3),\n",
        "              nn.ReLU(),\n",
        "              nn.BatchNorm2d(10),\n",
        "              nn.Dropout(0.1)\n",
        "            )\n",
        "\n",
        "\n",
        "            #R_in, N_in, j_in, S, R_out, N_out, J_out, P, K\n",
        "            # 32    3      4   1    40     1       4   0  3\n",
        "            self.convblock8 = nn.Sequential(\n",
        "              nn.Conv2d(10, 10 , 3)\n",
        "            )\n",
        "\n",
        "            self.global_avg_pool = nn.AdaptiveAvgPool2d(1)  # Global pooling to reduce parameters\n",
        "\n",
        "            self.classifier = nn.Linear(10, 10)  # Classifier\n",
        "\n",
        "\n",
        "        def forward(self, x):\n",
        "          x = self.convblock1(x)\n",
        "          x = self.convblock2(x)\n",
        "          x = self.convblock3(x)\n",
        "          x = self.pool1(x)\n",
        "          x = self.convblock4(x)\n",
        "          x = self.pool2(x)\n",
        "          x = self.convblock5(x)\n",
        "          x = self.convblock6(x)\n",
        "          x = self.convblock7(x)\n",
        "          x = self.convblock8(x)\n",
        "          x = self.global_avg_pool(x)\n",
        "          x = x.view(-1, 10)\n",
        "          x = self.classifier(x)\n",
        "          return F.log_softmax(x, dim=-1)"
      ]
    },
    {
      "cell_type": "code",
      "execution_count": 3,
      "metadata": {
        "id": "0m2JWFliFfKT",
        "colab": {
          "base_uri": "https://localhost:8080/"
        },
        "outputId": "3f4741b3-9431-44fe-cefa-381d66d1d53b"
      },
      "outputs": [
        {
          "output_type": "stream",
          "name": "stdout",
          "text": [
            "Requirement already satisfied: torchsummary in /usr/local/lib/python3.10/dist-packages (1.5.1)\n"
          ]
        }
      ],
      "source": [
        "!pip install torchsummary\n",
        "\n",
        "from __future__ import print_function\n",
        "import torch.optim as optim\n",
        "from torchvision import datasets, transforms\n",
        "import matplotlib.pyplot as plt"
      ]
    },
    {
      "cell_type": "markdown",
      "source": [
        "# Target 1: Inital Model Setup and First Evaluation\n",
        "\n",
        "## Initial Setup\n",
        "- Construct the **basic skeleton** of the neural network model. This includes defining the layers and forward pass logic in Class Models (model.py) NetA inner class.\n",
        "- Ensure that the code is functional and can execute without errors.\n",
        "\n",
        "## Aim\n",
        "1.   **99.4%** (this must be consistently shown in your last few epochs, and not a one-time achievement)\n",
        "2.   Less than or equal to **15** Epochs\n",
        "3.   Less than **8000** Parameters"
      ],
      "metadata": {
        "id": "n7-uVFdBiqZs"
      }
    },
    {
      "cell_type": "code",
      "source": [
        "# Train Phase transformations\n",
        "train_transforms = transforms.Compose([\n",
        "                                      #  transforms.Resize((28, 28)),\n",
        "                                      #  transforms.ColorJitter(brightness=0.10, contrast=0.1, saturation=0.10, hue=0.1),\n",
        "                                       transforms.ToTensor(),\n",
        "                                       transforms.Normalize((0.1307,), (0.3081,)) # The mean and std have to be sequences (e.g., tuples), therefore you should add a comma after the values.\n",
        "                                       # Note the difference between (0.1307) and (0.1307,)\n",
        "                                       ])\n",
        "\n",
        "# Test Phase transformations\n",
        "test_transforms = transforms.Compose([\n",
        "                                      #  transforms.Resize((28, 28)),\n",
        "                                      #  transforms.ColorJitter(brightness=0.10, contrast=0.1, saturation=0.10, hue=0.1),\n",
        "                                       transforms.ToTensor(),\n",
        "                                       transforms.Normalize((0.1307,), (0.3081,))\n",
        "                                       ])"
      ],
      "metadata": {
        "id": "r-7f44K2lAhp"
      },
      "execution_count": null,
      "outputs": []
    },
    {
      "cell_type": "code",
      "source": [
        "train = datasets.MNIST('./data', train=True, download=True, transform=train_transforms)\n",
        "test = datasets.MNIST('./data', train=False, download=True, transform=test_transforms)"
      ],
      "metadata": {
        "id": "sPJpIkhglCR2"
      },
      "execution_count": null,
      "outputs": []
    },
    {
      "cell_type": "code",
      "source": [
        "SEED = 1\n",
        "\n",
        "# CUDA?\n",
        "cuda = torch.cuda.is_available()\n",
        "print(\"CUDA Available?\", cuda)\n",
        "\n",
        "# For reproducibility\n",
        "torch.manual_seed(SEED)\n",
        "\n",
        "if cuda:\n",
        "    torch.cuda.manual_seed(SEED)\n",
        "\n",
        "# dataloader arguments - something you'll fetch these from cmdprmt\n",
        "dataloader_args = dict(shuffle=True, batch_size=128, num_workers=4, pin_memory=True) if cuda else dict(shuffle=True, batch_size=64)\n",
        "\n",
        "# train dataloader\n",
        "train_loader = torch.utils.data.DataLoader(train, **dataloader_args)\n",
        "\n",
        "# test dataloader\n",
        "test_loader = torch.utils.data.DataLoader(test, **dataloader_args)"
      ],
      "metadata": {
        "colab": {
          "base_uri": "https://localhost:8080/"
        },
        "id": "l1TLQwoGlMdD",
        "outputId": "07bb6a2f-c046-4aee-d418-115564b9dba4"
      },
      "execution_count": null,
      "outputs": [
        {
          "output_type": "stream",
          "name": "stdout",
          "text": [
            "CUDA Available? True\n"
          ]
        }
      ]
    },
    {
      "cell_type": "code",
      "execution_count": null,
      "metadata": {
        "id": "8fDefDhaFlwH"
      },
      "outputs": [],
      "source": [
        "from tqdm import tqdm\n",
        "\n",
        "train_losses = []\n",
        "test_losses = []\n",
        "train_acc = []\n",
        "test_acc = []\n",
        "\n",
        "def train(model, device, train_loader, optimizer, epoch):\n",
        "  model.train()\n",
        "  pbar = tqdm(train_loader)\n",
        "  correct = 0\n",
        "  processed = 0\n",
        "  for batch_idx, (data, target) in enumerate(pbar):\n",
        "    # get samples\n",
        "    data, target = data.to(device), target.to(device)\n",
        "\n",
        "    # Init\n",
        "    optimizer.zero_grad()\n",
        "    # In PyTorch, we need to set the gradients to zero before starting to do backpropragation because PyTorch accumulates the gradients on subsequent backward passes.\n",
        "    # Because of this, when you start your training loop, ideally you should zero out the gradients so that you do the parameter update correctly.\n",
        "\n",
        "    # Predict\n",
        "    y_pred = model(data)\n",
        "\n",
        "    # Calculate loss\n",
        "    loss = F.nll_loss(y_pred, target)\n",
        "    train_losses.append(loss)\n",
        "\n",
        "    # Backpropagation\n",
        "    loss.backward()\n",
        "    optimizer.step()\n",
        "\n",
        "    # Update pbar-tqdm\n",
        "\n",
        "    pred = y_pred.argmax(dim=1, keepdim=True)  # get the index of the max log-probability\n",
        "    correct += pred.eq(target.view_as(pred)).sum().item()\n",
        "    processed += len(data)\n",
        "\n",
        "    pbar.set_description(desc= f'Loss={loss.item()} Batch_id={batch_idx} Accuracy={100*correct/processed:0.2f}%')\n",
        "    train_acc.append(100*correct/processed)\n",
        "\n",
        "def test(model, device, test_loader):\n",
        "    model.eval()\n",
        "    test_loss = 0\n",
        "    correct = 0\n",
        "    with torch.no_grad():\n",
        "        for data, target in test_loader:\n",
        "            data, target = data.to(device), target.to(device)\n",
        "            output = model(data)\n",
        "            test_loss += F.nll_loss(output, target, reduction='sum').item()  # sum up batch loss\n",
        "            pred = output.argmax(dim=1, keepdim=True)  # get the index of the max log-probability\n",
        "            correct += pred.eq(target.view_as(pred)).sum().item()\n",
        "\n",
        "    test_loss /= len(test_loader.dataset)\n",
        "    test_losses.append(test_loss)\n",
        "\n",
        "    print('\\nTest set: Average loss: {:.4f}, Accuracy: {}/{} ({:.2f}%)\\n'.format(\n",
        "        test_loss, correct, len(test_loader.dataset),\n",
        "        100. * correct / len(test_loader.dataset)))\n",
        "\n",
        "    test_acc.append(100. * correct / len(test_loader.dataset))\n"
      ]
    },
    {
      "cell_type": "markdown",
      "source": [
        "# Result 1: Inital Model Setup and First Evaluation\n",
        "\n",
        "## Model Evaluation\n",
        "- Assess the **model parameters** using static method **evaluate_model** in Class **Models** to understand the complexity and capacity of the network.\n",
        "\n",
        "## Training and Testing\n",
        "- Train the model with the training dataset and validate its performance on a separate validation set.\n",
        "- Evaluate the **accuracy** of the model using the test dataset to ensure that it meets the preliminary performance benchmarks.\n",
        "\n",
        "## Result Capture\n",
        "- Record the performance metrics such as loss and accuracy for both training and validation phases.\n",
        "\n",
        "\n",
        "> **Parameter**:6,379,786\n",
        "\n",
        "> **Best Training Accuracy**: EPOCH:14 (**99.96%**)\n",
        "\n",
        "> **Best Test Accuracy**: EPOCH:14 (**99.24%**)\n",
        "\n"
      ],
      "metadata": {
        "id": "J_27-gbKiYt0"
      }
    },
    {
      "cell_type": "code",
      "execution_count": null,
      "metadata": {
        "colab": {
          "base_uri": "https://localhost:8080/"
        },
        "id": "xdydjYTZFyi3",
        "outputId": "b65275f9-1c7f-4ea9-85c9-06b6aab5bb64"
      },
      "outputs": [
        {
          "output_type": "stream",
          "name": "stdout",
          "text": [
            "----------------------------------------------------------------\n",
            "        Layer (type)               Output Shape         Param #\n",
            "================================================================\n",
            "            Conv2d-1           [-1, 32, 28, 28]             320\n",
            "            Conv2d-2           [-1, 64, 28, 28]          18,496\n",
            "         MaxPool2d-3           [-1, 64, 14, 14]               0\n",
            "            Conv2d-4          [-1, 128, 14, 14]          73,856\n",
            "            Conv2d-5          [-1, 256, 14, 14]         295,168\n",
            "         MaxPool2d-6            [-1, 256, 7, 7]               0\n",
            "            Conv2d-7            [-1, 512, 5, 5]       1,180,160\n",
            "            Conv2d-8           [-1, 1024, 3, 3]       4,719,616\n",
            "            Conv2d-9             [-1, 10, 1, 1]          92,170\n",
            "================================================================\n",
            "Total params: 6,379,786\n",
            "Trainable params: 6,379,786\n",
            "Non-trainable params: 0\n",
            "----------------------------------------------------------------\n",
            "Input size (MB): 0.00\n",
            "Forward/backward pass size (MB): 1.51\n",
            "Params size (MB): 24.34\n",
            "Estimated Total Size (MB): 25.85\n",
            "----------------------------------------------------------------\n"
          ]
        }
      ],
      "source": [
        "Models.evaluate_model(Models.NetA)"
      ]
    },
    {
      "cell_type": "code",
      "execution_count": null,
      "metadata": {
        "colab": {
          "base_uri": "https://localhost:8080/"
        },
        "id": "MMWbLWO6FuHb",
        "outputId": "d9a16ab0-f042-4736-bd5e-5f276dbbd282"
      },
      "outputs": [
        {
          "output_type": "stream",
          "name": "stdout",
          "text": [
            "EPOCH: 0\n"
          ]
        },
        {
          "output_type": "stream",
          "name": "stderr",
          "text": [
            "Loss=0.03761669248342514 Batch_id=468 Accuracy=87.55%: 100%|██████████| 469/469 [00:21<00:00, 21.80it/s]\n"
          ]
        },
        {
          "output_type": "stream",
          "name": "stdout",
          "text": [
            "\n",
            "Test set: Average loss: 0.0704, Accuracy: 9773/10000 (97.73%)\n",
            "\n",
            "EPOCH: 1\n"
          ]
        },
        {
          "output_type": "stream",
          "name": "stderr",
          "text": [
            "Loss=0.038250882178545 Batch_id=468 Accuracy=98.24%: 100%|██████████| 469/469 [00:22<00:00, 20.91it/s]\n"
          ]
        },
        {
          "output_type": "stream",
          "name": "stdout",
          "text": [
            "\n",
            "Test set: Average loss: 0.0359, Accuracy: 9875/10000 (98.75%)\n",
            "\n",
            "EPOCH: 2\n"
          ]
        },
        {
          "output_type": "stream",
          "name": "stderr",
          "text": [
            "Loss=0.09250428527593613 Batch_id=468 Accuracy=98.86%: 100%|██████████| 469/469 [00:23<00:00, 19.79it/s]\n"
          ]
        },
        {
          "output_type": "stream",
          "name": "stdout",
          "text": [
            "\n",
            "Test set: Average loss: 0.0352, Accuracy: 9879/10000 (98.79%)\n",
            "\n",
            "EPOCH: 3\n"
          ]
        },
        {
          "output_type": "stream",
          "name": "stderr",
          "text": [
            "Loss=0.0018328595906496048 Batch_id=468 Accuracy=99.21%: 100%|██████████| 469/469 [00:22<00:00, 20.52it/s]\n"
          ]
        },
        {
          "output_type": "stream",
          "name": "stdout",
          "text": [
            "\n",
            "Test set: Average loss: 0.0260, Accuracy: 9909/10000 (99.09%)\n",
            "\n",
            "EPOCH: 4\n"
          ]
        },
        {
          "output_type": "stream",
          "name": "stderr",
          "text": [
            "Loss=0.004556652158498764 Batch_id=468 Accuracy=99.39%: 100%|██████████| 469/469 [00:21<00:00, 21.72it/s]\n"
          ]
        },
        {
          "output_type": "stream",
          "name": "stdout",
          "text": [
            "\n",
            "Test set: Average loss: 0.0278, Accuracy: 9905/10000 (99.05%)\n",
            "\n",
            "EPOCH: 5\n"
          ]
        },
        {
          "output_type": "stream",
          "name": "stderr",
          "text": [
            "Loss=0.04073157534003258 Batch_id=468 Accuracy=99.59%: 100%|██████████| 469/469 [00:21<00:00, 22.18it/s]\n"
          ]
        },
        {
          "output_type": "stream",
          "name": "stdout",
          "text": [
            "\n",
            "Test set: Average loss: 0.0286, Accuracy: 9915/10000 (99.15%)\n",
            "\n",
            "EPOCH: 6\n"
          ]
        },
        {
          "output_type": "stream",
          "name": "stderr",
          "text": [
            "Loss=0.0017468458972871304 Batch_id=468 Accuracy=99.68%: 100%|██████████| 469/469 [00:21<00:00, 21.78it/s]\n"
          ]
        },
        {
          "output_type": "stream",
          "name": "stdout",
          "text": [
            "\n",
            "Test set: Average loss: 0.0297, Accuracy: 9914/10000 (99.14%)\n",
            "\n",
            "EPOCH: 7\n"
          ]
        },
        {
          "output_type": "stream",
          "name": "stderr",
          "text": [
            "Loss=0.15875424444675446 Batch_id=468 Accuracy=99.75%: 100%|██████████| 469/469 [00:21<00:00, 21.60it/s]\n"
          ]
        },
        {
          "output_type": "stream",
          "name": "stdout",
          "text": [
            "\n",
            "Test set: Average loss: 0.0334, Accuracy: 9908/10000 (99.08%)\n",
            "\n",
            "EPOCH: 8\n"
          ]
        },
        {
          "output_type": "stream",
          "name": "stderr",
          "text": [
            "Loss=0.047380480915308 Batch_id=468 Accuracy=99.76%: 100%|██████████| 469/469 [00:21<00:00, 21.55it/s]\n"
          ]
        },
        {
          "output_type": "stream",
          "name": "stdout",
          "text": [
            "\n",
            "Test set: Average loss: 0.0271, Accuracy: 9924/10000 (99.24%)\n",
            "\n",
            "EPOCH: 9\n"
          ]
        },
        {
          "output_type": "stream",
          "name": "stderr",
          "text": [
            "Loss=0.0008249827078543603 Batch_id=468 Accuracy=99.77%: 100%|██████████| 469/469 [00:22<00:00, 21.07it/s]\n"
          ]
        },
        {
          "output_type": "stream",
          "name": "stdout",
          "text": [
            "\n",
            "Test set: Average loss: 0.0247, Accuracy: 9925/10000 (99.25%)\n",
            "\n",
            "EPOCH: 10\n"
          ]
        },
        {
          "output_type": "stream",
          "name": "stderr",
          "text": [
            "Loss=0.0007086018449626863 Batch_id=468 Accuracy=99.85%: 100%|██████████| 469/469 [00:23<00:00, 19.69it/s]\n"
          ]
        },
        {
          "output_type": "stream",
          "name": "stdout",
          "text": [
            "\n",
            "Test set: Average loss: 0.0297, Accuracy: 9925/10000 (99.25%)\n",
            "\n",
            "EPOCH: 11\n"
          ]
        },
        {
          "output_type": "stream",
          "name": "stderr",
          "text": [
            "Loss=0.00037964293733239174 Batch_id=468 Accuracy=99.89%: 100%|██████████| 469/469 [00:22<00:00, 20.91it/s]\n"
          ]
        },
        {
          "output_type": "stream",
          "name": "stdout",
          "text": [
            "\n",
            "Test set: Average loss: 0.0270, Accuracy: 9934/10000 (99.34%)\n",
            "\n",
            "EPOCH: 12\n"
          ]
        },
        {
          "output_type": "stream",
          "name": "stderr",
          "text": [
            "Loss=0.004726060200482607 Batch_id=468 Accuracy=99.90%: 100%|██████████| 469/469 [00:21<00:00, 22.03it/s]\n"
          ]
        },
        {
          "output_type": "stream",
          "name": "stdout",
          "text": [
            "\n",
            "Test set: Average loss: 0.0316, Accuracy: 9926/10000 (99.26%)\n",
            "\n",
            "EPOCH: 13\n"
          ]
        },
        {
          "output_type": "stream",
          "name": "stderr",
          "text": [
            "Loss=0.004295483231544495 Batch_id=468 Accuracy=99.93%: 100%|██████████| 469/469 [00:21<00:00, 21.35it/s]\n"
          ]
        },
        {
          "output_type": "stream",
          "name": "stdout",
          "text": [
            "\n",
            "Test set: Average loss: 0.0322, Accuracy: 9927/10000 (99.27%)\n",
            "\n",
            "EPOCH: 14\n"
          ]
        },
        {
          "output_type": "stream",
          "name": "stderr",
          "text": [
            "Loss=0.00013004502397961915 Batch_id=468 Accuracy=99.96%: 100%|██████████| 469/469 [00:21<00:00, 21.72it/s]\n"
          ]
        },
        {
          "output_type": "stream",
          "name": "stdout",
          "text": [
            "\n",
            "Test set: Average loss: 0.0325, Accuracy: 9924/10000 (99.24%)\n",
            "\n"
          ]
        }
      ],
      "source": [
        "use_cuda = torch.cuda.is_available()\n",
        "device = torch.device(\"cuda\" if use_cuda else \"cpu\")\n",
        "model = Models.NetA().to(device)\n",
        "optimizer = optim.SGD(model.parameters(), lr=0.01, momentum=0.9)\n",
        "EPOCHS = 15\n",
        "for epoch in range(EPOCHS):\n",
        "    print(\"EPOCH:\", epoch)\n",
        "    train(model, device, train_loader, optimizer, epoch)\n",
        "    test(model, device, test_loader)"
      ]
    },
    {
      "cell_type": "code",
      "source": [
        "t = [t_items.item() for t_items in train_losses]\n",
        "\n",
        "fig, axs = plt.subplots(2,2,figsize=(15,10))\n",
        "axs[0, 0].plot(t)\n",
        "axs[0, 0].set_title(\"Training Loss\")\n",
        "axs[1, 0].plot(train_acc)\n",
        "axs[1, 0].set_title(\"Training Accuracy\")\n",
        "axs[0, 1].plot(test_losses)\n",
        "axs[0, 1].set_title(\"Test Loss\")\n",
        "axs[1, 1].plot(test_acc)\n",
        "axs[1, 1].set_title(\"Test Accuracy\")"
      ],
      "metadata": {
        "colab": {
          "base_uri": "https://localhost:8080/",
          "height": 870
        },
        "id": "ehPzXNjEotDK",
        "outputId": "20686cf7-25ed-4365-b55d-641606b2953c"
      },
      "execution_count": null,
      "outputs": [
        {
          "output_type": "execute_result",
          "data": {
            "text/plain": [
              "Text(0.5, 1.0, 'Test Accuracy')"
            ]
          },
          "metadata": {},
          "execution_count": 27
        },
        {
          "output_type": "display_data",
          "data": {
            "text/plain": [
              "<Figure size 1500x1000 with 4 Axes>"
            ],
            "image/png": "[encoded data removed]"
          },
          "metadata": {}
        }
      ]
    },
    {
      "cell_type": "markdown",
      "source": [
        "# Analysis 1: Inital Model Setup and First Evaluation\n",
        "\n",
        "## Analysis\n",
        "\n",
        "1.   Given the MNIST dataset, which consists of 28x28 pixel grayscale images, it is very simple, does not required a very deep and complex network. in NetA archteicure, the last layers feature output uses 1024 channels, it will result large parameters (6 mil+ > required 8000)\n",
        "2.   From the model training accuracy vs. testing accuracy, it appares the overfitting.\n",
        "\n",
        "## Model Improvement Recommendations\n",
        "\n",
        "1. **Simplify the Network Architecture to reduce complexity:** Streamline the model by minimizing the number of layers and parameters. This can enhance generalization and reduce the risk of overfitting.\n",
        "\n",
        "2. **Manage Channel Expansion to control channel sizes:** Begin with a lower number of channels in the initial layers. Incrementally increase the number of channels in deeper layers only if necessary. A moderate number of channels can effectively capture the essential features in the MNIST dataset without leading to overfitting.\n",
        "\n",
        "---\n",
        "---\n",
        "---\n",
        "\n",
        "\n"
      ],
      "metadata": {
        "id": "MkoygjPEp6-u"
      }
    },
    {
      "cell_type": "markdown",
      "source": [
        "# Target 2: Simplify Model Architecture and Second Evaluation\n",
        "\n",
        "*   Manage Channel Expansion, the simplified architecture is defined in Class Models (model.py) **NetB** inner class with reduced input channels and output channels.\n",
        "*   Simplified the network architectures\n",
        "\n",
        "\n",
        "## Aim\n",
        "1.   **99.4%** (this must be consistently shown in your last few epochs, and not a one-time achievement)\n",
        "2.   Less than or equal to **15** Epochs\n",
        "3.   Less than **8000** Parameters\n",
        "\n",
        "\n",
        "\n"
      ],
      "metadata": {
        "id": "kvQNUDiK6aZZ"
      }
    },
    {
      "cell_type": "markdown",
      "source": [
        "# Result 2: Simplify Model Architecture and Second Evaluation\n",
        "\n",
        "## Result Capture\n",
        "- Record the performance metrics such as loss and accuracy for both training and validation phases.\n",
        "\n",
        "\n",
        "> **Parameter**: 44,650\n",
        "\n",
        "> **Best Training Accuracy**: EPOCH:8 (**99.42%**)\n",
        "\n",
        "> **Best Test Accuracy**: EPOCH:8 (**99.15%**)"
      ],
      "metadata": {
        "id": "H_WjAvL-8UbO"
      }
    },
    {
      "cell_type": "code",
      "source": [
        "Models.evaluate_model(Models.NetB)"
      ],
      "metadata": {
        "colab": {
          "base_uri": "https://localhost:8080/"
        },
        "id": "HwpP3IOyyCFt",
        "outputId": "a4566a8e-8836-4110-ee00-bad3e93ca22e"
      },
      "execution_count": null,
      "outputs": [
        {
          "output_type": "stream",
          "name": "stdout",
          "text": [
            "----------------------------------------------------------------\n",
            "        Layer (type)               Output Shape         Param #\n",
            "================================================================\n",
            "            Conv2d-1           [-1, 16, 26, 26]             160\n",
            "              ReLU-2           [-1, 16, 26, 26]               0\n",
            "            Conv2d-3           [-1, 32, 24, 24]           4,640\n",
            "              ReLU-4           [-1, 32, 24, 24]               0\n",
            "         MaxPool2d-5           [-1, 32, 12, 12]               0\n",
            "            Conv2d-6           [-1, 64, 10, 10]          18,496\n",
            "              ReLU-7           [-1, 64, 10, 10]               0\n",
            "         MaxPool2d-8             [-1, 64, 5, 5]               0\n",
            "            Conv2d-9             [-1, 32, 3, 3]          18,464\n",
            "             ReLU-10             [-1, 32, 3, 3]               0\n",
            "           Conv2d-11             [-1, 10, 1, 1]           2,890\n",
            "================================================================\n",
            "Total params: 44,650\n",
            "Trainable params: 44,650\n",
            "Non-trainable params: 0\n",
            "----------------------------------------------------------------\n",
            "Input size (MB): 0.00\n",
            "Forward/backward pass size (MB): 0.60\n",
            "Params size (MB): 0.17\n",
            "Estimated Total Size (MB): 0.77\n",
            "----------------------------------------------------------------\n"
          ]
        }
      ]
    },
    {
      "cell_type": "code",
      "source": [
        "use_cuda = torch.cuda.is_available()\n",
        "device = torch.device(\"cuda\" if use_cuda else \"cpu\")\n",
        "model = Models.NetB().to(device)\n",
        "optimizer = optim.SGD(model.parameters(), lr=0.01, momentum=0.9)\n",
        "EPOCHS = 15\n",
        "for epoch in range(EPOCHS):\n",
        "    print(\"EPOCH:\", epoch)\n",
        "    train(model, device, train_loader, optimizer, epoch)\n",
        "    test(model, device, test_loader)"
      ],
      "metadata": {
        "colab": {
          "base_uri": "https://localhost:8080/"
        },
        "id": "owFo4iai8Gca",
        "outputId": "ef524d11-968a-4e42-98c6-d18347a6e6cb"
      },
      "execution_count": null,
      "outputs": [
        {
          "output_type": "stream",
          "name": "stdout",
          "text": [
            "EPOCH: 0\n"
          ]
        },
        {
          "output_type": "stream",
          "name": "stderr",
          "text": [
            "\r  0%|          | 0/469 [00:00<?, ?it/s]/usr/local/lib/python3.10/dist-packages/torch/utils/data/dataloader.py:557: UserWarning: This DataLoader will create 4 worker processes in total. Our suggested max number of worker in current system is 2, which is smaller than what this DataLoader is going to create. Please be aware that excessive worker creation might get DataLoader running slow or even freeze, lower the worker number to avoid potential slowness/freeze if necessary.\n",
            "  warnings.warn(_create_warning_msg(\n",
            "Loss=0.031161854043602943 Batch_id=468 Accuracy=89.04%: 100%|██████████| 469/469 [00:17<00:00, 26.53it/s]\n"
          ]
        },
        {
          "output_type": "stream",
          "name": "stdout",
          "text": [
            "\n",
            "Test set: Average loss: 0.0631, Accuracy: 9795/10000 (97.95%)\n",
            "\n",
            "EPOCH: 1\n"
          ]
        },
        {
          "output_type": "stream",
          "name": "stderr",
          "text": [
            "Loss=0.12033449858427048 Batch_id=468 Accuracy=97.94%: 100%|██████████| 469/469 [00:19<00:00, 24.21it/s]\n"
          ]
        },
        {
          "output_type": "stream",
          "name": "stdout",
          "text": [
            "\n",
            "Test set: Average loss: 0.0508, Accuracy: 9852/10000 (98.52%)\n",
            "\n",
            "EPOCH: 2\n"
          ]
        },
        {
          "output_type": "stream",
          "name": "stderr",
          "text": [
            "Loss=0.03883303329348564 Batch_id=468 Accuracy=98.54%: 100%|██████████| 469/469 [00:18<00:00, 24.96it/s]\n"
          ]
        },
        {
          "output_type": "stream",
          "name": "stdout",
          "text": [
            "\n",
            "Test set: Average loss: 0.0417, Accuracy: 9880/10000 (98.80%)\n",
            "\n",
            "EPOCH: 3\n"
          ]
        },
        {
          "output_type": "stream",
          "name": "stderr",
          "text": [
            "Loss=0.0027813438791781664 Batch_id=468 Accuracy=98.80%: 100%|██████████| 469/469 [00:17<00:00, 26.85it/s]\n"
          ]
        },
        {
          "output_type": "stream",
          "name": "stdout",
          "text": [
            "\n",
            "Test set: Average loss: 0.0412, Accuracy: 9870/10000 (98.70%)\n",
            "\n",
            "EPOCH: 4\n"
          ]
        },
        {
          "output_type": "stream",
          "name": "stderr",
          "text": [
            "Loss=0.02860967069864273 Batch_id=468 Accuracy=98.97%: 100%|██████████| 469/469 [00:17<00:00, 26.50it/s]\n"
          ]
        },
        {
          "output_type": "stream",
          "name": "stdout",
          "text": [
            "\n",
            "Test set: Average loss: 0.0361, Accuracy: 9893/10000 (98.93%)\n",
            "\n",
            "EPOCH: 5\n"
          ]
        },
        {
          "output_type": "stream",
          "name": "stderr",
          "text": [
            "Loss=0.02320309914648533 Batch_id=468 Accuracy=99.14%: 100%|██████████| 469/469 [00:18<00:00, 25.63it/s]\n"
          ]
        },
        {
          "output_type": "stream",
          "name": "stdout",
          "text": [
            "\n",
            "Test set: Average loss: 0.0355, Accuracy: 9892/10000 (98.92%)\n",
            "\n",
            "EPOCH: 6\n"
          ]
        },
        {
          "output_type": "stream",
          "name": "stderr",
          "text": [
            "Loss=0.006894409190863371 Batch_id=468 Accuracy=99.24%: 100%|██████████| 469/469 [00:19<00:00, 24.49it/s]\n"
          ]
        },
        {
          "output_type": "stream",
          "name": "stdout",
          "text": [
            "\n",
            "Test set: Average loss: 0.0354, Accuracy: 9882/10000 (98.82%)\n",
            "\n",
            "EPOCH: 7\n"
          ]
        },
        {
          "output_type": "stream",
          "name": "stderr",
          "text": [
            "Loss=0.00782772433012724 Batch_id=468 Accuracy=99.37%: 100%|██████████| 469/469 [00:17<00:00, 26.49it/s]\n"
          ]
        },
        {
          "output_type": "stream",
          "name": "stdout",
          "text": [
            "\n",
            "Test set: Average loss: 0.0319, Accuracy: 9906/10000 (99.06%)\n",
            "\n",
            "EPOCH: 8\n"
          ]
        },
        {
          "output_type": "stream",
          "name": "stderr",
          "text": [
            "Loss=0.005994472187012434 Batch_id=468 Accuracy=99.42%: 100%|██████████| 469/469 [00:18<00:00, 25.48it/s]\n"
          ]
        },
        {
          "output_type": "stream",
          "name": "stdout",
          "text": [
            "\n",
            "Test set: Average loss: 0.0305, Accuracy: 9915/10000 (99.15%)\n",
            "\n",
            "EPOCH: 9\n"
          ]
        },
        {
          "output_type": "stream",
          "name": "stderr",
          "text": [
            "Loss=0.007736837491393089 Batch_id=468 Accuracy=99.46%: 100%|██████████| 469/469 [00:16<00:00, 27.60it/s]\n"
          ]
        },
        {
          "output_type": "stream",
          "name": "stdout",
          "text": [
            "\n",
            "Test set: Average loss: 0.0339, Accuracy: 9905/10000 (99.05%)\n",
            "\n",
            "EPOCH: 10\n"
          ]
        },
        {
          "output_type": "stream",
          "name": "stderr",
          "text": [
            "Loss=0.013863920234143734 Batch_id=468 Accuracy=99.56%: 100%|██████████| 469/469 [00:17<00:00, 27.03it/s]\n"
          ]
        },
        {
          "output_type": "stream",
          "name": "stdout",
          "text": [
            "\n",
            "Test set: Average loss: 0.0327, Accuracy: 9910/10000 (99.10%)\n",
            "\n",
            "EPOCH: 11\n"
          ]
        },
        {
          "output_type": "stream",
          "name": "stderr",
          "text": [
            "Loss=0.0020040825475007296 Batch_id=468 Accuracy=99.57%: 100%|██████████| 469/469 [00:17<00:00, 26.39it/s]\n"
          ]
        },
        {
          "output_type": "stream",
          "name": "stdout",
          "text": [
            "\n",
            "Test set: Average loss: 0.0342, Accuracy: 9905/10000 (99.05%)\n",
            "\n",
            "EPOCH: 12\n"
          ]
        },
        {
          "output_type": "stream",
          "name": "stderr",
          "text": [
            "Loss=0.0010165638523176312 Batch_id=468 Accuracy=99.59%: 100%|██████████| 469/469 [00:17<00:00, 26.12it/s]\n"
          ]
        },
        {
          "output_type": "stream",
          "name": "stdout",
          "text": [
            "\n",
            "Test set: Average loss: 0.0407, Accuracy: 9895/10000 (98.95%)\n",
            "\n",
            "EPOCH: 13\n"
          ]
        },
        {
          "output_type": "stream",
          "name": "stderr",
          "text": [
            "Loss=0.0014601144939661026 Batch_id=468 Accuracy=99.67%: 100%|██████████| 469/469 [00:17<00:00, 26.06it/s]\n"
          ]
        },
        {
          "output_type": "stream",
          "name": "stdout",
          "text": [
            "\n",
            "Test set: Average loss: 0.0346, Accuracy: 9904/10000 (99.04%)\n",
            "\n",
            "EPOCH: 14\n"
          ]
        },
        {
          "output_type": "stream",
          "name": "stderr",
          "text": [
            "Loss=0.001348346471786499 Batch_id=468 Accuracy=99.69%: 100%|██████████| 469/469 [00:16<00:00, 27.90it/s]\n"
          ]
        },
        {
          "output_type": "stream",
          "name": "stdout",
          "text": [
            "\n",
            "Test set: Average loss: 0.0326, Accuracy: 9914/10000 (99.14%)\n",
            "\n"
          ]
        }
      ]
    },
    {
      "cell_type": "code",
      "source": [
        "t = [t_items.item() for t_items in train_losses]\n",
        "\n",
        "fig, axs = plt.subplots(2,2,figsize=(15,10))\n",
        "axs[0, 0].plot(t)\n",
        "axs[0, 0].set_title(\"Training Loss\")\n",
        "axs[1, 0].plot(train_acc)\n",
        "axs[1, 0].set_title(\"Training Accuracy\")\n",
        "axs[0, 1].plot(test_losses)\n",
        "axs[0, 1].set_title(\"Test Loss\")\n",
        "axs[1, 1].plot(test_acc)\n",
        "axs[1, 1].set_title(\"Test Accuracy\")"
      ],
      "metadata": {
        "colab": {
          "base_uri": "https://localhost:8080/",
          "height": 870
        },
        "id": "65PWtJup8MfL",
        "outputId": "5ee3674b-f609-4a5d-d8f3-86bdd064303a"
      },
      "execution_count": null,
      "outputs": [
        {
          "output_type": "execute_result",
          "data": {
            "text/plain": [
              "Text(0.5, 1.0, 'Test Accuracy')"
            ]
          },
          "metadata": {},
          "execution_count": 14
        },
        {
          "output_type": "display_data",
          "data": {
            "text/plain": [
              "<Figure size 1500x1000 with 4 Axes>"
            ],
            "image/png": "[encoded data removed]"
          },
          "metadata": {}
        }
      ]
    },
    {
      "cell_type": "markdown",
      "source": [
        "# Analysis 2: Simplify Model Architecture and Second Evaluation\n",
        "\n",
        "## Analysis\n",
        "\n",
        "1. The streamlined network architecture effectively reduces complexity, trimming the parameter count significantly from 6 million to 45K. This simplification represents a substantial improvement in model efficiency.\n",
        "\n",
        "2. The simplified model exhibits no signs of overfitting, indicating a well-balanced approach to learning. With additional epochs, it has the potential to achieve the targeted performance outcomes.\n",
        "\n",
        "## Model Improvement Recommendations\n",
        "\n",
        "1. Push further to reduce the channel size\n",
        "2. apply batch normalization after each convolutional layer before the activation function.\n",
        "3. To prevent overfitting, especially when training for more epochs or on datasets with limited diversity, include dropout layers after activation layers, 0.25 will be used.\n",
        "\n",
        "\n",
        "---\n",
        "---\n",
        "---"
      ],
      "metadata": {
        "id": "3-tgC_MBC5WR"
      }
    },
    {
      "cell_type": "markdown",
      "source": [
        "# Target 3: Tune Model Architecture to ehnace performance, generalisation and Third Evaluation (**NetC**)\n",
        "\n",
        "*   Batch Normalization\n",
        "*   Dropout for Regularization\n",
        "*   Include Padding in Convolutional Layers\n",
        "\n",
        "\n",
        "\n",
        "## Aim\n",
        "1.   **99.4%** (this must be consistently shown in your last few epochs, and not a one-time achievement)\n",
        "2.   Less than or equal to **15** Epochs\n",
        "3.   Less than **8000** Parameters\n",
        "\n"
      ],
      "metadata": {
        "id": "R9p86sTNKM2Q"
      }
    },
    {
      "cell_type": "markdown",
      "source": [
        "# Result 3: Tune Model Architecture to ehnace performance, generalisation and Third Evaluation (NetC)\n",
        "\n",
        "## Result Capture\n",
        "- Record the performance metrics such as loss and accuracy for both training and validation phases.\n",
        "\n",
        "\n",
        "> **Parameter**: 5650 < 8k\n",
        "\n",
        "> **Best Training Accuracy**: EPOCH:12 (**98.59%**)\n",
        "\n",
        "> **Best Test Accuracy**: EPOCH:12 (**98.61%**)"
      ],
      "metadata": {
        "id": "n5YV88_OrjNH"
      }
    },
    {
      "cell_type": "code",
      "source": [
        "Models.evaluate_model(Models.NetC)"
      ],
      "metadata": {
        "colab": {
          "base_uri": "https://localhost:8080/"
        },
        "id": "AuuaL9ZLNB4L",
        "outputId": "af619bd0-f60d-4f84-8ab8-93f3b1f4a7a3"
      },
      "execution_count": null,
      "outputs": [
        {
          "output_type": "stream",
          "name": "stdout",
          "text": [
            "----------------------------------------------------------------\n",
            "        Layer (type)               Output Shape         Param #\n",
            "================================================================\n",
            "            Conv2d-1           [-1, 10, 28, 28]             100\n",
            "       BatchNorm2d-2           [-1, 10, 28, 28]              20\n",
            "              ReLU-3           [-1, 10, 28, 28]               0\n",
            "           Dropout-4           [-1, 10, 28, 28]               0\n",
            "            Conv2d-5           [-1, 20, 28, 28]           1,820\n",
            "       BatchNorm2d-6           [-1, 20, 28, 28]              40\n",
            "              ReLU-7           [-1, 20, 28, 28]               0\n",
            "           Dropout-8           [-1, 20, 28, 28]               0\n",
            "         MaxPool2d-9           [-1, 20, 14, 14]               0\n",
            "           Conv2d-10           [-1, 10, 14, 14]           1,810\n",
            "      BatchNorm2d-11           [-1, 10, 14, 14]              20\n",
            "             ReLU-12           [-1, 10, 14, 14]               0\n",
            "          Dropout-13           [-1, 10, 14, 14]               0\n",
            "        MaxPool2d-14             [-1, 10, 7, 7]               0\n",
            "           Conv2d-15             [-1, 10, 5, 5]             910\n",
            "      BatchNorm2d-16             [-1, 10, 5, 5]              20\n",
            "             ReLU-17             [-1, 10, 5, 5]               0\n",
            "           Conv2d-18             [-1, 10, 3, 3]             910\n",
            "AdaptiveAvgPool2d-19             [-1, 10, 1, 1]               0\n",
            "================================================================\n",
            "Total params: 5,650\n",
            "Trainable params: 5,650\n",
            "Non-trainable params: 0\n",
            "----------------------------------------------------------------\n",
            "Input size (MB): 0.00\n",
            "Forward/backward pass size (MB): 0.82\n",
            "Params size (MB): 0.02\n",
            "Estimated Total Size (MB): 0.84\n",
            "----------------------------------------------------------------\n"
          ]
        }
      ]
    },
    {
      "cell_type": "code",
      "source": [
        "use_cuda = torch.cuda.is_available()\n",
        "device = torch.device(\"cuda\" if use_cuda else \"cpu\")\n",
        "model = Models.NetC().to(device)\n",
        "optimizer = optim.SGD(model.parameters(), lr=0.01, momentum=0.9)\n",
        "EPOCHS = 15\n",
        "for epoch in range(EPOCHS):\n",
        "    print(\"EPOCH:\", epoch)\n",
        "    train(model, device, train_loader, optimizer, epoch)\n",
        "    test(model, device, test_loader)"
      ],
      "metadata": {
        "colab": {
          "base_uri": "https://localhost:8080/"
        },
        "id": "vsy0k0SPNL45",
        "outputId": "745dbeab-9c02-4f7d-ae62-f90d34f9f0e1"
      },
      "execution_count": null,
      "outputs": [
        {
          "output_type": "stream",
          "name": "stdout",
          "text": [
            "EPOCH: 0\n"
          ]
        },
        {
          "output_type": "stream",
          "name": "stderr",
          "text": [
            "Loss=0.2551780939102173 Batch_id=468 Accuracy=84.31%: 100%|██████████| 469/469 [00:16<00:00, 27.78it/s]\n"
          ]
        },
        {
          "output_type": "stream",
          "name": "stdout",
          "text": [
            "\n",
            "Test set: Average loss: 0.3021, Accuracy: 9450/10000 (94.50%)\n",
            "\n",
            "EPOCH: 1\n"
          ]
        },
        {
          "output_type": "stream",
          "name": "stderr",
          "text": [
            "Loss=0.13949216902256012 Batch_id=468 Accuracy=96.49%: 100%|██████████| 469/469 [00:17<00:00, 26.41it/s]\n"
          ]
        },
        {
          "output_type": "stream",
          "name": "stdout",
          "text": [
            "\n",
            "Test set: Average loss: 0.1692, Accuracy: 9713/10000 (97.13%)\n",
            "\n",
            "EPOCH: 2\n"
          ]
        },
        {
          "output_type": "stream",
          "name": "stderr",
          "text": [
            "Loss=0.11397048085927963 Batch_id=468 Accuracy=97.27%: 100%|██████████| 469/469 [00:16<00:00, 28.95it/s]\n"
          ]
        },
        {
          "output_type": "stream",
          "name": "stdout",
          "text": [
            "\n",
            "Test set: Average loss: 0.1380, Accuracy: 9728/10000 (97.28%)\n",
            "\n",
            "EPOCH: 3\n"
          ]
        },
        {
          "output_type": "stream",
          "name": "stderr",
          "text": [
            "Loss=0.044262152165174484 Batch_id=468 Accuracy=97.69%: 100%|██████████| 469/469 [00:16<00:00, 29.15it/s]\n"
          ]
        },
        {
          "output_type": "stream",
          "name": "stdout",
          "text": [
            "\n",
            "Test set: Average loss: 0.1001, Accuracy: 9794/10000 (97.94%)\n",
            "\n",
            "EPOCH: 4\n"
          ]
        },
        {
          "output_type": "stream",
          "name": "stderr",
          "text": [
            "Loss=0.16977526247501373 Batch_id=468 Accuracy=97.90%: 100%|██████████| 469/469 [00:16<00:00, 28.25it/s]\n"
          ]
        },
        {
          "output_type": "stream",
          "name": "stdout",
          "text": [
            "\n",
            "Test set: Average loss: 0.0976, Accuracy: 9789/10000 (97.89%)\n",
            "\n",
            "EPOCH: 5\n"
          ]
        },
        {
          "output_type": "stream",
          "name": "stderr",
          "text": [
            "Loss=0.06621644645929337 Batch_id=468 Accuracy=98.03%: 100%|██████████| 469/469 [00:16<00:00, 28.88it/s]\n"
          ]
        },
        {
          "output_type": "stream",
          "name": "stdout",
          "text": [
            "\n",
            "Test set: Average loss: 0.1133, Accuracy: 9736/10000 (97.36%)\n",
            "\n",
            "EPOCH: 6\n"
          ]
        },
        {
          "output_type": "stream",
          "name": "stderr",
          "text": [
            "Loss=0.07339203357696533 Batch_id=468 Accuracy=98.19%: 100%|██████████| 469/469 [00:16<00:00, 28.08it/s]\n"
          ]
        },
        {
          "output_type": "stream",
          "name": "stdout",
          "text": [
            "\n",
            "Test set: Average loss: 0.1045, Accuracy: 9739/10000 (97.39%)\n",
            "\n",
            "EPOCH: 7\n"
          ]
        },
        {
          "output_type": "stream",
          "name": "stderr",
          "text": [
            "Loss=0.031861793249845505 Batch_id=468 Accuracy=98.36%: 100%|██████████| 469/469 [00:17<00:00, 27.46it/s]\n"
          ]
        },
        {
          "output_type": "stream",
          "name": "stdout",
          "text": [
            "\n",
            "Test set: Average loss: 0.0755, Accuracy: 9832/10000 (98.32%)\n",
            "\n",
            "EPOCH: 8\n"
          ]
        },
        {
          "output_type": "stream",
          "name": "stderr",
          "text": [
            "Loss=0.03924413397908211 Batch_id=468 Accuracy=98.35%: 100%|██████████| 469/469 [00:16<00:00, 28.14it/s]\n"
          ]
        },
        {
          "output_type": "stream",
          "name": "stdout",
          "text": [
            "\n",
            "Test set: Average loss: 0.0778, Accuracy: 9832/10000 (98.32%)\n",
            "\n",
            "EPOCH: 9\n"
          ]
        },
        {
          "output_type": "stream",
          "name": "stderr",
          "text": [
            "Loss=0.02377300150692463 Batch_id=468 Accuracy=98.44%: 100%|██████████| 469/469 [00:16<00:00, 29.16it/s]\n"
          ]
        },
        {
          "output_type": "stream",
          "name": "stdout",
          "text": [
            "\n",
            "Test set: Average loss: 0.0655, Accuracy: 9845/10000 (98.45%)\n",
            "\n",
            "EPOCH: 10\n"
          ]
        },
        {
          "output_type": "stream",
          "name": "stderr",
          "text": [
            "Loss=0.06138600781559944 Batch_id=468 Accuracy=98.47%: 100%|██████████| 469/469 [00:15<00:00, 29.65it/s]\n"
          ]
        },
        {
          "output_type": "stream",
          "name": "stdout",
          "text": [
            "\n",
            "Test set: Average loss: 0.0748, Accuracy: 9822/10000 (98.22%)\n",
            "\n",
            "EPOCH: 11\n"
          ]
        },
        {
          "output_type": "stream",
          "name": "stderr",
          "text": [
            "Loss=0.024509573355317116 Batch_id=468 Accuracy=98.50%: 100%|██████████| 469/469 [00:15<00:00, 30.39it/s]\n"
          ]
        },
        {
          "output_type": "stream",
          "name": "stdout",
          "text": [
            "\n",
            "Test set: Average loss: 0.0641, Accuracy: 9850/10000 (98.50%)\n",
            "\n",
            "EPOCH: 12\n"
          ]
        },
        {
          "output_type": "stream",
          "name": "stderr",
          "text": [
            "Loss=0.05318706855177879 Batch_id=468 Accuracy=98.59%: 100%|██████████| 469/469 [00:15<00:00, 30.06it/s]\n"
          ]
        },
        {
          "output_type": "stream",
          "name": "stdout",
          "text": [
            "\n",
            "Test set: Average loss: 0.0595, Accuracy: 9861/10000 (98.61%)\n",
            "\n",
            "EPOCH: 13\n"
          ]
        },
        {
          "output_type": "stream",
          "name": "stderr",
          "text": [
            "Loss=0.05101310834288597 Batch_id=468 Accuracy=98.63%: 100%|██████████| 469/469 [00:16<00:00, 28.53it/s]\n"
          ]
        },
        {
          "output_type": "stream",
          "name": "stdout",
          "text": [
            "\n",
            "Test set: Average loss: 0.0625, Accuracy: 9829/10000 (98.29%)\n",
            "\n",
            "EPOCH: 14\n"
          ]
        },
        {
          "output_type": "stream",
          "name": "stderr",
          "text": [
            "Loss=0.009602400474250317 Batch_id=468 Accuracy=98.62%: 100%|██████████| 469/469 [00:17<00:00, 27.37it/s]\n"
          ]
        },
        {
          "output_type": "stream",
          "name": "stdout",
          "text": [
            "\n",
            "Test set: Average loss: 0.0556, Accuracy: 9872/10000 (98.72%)\n",
            "\n"
          ]
        }
      ]
    },
    {
      "cell_type": "markdown",
      "source": [
        "# Analysis 3: Tune Model Architecture to ehnace performance, generalisation and Third Evaluation (NetC)\n",
        "\n",
        "## Analysis\n",
        "\n",
        "1. The revised model successfully meets the goal of having fewer than 8,000 parameters.\n",
        "\n",
        "2. Without showing signs of overfitting, the revised model achieves an impressive accuracy of 98.62% in fewer than 15 epochs. Through meticulous tuning and refinements, reaching the target accuracy of 99.4% is within reach\n",
        "\n",
        "## Model Improvement Recommendations\n",
        "\n",
        "1. Persist with refining the network architecture to enhance performance, ensuring the total number of parameters remains under 8,000.\n",
        "\n",
        "2. Implement fully connected layers for classification and adopt channel-wise linear transformation techniques.\n",
        "\n",
        "\n",
        "---\n",
        "---\n",
        "---\n"
      ],
      "metadata": {
        "id": "1L6VV5Y0soyP"
      }
    },
    {
      "cell_type": "markdown",
      "source": [
        "\n",
        "# Target 4:  Tune, Tune and Tune the Model Architecture to ehnace performance and Fourth Evaluation (**NetD**)\n",
        "\n",
        "\n",
        "*   Batch Normalization\n",
        "*   Dropout for Regularization\n",
        "*   Channel-wise Linear Transformation\n",
        "*   Advantages of Global Pooling\n",
        "*   Fulled connected Layer\n",
        "\n",
        "\n",
        "\n",
        "## Aim\n",
        "1.   **99.4%** (this must be consistently shown in your last few epochs, and not a one-time achievement)\n",
        "2.   Less than or equal to **15** Epochs\n",
        "3.   Less than **8000** Parameters\n"
      ],
      "metadata": {
        "id": "5Pcn40CCPje2"
      }
    },
    {
      "cell_type": "markdown",
      "source": [
        "# Result 4: Tune, Tune and Tune the Model Architecture to ehnace performance and Fourth Evaluation (**NetD**)\n",
        "\n",
        "## Result Capture\n",
        "- Record the performance metrics such as loss and accuracy for both training and validation phases.\n",
        "\n",
        "\n",
        "> **Parameter**: 6674 < 8k\n",
        "\n",
        "> **Best Training Accuracy**: EPOCH:13 (**98.61%**)\n",
        "\n",
        "> **Best Test Accuracy**: EPOCH:13 (**99.10%**)"
      ],
      "metadata": {
        "id": "-TG6N2swtxTm"
      }
    },
    {
      "cell_type": "code",
      "source": [
        "Models.evaluate_model(Models.NetD)"
      ],
      "metadata": {
        "id": "8-FEgi5Bvx_e",
        "outputId": "7ef3a813-751e-4caf-ae03-fee8af1466b3",
        "colab": {
          "base_uri": "https://localhost:8080/"
        }
      },
      "execution_count": null,
      "outputs": [
        {
          "output_type": "stream",
          "name": "stdout",
          "text": [
            "----------------------------------------------------------------\n",
            "        Layer (type)               Output Shape         Param #\n",
            "================================================================\n",
            "            Conv2d-1           [-1, 16, 26, 26]             160\n",
            "       BatchNorm2d-2           [-1, 16, 26, 26]              32\n",
            "              ReLU-3           [-1, 16, 26, 26]               0\n",
            "           Dropout-4           [-1, 16, 26, 26]               0\n",
            "            Conv2d-5           [-1, 16, 24, 24]           2,320\n",
            "       BatchNorm2d-6           [-1, 16, 24, 24]              32\n",
            "              ReLU-7           [-1, 16, 24, 24]               0\n",
            "           Dropout-8           [-1, 16, 24, 24]               0\n",
            "            Conv2d-9           [-1, 10, 24, 24]             170\n",
            "      BatchNorm2d-10           [-1, 10, 24, 24]              20\n",
            "             ReLU-11           [-1, 10, 24, 24]               0\n",
            "          Dropout-12           [-1, 10, 24, 24]               0\n",
            "        MaxPool2d-13           [-1, 10, 12, 12]               0\n",
            "           Conv2d-14           [-1, 10, 12, 12]             110\n",
            "      BatchNorm2d-15           [-1, 10, 12, 12]              20\n",
            "             ReLU-16           [-1, 10, 12, 12]               0\n",
            "          Dropout-17           [-1, 10, 12, 12]               0\n",
            "        MaxPool2d-18             [-1, 10, 6, 6]               0\n",
            "           Conv2d-19             [-1, 10, 6, 6]             910\n",
            "             ReLU-20             [-1, 10, 6, 6]               0\n",
            "      BatchNorm2d-21             [-1, 10, 6, 6]              20\n",
            "          Dropout-22             [-1, 10, 6, 6]               0\n",
            "           Conv2d-23             [-1, 10, 6, 6]             910\n",
            "             ReLU-24             [-1, 10, 6, 6]               0\n",
            "      BatchNorm2d-25             [-1, 10, 6, 6]              20\n",
            "          Dropout-26             [-1, 10, 6, 6]               0\n",
            "           Conv2d-27             [-1, 10, 4, 4]             910\n",
            "             ReLU-28             [-1, 10, 4, 4]               0\n",
            "      BatchNorm2d-29             [-1, 10, 4, 4]              20\n",
            "          Dropout-30             [-1, 10, 4, 4]               0\n",
            "           Conv2d-31             [-1, 10, 2, 2]             910\n",
            "AdaptiveAvgPool2d-32             [-1, 10, 1, 1]               0\n",
            "           Linear-33                   [-1, 10]             110\n",
            "================================================================\n",
            "Total params: 6,674\n",
            "Trainable params: 6,674\n",
            "Non-trainable params: 0\n",
            "----------------------------------------------------------------\n",
            "Input size (MB): 0.00\n",
            "Forward/backward pass size (MB): 0.87\n",
            "Params size (MB): 0.03\n",
            "Estimated Total Size (MB): 0.90\n",
            "----------------------------------------------------------------\n"
          ]
        }
      ]
    },
    {
      "cell_type": "code",
      "source": [
        "use_cuda = torch.cuda.is_available()\n",
        "device = torch.device(\"cuda\" if use_cuda else \"cpu\")\n",
        "model = Models.NetD().to(device)\n",
        "\n",
        "optimizer = optim.SGD(model.parameters(), lr=0.01, momentum=0.9)\n",
        "EPOCHS = 15\n",
        "for epoch in range(EPOCHS):\n",
        "    print(\"EPOCH:\", epoch)\n",
        "    train(model, device, train_loader, optimizer, epoch)\n",
        "    test(model, device, test_loader)"
      ],
      "metadata": {
        "id": "-jVMNNL82M-Y",
        "outputId": "a6b7e868-aa76-49b9-f3ec-19c6f4c35ac0",
        "colab": {
          "base_uri": "https://localhost:8080/"
        }
      },
      "execution_count": null,
      "outputs": [
        {
          "output_type": "stream",
          "name": "stdout",
          "text": [
            "EPOCH: 0\n"
          ]
        },
        {
          "output_type": "stream",
          "name": "stderr",
          "text": [
            "Loss=0.19973981380462646 Batch_id=468 Accuracy=87.47%: 100%|██████████| 469/469 [00:20<00:00, 23.28it/s]\n"
          ]
        },
        {
          "output_type": "stream",
          "name": "stdout",
          "text": [
            "\n",
            "Test set: Average loss: 0.1488, Accuracy: 9540/10000 (95.40%)\n",
            "\n",
            "EPOCH: 1\n"
          ]
        },
        {
          "output_type": "stream",
          "name": "stderr",
          "text": [
            "Loss=0.1011732891201973 Batch_id=468 Accuracy=96.87%: 100%|██████████| 469/469 [00:20<00:00, 23.10it/s]\n"
          ]
        },
        {
          "output_type": "stream",
          "name": "stdout",
          "text": [
            "\n",
            "Test set: Average loss: 0.0581, Accuracy: 9821/10000 (98.21%)\n",
            "\n",
            "EPOCH: 2\n"
          ]
        },
        {
          "output_type": "stream",
          "name": "stderr",
          "text": [
            "Loss=0.024869417771697044 Batch_id=468 Accuracy=97.47%: 100%|██████████| 469/469 [00:21<00:00, 22.18it/s]\n"
          ]
        },
        {
          "output_type": "stream",
          "name": "stdout",
          "text": [
            "\n",
            "Test set: Average loss: 0.0529, Accuracy: 9839/10000 (98.39%)\n",
            "\n",
            "EPOCH: 3\n"
          ]
        },
        {
          "output_type": "stream",
          "name": "stderr",
          "text": [
            "Loss=0.02464008517563343 Batch_id=468 Accuracy=97.74%: 100%|██████████| 469/469 [00:22<00:00, 21.22it/s]\n"
          ]
        },
        {
          "output_type": "stream",
          "name": "stdout",
          "text": [
            "\n",
            "Test set: Average loss: 0.0453, Accuracy: 9868/10000 (98.68%)\n",
            "\n",
            "EPOCH: 4\n"
          ]
        },
        {
          "output_type": "stream",
          "name": "stderr",
          "text": [
            "Loss=0.027789749205112457 Batch_id=468 Accuracy=98.08%: 100%|██████████| 469/469 [00:21<00:00, 21.79it/s]\n"
          ]
        },
        {
          "output_type": "stream",
          "name": "stdout",
          "text": [
            "\n",
            "Test set: Average loss: 0.0362, Accuracy: 9889/10000 (98.89%)\n",
            "\n",
            "EPOCH: 5\n"
          ]
        },
        {
          "output_type": "stream",
          "name": "stderr",
          "text": [
            "Loss=0.03293616697192192 Batch_id=468 Accuracy=98.22%: 100%|██████████| 469/469 [00:19<00:00, 23.69it/s]\n"
          ]
        },
        {
          "output_type": "stream",
          "name": "stdout",
          "text": [
            "\n",
            "Test set: Average loss: 0.0368, Accuracy: 9887/10000 (98.87%)\n",
            "\n",
            "EPOCH: 6\n"
          ]
        },
        {
          "output_type": "stream",
          "name": "stderr",
          "text": [
            "Loss=0.005224679131060839 Batch_id=468 Accuracy=98.22%: 100%|██████████| 469/469 [00:19<00:00, 24.09it/s]\n"
          ]
        },
        {
          "output_type": "stream",
          "name": "stdout",
          "text": [
            "\n",
            "Test set: Average loss: 0.0330, Accuracy: 9896/10000 (98.96%)\n",
            "\n",
            "EPOCH: 7\n"
          ]
        },
        {
          "output_type": "stream",
          "name": "stderr",
          "text": [
            "Loss=0.048229191452264786 Batch_id=468 Accuracy=98.34%: 100%|██████████| 469/469 [00:20<00:00, 22.74it/s]\n"
          ]
        },
        {
          "output_type": "stream",
          "name": "stdout",
          "text": [
            "\n",
            "Test set: Average loss: 0.0352, Accuracy: 9884/10000 (98.84%)\n",
            "\n",
            "EPOCH: 8\n"
          ]
        },
        {
          "output_type": "stream",
          "name": "stderr",
          "text": [
            "Loss=0.08339068293571472 Batch_id=468 Accuracy=98.33%: 100%|██████████| 469/469 [00:20<00:00, 23.05it/s]\n"
          ]
        },
        {
          "output_type": "stream",
          "name": "stdout",
          "text": [
            "\n",
            "Test set: Average loss: 0.0305, Accuracy: 9909/10000 (99.09%)\n",
            "\n",
            "EPOCH: 9\n"
          ]
        },
        {
          "output_type": "stream",
          "name": "stderr",
          "text": [
            "Loss=0.01746951974928379 Batch_id=468 Accuracy=98.41%: 100%|██████████| 469/469 [00:20<00:00, 22.97it/s]\n"
          ]
        },
        {
          "output_type": "stream",
          "name": "stdout",
          "text": [
            "\n",
            "Test set: Average loss: 0.0310, Accuracy: 9898/10000 (98.98%)\n",
            "\n",
            "EPOCH: 10\n"
          ]
        },
        {
          "output_type": "stream",
          "name": "stderr",
          "text": [
            "Loss=0.00419572601094842 Batch_id=468 Accuracy=98.59%: 100%|██████████| 469/469 [00:20<00:00, 22.76it/s]\n"
          ]
        },
        {
          "output_type": "stream",
          "name": "stdout",
          "text": [
            "\n",
            "Test set: Average loss: 0.0306, Accuracy: 9902/10000 (99.02%)\n",
            "\n",
            "EPOCH: 11\n"
          ]
        },
        {
          "output_type": "stream",
          "name": "stderr",
          "text": [
            "Loss=0.09652110934257507 Batch_id=468 Accuracy=98.51%: 100%|██████████| 469/469 [00:19<00:00, 23.79it/s]\n"
          ]
        },
        {
          "output_type": "stream",
          "name": "stdout",
          "text": [
            "\n",
            "Test set: Average loss: 0.0336, Accuracy: 9884/10000 (98.84%)\n",
            "\n",
            "EPOCH: 12\n"
          ]
        },
        {
          "output_type": "stream",
          "name": "stderr",
          "text": [
            "Loss=0.019126879051327705 Batch_id=468 Accuracy=98.55%: 100%|██████████| 469/469 [00:19<00:00, 23.84it/s]\n"
          ]
        },
        {
          "output_type": "stream",
          "name": "stdout",
          "text": [
            "\n",
            "Test set: Average loss: 0.0336, Accuracy: 9892/10000 (98.92%)\n",
            "\n",
            "EPOCH: 13\n"
          ]
        },
        {
          "output_type": "stream",
          "name": "stderr",
          "text": [
            "Loss=0.008070425130426884 Batch_id=468 Accuracy=98.61%: 100%|██████████| 469/469 [00:20<00:00, 23.13it/s]\n"
          ]
        },
        {
          "output_type": "stream",
          "name": "stdout",
          "text": [
            "\n",
            "Test set: Average loss: 0.0295, Accuracy: 9910/10000 (99.10%)\n",
            "\n",
            "EPOCH: 14\n"
          ]
        },
        {
          "output_type": "stream",
          "name": "stderr",
          "text": [
            "Loss=0.04329841956496239 Batch_id=468 Accuracy=98.61%: 100%|██████████| 469/469 [00:20<00:00, 22.59it/s]\n"
          ]
        },
        {
          "output_type": "stream",
          "name": "stdout",
          "text": [
            "\n",
            "Test set: Average loss: 0.0374, Accuracy: 9872/10000 (98.72%)\n",
            "\n"
          ]
        }
      ]
    },
    {
      "cell_type": "code",
      "source": [
        "t = [t_items.item() for t_items in train_losses]\n",
        "\n",
        "fig, axs = plt.subplots(2,2,figsize=(15,10))\n",
        "axs[0, 0].plot(t)\n",
        "axs[0, 0].set_title(\"Training Loss\")\n",
        "axs[1, 0].plot(train_acc)\n",
        "axs[1, 0].set_title(\"Training Accuracy\")\n",
        "axs[0, 1].plot(test_losses)\n",
        "axs[0, 1].set_title(\"Test Loss\")\n",
        "axs[1, 1].plot(test_acc)\n",
        "axs[1, 1].set_title(\"Test Accuracy\")"
      ],
      "metadata": {
        "id": "30azlPiyvAOJ",
        "outputId": "c714ef06-6d24-4adc-dc5d-949928e28d15",
        "colab": {
          "base_uri": "https://localhost:8080/",
          "height": 713
        }
      },
      "execution_count": null,
      "outputs": [
        {
          "output_type": "execute_result",
          "data": {
            "text/plain": [
              "Text(0.5, 1.0, 'Test Accuracy')"
            ]
          },
          "metadata": {},
          "execution_count": 65
        },
        {
          "output_type": "display_data",
          "data": {
            "text/plain": [
              "<Figure size 1500x1000 with 4 Axes>"
            ],
            "image/png": "[encoded data removed]"
          },
          "metadata": {}
        }
      ]
    },
    {
      "cell_type": "markdown",
      "source": [],
      "metadata": {
        "id": "18nK6ylpuBtw"
      }
    },
    {
      "cell_type": "markdown",
      "source": [
        "# Analysis 4: Tune, Tune and Tune the Model Architecture to ehnace performance and Fourth Evaluation (**NetD**)\n",
        "\n",
        "## Analysis\n",
        "\n",
        "1. The revised model successfully meets the goal of having fewer than 8,000 parameters.\n",
        "\n",
        "2. Without showing signs of overfitting, the revised model achieves an impressive accuracy of 99.10% in fewer than 15 epochs. The testing accuracy is higher than training accuracy indicating that strong regularization technique is used as route 3 suggested Dropout.  \n",
        "\n",
        "## Model Improvement Recommendations\n",
        "\n",
        "1. Augmenting the dataset can help the model generalize better to unseen data. Techniques like slight rotations, translations, scaling, in next round, we aim to use same architecture NetD with data augmenting technique.\n",
        "\n",
        "---\n",
        "---\n",
        "---"
      ],
      "metadata": {
        "id": "04hNz-dSs59t"
      }
    },
    {
      "cell_type": "markdown",
      "source": [
        "\n",
        "# Target 5:  Data Augmentation and Fifth Evaluation (**Still NetD**)\n",
        "\n",
        "\n",
        "*   Slight rotations\n",
        "*   scaling\n",
        "*   Learning Rate scheduling\n",
        "*   ...\n",
        "\n",
        "\n",
        "\n",
        "\n",
        "## Aim\n",
        "1.   **99.4%** (this must be consistently shown in your last few epochs, and not a one-time achievement)\n",
        "2.   Less than or equal to **15** Epochs\n",
        "3.   Less than **8000** Parameters"
      ],
      "metadata": {
        "id": "0pBalsJjG_mZ"
      }
    },
    {
      "cell_type": "code",
      "source": [
        "# Train Phase transformations\n",
        "train_transforms = transforms.Compose([\n",
        "                                       transforms.Resize((28, 28)),\n",
        "                                       transforms.ColorJitter(brightness=0.40, contrast=0.3, saturation=0.30, hue=0.3),   # 99.15% when brightness=0.30\n",
        "                                       transforms.RandomAffine(degrees= 0, translate=(0.05, 0.05), scale=(0.9, 1.1)), # translations, and scaling\n",
        "                                       transforms.RandomRotation((-7.0, 7.0), fill=(1,)), # Random rotations   -7 - 7 reach 99.26% EPOCHS 14\n",
        "                                       #transforms.RandomCrop(28, padding=4), # does not help in this model\n",
        "                                       transforms.ToTensor(),\n",
        "                                       transforms.Normalize((0.1307,), (0.3081,)), # The mean and std have to be sequences (e.g., tuples), therefore you should add a comma after the values.\n",
        "                                       #transforms.RandomErasing(p=0.5, scale=(0.02, 0.33), ratio=(0.3, 3.3), value='random') this does not help improving model tuning.\n",
        "                                       transforms.RandomErasing(p=0.2, scale=(0.02, 0.1), ratio=(0.3, 2.0), value='random')\n",
        "                                       ])\n",
        "\n",
        "# Test Phase transformations\n",
        "test_transforms = transforms.Compose([\n",
        "                                       #transforms.Resize((28, 28)),\n",
        "                                       #transforms.ColorJitter(brightness=0.10, contrast=0.1, saturation=0.10, hue=0.1),\n",
        "                                       transforms.ToTensor(),\n",
        "                                       transforms.Normalize((0.1307,), (0.3081,))\n",
        "                                       ])"
      ],
      "metadata": {
        "id": "BBtT_hxVsoYi"
      },
      "execution_count": 4,
      "outputs": []
    },
    {
      "cell_type": "code",
      "source": [
        "train = datasets.MNIST('./data', train=True, download=True, transform=train_transforms)\n",
        "test = datasets.MNIST('./data', train=False, download=True, transform=test_transforms)"
      ],
      "metadata": {
        "id": "e-oSCPZZvpev",
        "outputId": "f3a78a23-713e-4427-dbcb-37ccdbe6f76e",
        "colab": {
          "base_uri": "https://localhost:8080/"
        }
      },
      "execution_count": 5,
      "outputs": [
        {
          "output_type": "stream",
          "name": "stdout",
          "text": [
            "Downloading http://yann.lecun.com/exdb/mnist/train-images-idx3-ubyte.gz\n",
            "Downloading http://yann.lecun.com/exdb/mnist/train-images-idx3-ubyte.gz to ./data/MNIST/raw/train-images-idx3-ubyte.gz\n"
          ]
        },
        {
          "output_type": "stream",
          "name": "stderr",
          "text": [
            "100%|██████████| 9912422/9912422 [00:00<00:00, 114024143.48it/s]\n"
          ]
        },
        {
          "output_type": "stream",
          "name": "stdout",
          "text": [
            "Extracting ./data/MNIST/raw/train-images-idx3-ubyte.gz to ./data/MNIST/raw\n",
            "\n",
            "Downloading http://yann.lecun.com/exdb/mnist/train-labels-idx1-ubyte.gz\n",
            "Downloading http://yann.lecun.com/exdb/mnist/train-labels-idx1-ubyte.gz to ./data/MNIST/raw/train-labels-idx1-ubyte.gz\n"
          ]
        },
        {
          "output_type": "stream",
          "name": "stderr",
          "text": [
            "100%|██████████| 28881/28881 [00:00<00:00, 26011529.70it/s]\n"
          ]
        },
        {
          "output_type": "stream",
          "name": "stdout",
          "text": [
            "Extracting ./data/MNIST/raw/train-labels-idx1-ubyte.gz to ./data/MNIST/raw\n",
            "\n",
            "Downloading http://yann.lecun.com/exdb/mnist/t10k-images-idx3-ubyte.gz\n",
            "Downloading http://yann.lecun.com/exdb/mnist/t10k-images-idx3-ubyte.gz to ./data/MNIST/raw/t10k-images-idx3-ubyte.gz\n"
          ]
        },
        {
          "output_type": "stream",
          "name": "stderr",
          "text": [
            "100%|██████████| 1648877/1648877 [00:00<00:00, 34623948.76it/s]\n"
          ]
        },
        {
          "output_type": "stream",
          "name": "stdout",
          "text": [
            "Extracting ./data/MNIST/raw/t10k-images-idx3-ubyte.gz to ./data/MNIST/raw\n",
            "\n",
            "Downloading http://yann.lecun.com/exdb/mnist/t10k-labels-idx1-ubyte.gz\n",
            "Downloading http://yann.lecun.com/exdb/mnist/t10k-labels-idx1-ubyte.gz to ./data/MNIST/raw/t10k-labels-idx1-ubyte.gz\n"
          ]
        },
        {
          "output_type": "stream",
          "name": "stderr",
          "text": [
            "100%|██████████| 4542/4542 [00:00<00:00, 19803044.46it/s]\n"
          ]
        },
        {
          "output_type": "stream",
          "name": "stdout",
          "text": [
            "Extracting ./data/MNIST/raw/t10k-labels-idx1-ubyte.gz to ./data/MNIST/raw\n",
            "\n"
          ]
        }
      ]
    },
    {
      "cell_type": "code",
      "source": [
        "SEED = 1\n",
        "\n",
        "# CUDA?\n",
        "cuda = torch.cuda.is_available()\n",
        "print(\"CUDA Available?\", cuda)\n",
        "\n",
        "# For reproducibility\n",
        "torch.manual_seed(SEED)\n",
        "\n",
        "if cuda:\n",
        "    torch.cuda.manual_seed(SEED)\n",
        "\n",
        "# dataloader arguments - something you'll fetch these from cmdprmt\n",
        "dataloader_args = dict(shuffle=True, batch_size=128, num_workers=4, pin_memory=True) if cuda else dict(shuffle=True, batch_size=64)\n",
        "\n",
        "# train dataloader\n",
        "train_loader = torch.utils.data.DataLoader(train, **dataloader_args)\n",
        "\n",
        "# test dataloader\n",
        "test_loader = torch.utils.data.DataLoader(test, **dataloader_args)"
      ],
      "metadata": {
        "id": "crCgFlCLvs2p",
        "outputId": "722fa827-5869-48d9-9b40-6540f1b2533b",
        "colab": {
          "base_uri": "https://localhost:8080/"
        }
      },
      "execution_count": 6,
      "outputs": [
        {
          "output_type": "stream",
          "name": "stdout",
          "text": [
            "CUDA Available? True\n"
          ]
        },
        {
          "output_type": "stream",
          "name": "stderr",
          "text": [
            "/usr/local/lib/python3.10/dist-packages/torch/utils/data/dataloader.py:557: UserWarning: This DataLoader will create 4 worker processes in total. Our suggested max number of worker in current system is 2, which is smaller than what this DataLoader is going to create. Please be aware that excessive worker creation might get DataLoader running slow or even freeze, lower the worker number to avoid potential slowness/freeze if necessary.\n",
            "  warnings.warn(_create_warning_msg(\n"
          ]
        }
      ]
    },
    {
      "cell_type": "code",
      "source": [
        "from tqdm import tqdm\n",
        "\n",
        "train_losses = []\n",
        "test_losses = []\n",
        "train_acc = []\n",
        "test_acc = []\n",
        "\n",
        "def train(model, device, train_loader, optimizer, epoch):\n",
        "  model.train()\n",
        "  pbar = tqdm(train_loader)\n",
        "  correct = 0\n",
        "  processed = 0\n",
        "  for batch_idx, (data, target) in enumerate(pbar):\n",
        "    # get samples\n",
        "    data, target = data.to(device), target.to(device)\n",
        "\n",
        "    # Init\n",
        "    optimizer.zero_grad()\n",
        "    # In PyTorch, we need to set the gradients to zero before starting to do backpropragation because PyTorch accumulates the gradients on subsequent backward passes.\n",
        "    # Because of this, when you start your training loop, ideally you should zero out the gradients so that you do the parameter update correctly.\n",
        "\n",
        "    # Predict\n",
        "    y_pred = model(data)\n",
        "\n",
        "    # Calculate loss\n",
        "    loss = F.nll_loss(y_pred, target)\n",
        "    train_losses.append(loss)\n",
        "\n",
        "    # Backpropagation\n",
        "    loss.backward()\n",
        "    optimizer.step()\n",
        "\n",
        "    # Update pbar-tqdm\n",
        "\n",
        "    pred = y_pred.argmax(dim=1, keepdim=True)  # get the index of the max log-probability\n",
        "    correct += pred.eq(target.view_as(pred)).sum().item()\n",
        "    processed += len(data)\n",
        "\n",
        "    pbar.set_description(desc= f'Loss={loss.item()} Batch_id={batch_idx} Accuracy={100*correct/processed:0.2f}%')\n",
        "    train_acc.append(100*correct/processed)\n",
        "\n",
        "def test(model, device, test_loader):\n",
        "    model.eval()\n",
        "    test_loss = 0\n",
        "    correct = 0\n",
        "    with torch.no_grad():\n",
        "        for data, target in test_loader:\n",
        "            data, target = data.to(device), target.to(device)\n",
        "            output = model(data)\n",
        "            test_loss += F.nll_loss(output, target, reduction='sum').item()  # sum up batch loss\n",
        "            pred = output.argmax(dim=1, keepdim=True)  # get the index of the max log-probability\n",
        "            correct += pred.eq(target.view_as(pred)).sum().item()\n",
        "\n",
        "    test_loss /= len(test_loader.dataset)\n",
        "    test_losses.append(test_loss)\n",
        "\n",
        "    print('\\nTest set: Average loss: {:.4f}, Accuracy: {}/{} ({:.2f}%)\\n'.format(\n",
        "        test_loss, correct, len(test_loader.dataset),\n",
        "        100. * correct / len(test_loader.dataset)))\n",
        "\n",
        "    test_acc.append(100. * correct / len(test_loader.dataset))"
      ],
      "metadata": {
        "id": "otYRXVQzwdxY"
      },
      "execution_count": 7,
      "outputs": []
    },
    {
      "cell_type": "code",
      "source": [
        "Models.evaluate_model(Models.NetD)"
      ],
      "metadata": {
        "id": "8pys5Jy5I16k",
        "outputId": "3fecd129-0987-42bf-c3d7-99febbedef05",
        "colab": {
          "base_uri": "https://localhost:8080/"
        }
      },
      "execution_count": null,
      "outputs": [
        {
          "output_type": "stream",
          "name": "stdout",
          "text": [
            "----------------------------------------------------------------\n",
            "        Layer (type)               Output Shape         Param #\n",
            "================================================================\n",
            "            Conv2d-1           [-1, 16, 26, 26]             160\n",
            "       BatchNorm2d-2           [-1, 16, 26, 26]              32\n",
            "              ReLU-3           [-1, 16, 26, 26]               0\n",
            "           Dropout-4           [-1, 16, 26, 26]               0\n",
            "            Conv2d-5           [-1, 16, 24, 24]           2,320\n",
            "       BatchNorm2d-6           [-1, 16, 24, 24]              32\n",
            "              ReLU-7           [-1, 16, 24, 24]               0\n",
            "           Dropout-8           [-1, 16, 24, 24]               0\n",
            "            Conv2d-9           [-1, 10, 24, 24]             170\n",
            "      BatchNorm2d-10           [-1, 10, 24, 24]              20\n",
            "             ReLU-11           [-1, 10, 24, 24]               0\n",
            "          Dropout-12           [-1, 10, 24, 24]               0\n",
            "        MaxPool2d-13           [-1, 10, 12, 12]               0\n",
            "           Conv2d-14           [-1, 10, 12, 12]             110\n",
            "      BatchNorm2d-15           [-1, 10, 12, 12]              20\n",
            "             ReLU-16           [-1, 10, 12, 12]               0\n",
            "          Dropout-17           [-1, 10, 12, 12]               0\n",
            "        MaxPool2d-18             [-1, 10, 6, 6]               0\n",
            "           Conv2d-19             [-1, 10, 6, 6]             910\n",
            "             ReLU-20             [-1, 10, 6, 6]               0\n",
            "      BatchNorm2d-21             [-1, 10, 6, 6]              20\n",
            "          Dropout-22             [-1, 10, 6, 6]               0\n",
            "           Conv2d-23             [-1, 10, 6, 6]             910\n",
            "             ReLU-24             [-1, 10, 6, 6]               0\n",
            "      BatchNorm2d-25             [-1, 10, 6, 6]              20\n",
            "          Dropout-26             [-1, 10, 6, 6]               0\n",
            "           Conv2d-27             [-1, 10, 4, 4]             910\n",
            "             ReLU-28             [-1, 10, 4, 4]               0\n",
            "      BatchNorm2d-29             [-1, 10, 4, 4]              20\n",
            "          Dropout-30             [-1, 10, 4, 4]               0\n",
            "           Conv2d-31             [-1, 10, 2, 2]             910\n",
            "AdaptiveAvgPool2d-32             [-1, 10, 1, 1]               0\n",
            "           Linear-33                   [-1, 10]             110\n",
            "================================================================\n",
            "Total params: 6,674\n",
            "Trainable params: 6,674\n",
            "Non-trainable params: 0\n",
            "----------------------------------------------------------------\n",
            "Input size (MB): 0.00\n",
            "Forward/backward pass size (MB): 0.87\n",
            "Params size (MB): 0.03\n",
            "Estimated Total Size (MB): 0.90\n",
            "----------------------------------------------------------------\n"
          ]
        }
      ]
    },
    {
      "cell_type": "code",
      "source": [
        "use_cuda = torch.cuda.is_available()\n",
        "device = torch.device(\"cuda\" if use_cuda else \"cpu\")\n",
        "model = Models.NetD().to(device)\n",
        "\n",
        "optimizer = optim.SGD(model.parameters(), lr=0.01, momentum=0.9)\n",
        "EPOCHS = 15\n",
        "for epoch in range(EPOCHS):\n",
        "    print(\"EPOCH:\", epoch)\n",
        "    train(model, device, train_loader, optimizer, epoch)\n",
        "    test(model, device, test_loader)"
      ],
      "metadata": {
        "id": "sUkcI-MWI7Ed",
        "outputId": "2b2cb150-ca27-4b4f-941d-50f850b11b80",
        "colab": {
          "base_uri": "https://localhost:8080/"
        }
      },
      "execution_count": null,
      "outputs": [
        {
          "output_type": "stream",
          "name": "stdout",
          "text": [
            "EPOCH: 0\n"
          ]
        },
        {
          "output_type": "stream",
          "name": "stderr",
          "text": [
            "Loss=0.21673142910003662 Batch_id=468 Accuracy=86.29%: 100%|██████████| 469/469 [00:40<00:00, 11.59it/s]\n"
          ]
        },
        {
          "output_type": "stream",
          "name": "stdout",
          "text": [
            "\n",
            "Test set: Average loss: 0.1021, Accuracy: 9679/10000 (96.79%)\n",
            "\n",
            "EPOCH: 1\n"
          ]
        },
        {
          "output_type": "stream",
          "name": "stderr",
          "text": [
            "Loss=0.10623615980148315 Batch_id=468 Accuracy=96.19%: 100%|██████████| 469/469 [00:41<00:00, 11.25it/s]\n"
          ]
        },
        {
          "output_type": "stream",
          "name": "stdout",
          "text": [
            "\n",
            "Test set: Average loss: 0.0607, Accuracy: 9804/10000 (98.04%)\n",
            "\n",
            "EPOCH: 2\n"
          ]
        },
        {
          "output_type": "stream",
          "name": "stderr",
          "text": [
            "Loss=0.048460159450769424 Batch_id=468 Accuracy=96.91%: 100%|██████████| 469/469 [00:40<00:00, 11.62it/s]\n"
          ]
        },
        {
          "output_type": "stream",
          "name": "stdout",
          "text": [
            "\n",
            "Test set: Average loss: 0.0455, Accuracy: 9856/10000 (98.56%)\n",
            "\n",
            "EPOCH: 3\n"
          ]
        },
        {
          "output_type": "stream",
          "name": "stderr",
          "text": [
            "Loss=0.05445250868797302 Batch_id=468 Accuracy=97.26%: 100%|██████████| 469/469 [00:41<00:00, 11.32it/s]\n"
          ]
        },
        {
          "output_type": "stream",
          "name": "stdout",
          "text": [
            "\n",
            "Test set: Average loss: 0.0397, Accuracy: 9873/10000 (98.73%)\n",
            "\n",
            "EPOCH: 4\n"
          ]
        },
        {
          "output_type": "stream",
          "name": "stderr",
          "text": [
            "Loss=0.06099269166588783 Batch_id=468 Accuracy=97.44%: 100%|██████████| 469/469 [00:40<00:00, 11.72it/s]\n"
          ]
        },
        {
          "output_type": "stream",
          "name": "stdout",
          "text": [
            "\n",
            "Test set: Average loss: 0.0343, Accuracy: 9894/10000 (98.94%)\n",
            "\n",
            "EPOCH: 5\n"
          ]
        },
        {
          "output_type": "stream",
          "name": "stderr",
          "text": [
            "Loss=0.03628828004002571 Batch_id=468 Accuracy=97.66%: 100%|██████████| 469/469 [00:40<00:00, 11.61it/s]\n"
          ]
        },
        {
          "output_type": "stream",
          "name": "stdout",
          "text": [
            "\n",
            "Test set: Average loss: 0.0388, Accuracy: 9877/10000 (98.77%)\n",
            "\n",
            "EPOCH: 6\n"
          ]
        },
        {
          "output_type": "stream",
          "name": "stderr",
          "text": [
            "Loss=0.027614308521151543 Batch_id=468 Accuracy=97.83%: 100%|██████████| 469/469 [00:40<00:00, 11.64it/s]\n"
          ]
        },
        {
          "output_type": "stream",
          "name": "stdout",
          "text": [
            "\n",
            "Test set: Average loss: 0.0312, Accuracy: 9892/10000 (98.92%)\n",
            "\n",
            "EPOCH: 7\n"
          ]
        },
        {
          "output_type": "stream",
          "name": "stderr",
          "text": [
            "Loss=0.06352987140417099 Batch_id=468 Accuracy=97.86%: 100%|██████████| 469/469 [00:39<00:00, 11.74it/s]\n"
          ]
        },
        {
          "output_type": "stream",
          "name": "stdout",
          "text": [
            "\n",
            "Test set: Average loss: 0.0379, Accuracy: 9880/10000 (98.80%)\n",
            "\n",
            "EPOCH: 8\n"
          ]
        },
        {
          "output_type": "stream",
          "name": "stderr",
          "text": [
            "Loss=0.06537103652954102 Batch_id=468 Accuracy=97.98%: 100%|██████████| 469/469 [00:40<00:00, 11.45it/s]\n"
          ]
        },
        {
          "output_type": "stream",
          "name": "stdout",
          "text": [
            "\n",
            "Test set: Average loss: 0.0299, Accuracy: 9900/10000 (99.00%)\n",
            "\n",
            "EPOCH: 9\n"
          ]
        },
        {
          "output_type": "stream",
          "name": "stderr",
          "text": [
            "Loss=0.03558908775448799 Batch_id=468 Accuracy=98.02%: 100%|██████████| 469/469 [00:40<00:00, 11.62it/s]\n"
          ]
        },
        {
          "output_type": "stream",
          "name": "stdout",
          "text": [
            "\n",
            "Test set: Average loss: 0.0310, Accuracy: 9908/10000 (99.08%)\n",
            "\n",
            "EPOCH: 10\n"
          ]
        },
        {
          "output_type": "stream",
          "name": "stderr",
          "text": [
            "Loss=0.004324059002101421 Batch_id=468 Accuracy=98.15%: 100%|██████████| 469/469 [00:40<00:00, 11.61it/s]\n"
          ]
        },
        {
          "output_type": "stream",
          "name": "stdout",
          "text": [
            "\n",
            "Test set: Average loss: 0.0423, Accuracy: 9869/10000 (98.69%)\n",
            "\n",
            "EPOCH: 11\n"
          ]
        },
        {
          "output_type": "stream",
          "name": "stderr",
          "text": [
            "Loss=0.08174359798431396 Batch_id=468 Accuracy=98.11%: 100%|██████████| 469/469 [00:40<00:00, 11.47it/s]\n"
          ]
        },
        {
          "output_type": "stream",
          "name": "stdout",
          "text": [
            "\n",
            "Test set: Average loss: 0.0309, Accuracy: 9906/10000 (99.06%)\n",
            "\n",
            "EPOCH: 12\n"
          ]
        },
        {
          "output_type": "stream",
          "name": "stderr",
          "text": [
            "Loss=0.04257398843765259 Batch_id=468 Accuracy=98.15%: 100%|██████████| 469/469 [00:40<00:00, 11.69it/s]\n"
          ]
        },
        {
          "output_type": "stream",
          "name": "stdout",
          "text": [
            "\n",
            "Test set: Average loss: 0.0298, Accuracy: 9907/10000 (99.07%)\n",
            "\n",
            "EPOCH: 13\n"
          ]
        },
        {
          "output_type": "stream",
          "name": "stderr",
          "text": [
            "Loss=0.04688267782330513 Batch_id=468 Accuracy=98.26%: 100%|██████████| 469/469 [00:41<00:00, 11.36it/s]\n"
          ]
        },
        {
          "output_type": "stream",
          "name": "stdout",
          "text": [
            "\n",
            "Test set: Average loss: 0.0288, Accuracy: 9913/10000 (99.13%)\n",
            "\n",
            "EPOCH: 14\n"
          ]
        },
        {
          "output_type": "stream",
          "name": "stderr",
          "text": [
            "Loss=0.04735115170478821 Batch_id=468 Accuracy=98.30%: 100%|██████████| 469/469 [00:39<00:00, 11.73it/s]\n"
          ]
        },
        {
          "output_type": "stream",
          "name": "stdout",
          "text": [
            "\n",
            "Test set: Average loss: 0.0251, Accuracy: 9926/10000 (99.26%)\n",
            "\n"
          ]
        }
      ]
    },
    {
      "cell_type": "code",
      "source": [
        "use_cuda = torch.cuda.is_available()\n",
        "device = torch.device(\"cuda\" if use_cuda else \"cpu\")\n",
        "model = Models.NetD().to(device)\n",
        "\n",
        "optimizer = optim.SGD(model.parameters(), lr=0.02, momentum=0.9)\n",
        "EPOCHS = 15\n",
        "for epoch in range(EPOCHS):\n",
        "    print(\"EPOCH:\", epoch)\n",
        "    train(model, device, train_loader, optimizer, epoch)\n",
        "    test(model, device, test_loader)"
      ],
      "metadata": {
        "id": "Ev9hgwGv59tl",
        "outputId": "0d1ffacf-b8e5-4200-8c41-bf7da751d3b6",
        "colab": {
          "base_uri": "https://localhost:8080/"
        }
      },
      "execution_count": 8,
      "outputs": [
        {
          "metadata": {
            "tags": null
          },
          "name": "stdout",
          "output_type": "stream",
          "text": [
            "EPOCH: 0\n"
          ]
        },
        {
          "metadata": {
            "tags": null
          },
          "name": "stderr",
          "output_type": "stream",
          "text": [
            "Loss=0.19968415796756744 Batch_id=468 Accuracy=85.60%: 100%|██████████| 469/469 [00:48<00:00,  9.61it/s]\n"
          ]
        },
        {
          "metadata": {
            "tags": null
          },
          "name": "stdout",
          "output_type": "stream",
          "text": [
            "\n",
            "Test set: Average loss: 0.0634, Accuracy: 9800/10000 (98.00%)\n",
            "\n",
            "EPOCH: 1\n"
          ]
        },
        {
          "metadata": {
            "tags": null
          },
          "name": "stderr",
          "output_type": "stream",
          "text": [
            "Loss=0.10634296387434006 Batch_id=468 Accuracy=94.47%: 100%|██████████| 469/469 [00:47<00:00,  9.96it/s]\n"
          ]
        },
        {
          "metadata": {
            "tags": null
          },
          "name": "stdout",
          "output_type": "stream",
          "text": [
            "\n",
            "Test set: Average loss: 0.0517, Accuracy: 9827/10000 (98.27%)\n",
            "\n",
            "EPOCH: 2\n"
          ]
        },
        {
          "metadata": {
            "tags": null
          },
          "name": "stderr",
          "output_type": "stream",
          "text": [
            "Loss=0.04172394797205925 Batch_id=468 Accuracy=95.29%: 100%|██████████| 469/469 [00:47<00:00,  9.89it/s]\n"
          ]
        },
        {
          "metadata": {
            "tags": null
          },
          "name": "stdout",
          "output_type": "stream",
          "text": [
            "\n",
            "Test set: Average loss: 0.0415, Accuracy: 9869/10000 (98.69%)\n",
            "\n",
            "EPOCH: 3\n"
          ]
        },
        {
          "metadata": {
            "tags": null
          },
          "name": "stderr",
          "output_type": "stream",
          "text": [
            "Loss=0.11086539179086685 Batch_id=468 Accuracy=95.88%: 100%|██████████| 469/469 [00:47<00:00,  9.81it/s]\n"
          ]
        },
        {
          "metadata": {
            "tags": null
          },
          "name": "stdout",
          "output_type": "stream",
          "text": [
            "\n",
            "Test set: Average loss: 0.0365, Accuracy: 9882/10000 (98.82%)\n",
            "\n",
            "EPOCH: 4\n"
          ]
        },
        {
          "metadata": {
            "tags": null
          },
          "name": "stderr",
          "output_type": "stream",
          "text": [
            "Loss=0.152849018573761 Batch_id=468 Accuracy=96.17%: 100%|██████████| 469/469 [00:47<00:00,  9.91it/s]\n"
          ]
        },
        {
          "metadata": {
            "tags": null
          },
          "name": "stdout",
          "output_type": "stream",
          "text": [
            "\n",
            "Test set: Average loss: 0.0349, Accuracy: 9890/10000 (98.90%)\n",
            "\n",
            "EPOCH: 5\n"
          ]
        },
        {
          "metadata": {
            "tags": null
          },
          "name": "stderr",
          "output_type": "stream",
          "text": [
            "Loss=0.28877362608909607 Batch_id=468 Accuracy=96.39%: 100%|██████████| 469/469 [00:47<00:00,  9.92it/s]\n"
          ]
        },
        {
          "metadata": {
            "tags": null
          },
          "name": "stdout",
          "output_type": "stream",
          "text": [
            "\n",
            "Test set: Average loss: 0.0344, Accuracy: 9888/10000 (98.88%)\n",
            "\n",
            "EPOCH: 6\n"
          ]
        },
        {
          "metadata": {
            "tags": null
          },
          "name": "stderr",
          "output_type": "stream",
          "text": [
            "Loss=0.12391410022974014 Batch_id=468 Accuracy=96.47%: 100%|██████████| 469/469 [00:46<00:00, 10.12it/s]\n"
          ]
        },
        {
          "metadata": {
            "tags": null
          },
          "name": "stdout",
          "output_type": "stream",
          "text": [
            "\n",
            "Test set: Average loss: 0.0302, Accuracy: 9902/10000 (99.02%)\n",
            "\n",
            "EPOCH: 7\n"
          ]
        },
        {
          "metadata": {
            "tags": null
          },
          "name": "stderr",
          "output_type": "stream",
          "text": [
            "Loss=0.12667103111743927 Batch_id=468 Accuracy=96.65%: 100%|██████████| 469/469 [00:47<00:00,  9.93it/s]\n"
          ]
        },
        {
          "metadata": {
            "tags": null
          },
          "name": "stdout",
          "output_type": "stream",
          "text": [
            "\n",
            "Test set: Average loss: 0.0267, Accuracy: 9911/10000 (99.11%)\n",
            "\n",
            "EPOCH: 8\n"
          ]
        },
        {
          "metadata": {
            "tags": null
          },
          "name": "stderr",
          "output_type": "stream",
          "text": [
            "Loss=0.11553414911031723 Batch_id=468 Accuracy=96.72%: 100%|██████████| 469/469 [00:47<00:00,  9.96it/s]\n"
          ]
        },
        {
          "metadata": {
            "tags": null
          },
          "name": "stdout",
          "output_type": "stream",
          "text": [
            "\n",
            "Test set: Average loss: 0.0334, Accuracy: 9883/10000 (98.83%)\n",
            "\n",
            "EPOCH: 9\n"
          ]
        },
        {
          "metadata": {
            "tags": null
          },
          "name": "stderr",
          "output_type": "stream",
          "text": [
            "Loss=0.12387484312057495 Batch_id=468 Accuracy=96.81%: 100%|██████████| 469/469 [00:46<00:00, 10.12it/s]\n"
          ]
        },
        {
          "metadata": {
            "tags": null
          },
          "name": "stdout",
          "output_type": "stream",
          "text": [
            "\n",
            "Test set: Average loss: 0.0275, Accuracy: 9917/10000 (99.17%)\n",
            "\n",
            "EPOCH: 10\n"
          ]
        },
        {
          "metadata": {
            "tags": null
          },
          "name": "stderr",
          "output_type": "stream",
          "text": [
            "Loss=0.04538150504231453 Batch_id=468 Accuracy=96.84%: 100%|██████████| 469/469 [00:45<00:00, 10.25it/s]\n"
          ]
        },
        {
          "metadata": {
            "tags": null
          },
          "name": "stdout",
          "output_type": "stream",
          "text": [
            "\n",
            "Test set: Average loss: 0.0254, Accuracy: 9914/10000 (99.14%)\n",
            "\n",
            "EPOCH: 11\n"
          ]
        },
        {
          "metadata": {
            "tags": null
          },
          "name": "stderr",
          "output_type": "stream",
          "text": [
            "Loss=0.09873754531145096 Batch_id=468 Accuracy=96.92%: 100%|██████████| 469/469 [00:44<00:00, 10.60it/s]\n"
          ]
        },
        {
          "metadata": {
            "tags": null
          },
          "name": "stdout",
          "output_type": "stream",
          "text": [
            "\n",
            "Test set: Average loss: 0.0265, Accuracy: 9914/10000 (99.14%)\n",
            "\n",
            "EPOCH: 12\n"
          ]
        },
        {
          "metadata": {
            "tags": null
          },
          "name": "stderr",
          "output_type": "stream",
          "text": [
            "Loss=0.07280059903860092 Batch_id=468 Accuracy=97.05%: 100%|██████████| 469/469 [00:45<00:00, 10.20it/s]\n"
          ]
        },
        {
          "metadata": {
            "tags": null
          },
          "name": "stdout",
          "output_type": "stream",
          "text": [
            "\n",
            "Test set: Average loss: 0.0275, Accuracy: 9911/10000 (99.11%)\n",
            "\n",
            "EPOCH: 13\n"
          ]
        },
        {
          "metadata": {
            "tags": null
          },
          "name": "stderr",
          "output_type": "stream",
          "text": [
            "Loss=0.042894233018159866 Batch_id=468 Accuracy=97.07%: 100%|██████████| 469/469 [00:46<00:00, 10.00it/s]\n"
          ]
        },
        {
          "metadata": {
            "tags": null
          },
          "name": "stdout",
          "output_type": "stream",
          "text": [
            "\n",
            "Test set: Average loss: 0.0266, Accuracy: 9908/10000 (99.08%)\n",
            "\n",
            "EPOCH: 14\n"
          ]
        },
        {
          "metadata": {
            "tags": null
          },
          "name": "stderr",
          "output_type": "stream",
          "text": [
            "Loss=0.06086074933409691 Batch_id=468 Accuracy=97.03%: 100%|██████████| 469/469 [00:47<00:00,  9.80it/s]\n"
          ]
        },
        {
          "metadata": {
            "tags": null
          },
          "name": "stdout",
          "output_type": "stream",
          "text": [
            "\n",
            "Test set: Average loss: 0.0236, Accuracy: 9926/10000 (99.26%)\n",
            "\n"
          ]
        }
      ]
    },
    {
      "cell_type": "code",
      "source": [
        "use_cuda = torch.cuda.is_available()\n",
        "device = torch.device(\"cuda\" if use_cuda else \"cpu\")\n",
        "model = Models.NetD().to(device)\n",
        "\n",
        "optimizer = optim.SGD(model.parameters(), lr=0.02, momentum=0.9)\n",
        "EPOCHS = 15\n",
        "for epoch in range(EPOCHS):\n",
        "    print(\"EPOCH:\", epoch)\n",
        "    train(model, device, train_loader, optimizer, epoch)\n",
        "    test(model, device, test_loader)"
      ],
      "metadata": {
        "id": "xbkJQXC6ItW2",
        "outputId": "d4148ce4-9f32-4ad5-a7c9-879ba6bd6538",
        "colab": {
          "base_uri": "https://localhost:8080/"
        }
      },
      "execution_count": null,
      "outputs": [
        {
          "output_type": "stream",
          "name": "stdout",
          "text": [
            "EPOCH: 0\n"
          ]
        },
        {
          "output_type": "stream",
          "name": "stderr",
          "text": [
            "Loss=0.20251904428005219 Batch_id=468 Accuracy=87.08%: 100%|██████████| 469/469 [00:47<00:00,  9.84it/s]\n"
          ]
        },
        {
          "output_type": "stream",
          "name": "stdout",
          "text": [
            "\n",
            "Test set: Average loss: 0.0787, Accuracy: 9738/10000 (97.38%)\n",
            "\n",
            "EPOCH: 1\n"
          ]
        },
        {
          "output_type": "stream",
          "name": "stderr",
          "text": [
            "Loss=0.19246697425842285 Batch_id=468 Accuracy=94.81%: 100%|██████████| 469/469 [00:46<00:00, 10.18it/s]\n"
          ]
        },
        {
          "output_type": "stream",
          "name": "stdout",
          "text": [
            "\n",
            "Test set: Average loss: 0.0639, Accuracy: 9800/10000 (98.00%)\n",
            "\n",
            "EPOCH: 2\n"
          ]
        },
        {
          "output_type": "stream",
          "name": "stderr",
          "text": [
            "Loss=0.14326035976409912 Batch_id=468 Accuracy=95.60%: 100%|██████████| 469/469 [00:45<00:00, 10.22it/s]\n"
          ]
        },
        {
          "output_type": "stream",
          "name": "stdout",
          "text": [
            "\n",
            "Test set: Average loss: 0.0400, Accuracy: 9857/10000 (98.57%)\n",
            "\n",
            "EPOCH: 3\n"
          ]
        },
        {
          "output_type": "stream",
          "name": "stderr",
          "text": [
            "Loss=0.06139190122485161 Batch_id=468 Accuracy=96.16%: 100%|██████████| 469/469 [00:47<00:00,  9.81it/s]\n"
          ]
        },
        {
          "output_type": "stream",
          "name": "stdout",
          "text": [
            "\n",
            "Test set: Average loss: 0.0601, Accuracy: 9815/10000 (98.15%)\n",
            "\n",
            "EPOCH: 4\n"
          ]
        },
        {
          "output_type": "stream",
          "name": "stderr",
          "text": [
            "Loss=0.13395589590072632 Batch_id=468 Accuracy=96.38%: 100%|██████████| 469/469 [00:46<00:00, 10.05it/s]\n"
          ]
        },
        {
          "output_type": "stream",
          "name": "stdout",
          "text": [
            "\n",
            "Test set: Average loss: 0.0465, Accuracy: 9852/10000 (98.52%)\n",
            "\n",
            "EPOCH: 5\n"
          ]
        },
        {
          "output_type": "stream",
          "name": "stderr",
          "text": [
            "Loss=0.10376932471990585 Batch_id=468 Accuracy=96.36%: 100%|██████████| 469/469 [00:47<00:00,  9.95it/s]\n"
          ]
        },
        {
          "output_type": "stream",
          "name": "stdout",
          "text": [
            "\n",
            "Test set: Average loss: 0.0410, Accuracy: 9876/10000 (98.76%)\n",
            "\n",
            "EPOCH: 6\n"
          ]
        },
        {
          "output_type": "stream",
          "name": "stderr",
          "text": [
            "Loss=0.09017324447631836 Batch_id=468 Accuracy=96.65%: 100%|██████████| 469/469 [00:46<00:00, 10.06it/s]\n"
          ]
        },
        {
          "output_type": "stream",
          "name": "stdout",
          "text": [
            "\n",
            "Test set: Average loss: 0.0370, Accuracy: 9870/10000 (98.70%)\n",
            "\n",
            "EPOCH: 7\n"
          ]
        },
        {
          "output_type": "stream",
          "name": "stderr",
          "text": [
            "Loss=0.14619044959545135 Batch_id=468 Accuracy=96.61%: 100%|██████████| 469/469 [00:45<00:00, 10.25it/s]\n"
          ]
        },
        {
          "output_type": "stream",
          "name": "stdout",
          "text": [
            "\n",
            "Test set: Average loss: 0.0461, Accuracy: 9858/10000 (98.58%)\n",
            "\n",
            "EPOCH: 8\n"
          ]
        },
        {
          "output_type": "stream",
          "name": "stderr",
          "text": [
            "Loss=0.022803455591201782 Batch_id=468 Accuracy=96.83%: 100%|██████████| 469/469 [00:47<00:00,  9.93it/s]\n"
          ]
        },
        {
          "output_type": "stream",
          "name": "stdout",
          "text": [
            "\n",
            "Test set: Average loss: 0.0418, Accuracy: 9860/10000 (98.60%)\n",
            "\n",
            "EPOCH: 9\n"
          ]
        },
        {
          "output_type": "stream",
          "name": "stderr",
          "text": [
            "Loss=0.1598919928073883 Batch_id=468 Accuracy=96.85%: 100%|██████████| 469/469 [00:46<00:00, 10.11it/s]\n"
          ]
        },
        {
          "output_type": "stream",
          "name": "stdout",
          "text": [
            "\n",
            "Test set: Average loss: 0.0372, Accuracy: 9884/10000 (98.84%)\n",
            "\n",
            "EPOCH: 10\n"
          ]
        },
        {
          "output_type": "stream",
          "name": "stderr",
          "text": [
            "Loss=0.05332031473517418 Batch_id=186 Accuracy=96.97%:  40%|███▉      | 186/469 [00:19<00:25, 11.22it/s]"
          ]
        }
      ]
    },
    {
      "cell_type": "code",
      "source": [
        "t = [t_items.item() for t_items in train_losses]\n",
        "\n",
        "fig, axs = plt.subplots(2,2,figsize=(15,10))\n",
        "axs[0, 0].plot(t)\n",
        "axs[0, 0].set_title(\"Training Loss\")\n",
        "axs[1, 0].plot(train_acc)\n",
        "axs[1, 0].set_title(\"Training Accuracy\")\n",
        "axs[0, 1].plot(test_losses)\n",
        "axs[0, 1].set_title(\"Test Loss\")\n",
        "axs[1, 1].plot(test_acc)\n",
        "axs[1, 1].set_title(\"Test Accuracy\")"
      ],
      "metadata": {
        "id": "OsfTefpueBqN",
        "outputId": "6362c996-5d4d-4bce-ca0c-680cfdf5e2e4",
        "colab": {
          "base_uri": "https://localhost:8080/",
          "height": 870
        }
      },
      "execution_count": 9,
      "outputs": [
        {
          "output_type": "execute_result",
          "data": {
            "text/plain": [
              "Text(0.5, 1.0, 'Test Accuracy')"
            ]
          },
          "metadata": {},
          "execution_count": 9
        },
        {
          "output_type": "display_data",
          "data": {
            "text/plain": [
              "<Figure size 1500x1000 with 4 Axes>"
            ],
            "image/png": "[encoded data removed]"
          },
          "metadata": {}
        }
      ]
    }
  ],
  "metadata": {
    "accelerator": "GPU",
    "colab": {
      "provenance": [],
      "include_colab_link": true
    },
    "kernelspec": {
      "display_name": "Python 3",
      "name": "python3"
    }
  },
  "nbformat": 4,
  "nbformat_minor": 0
}