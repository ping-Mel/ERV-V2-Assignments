{
  "cells": [
    {
      "cell_type": "markdown",
      "metadata": {
        "id": "view-in-github",
        "colab_type": "text"
      },
      "source": [
        "<a href=\"https://colab.research.google.com/github/ping-Mel/ERV-V2-Assignments/blob/main/session8/s8.ipynb\" target=\"_parent\"><img src=\"https://colab.research.google.com/assets/colab-badge.svg\" alt=\"Open In Colab\"/></a>"
      ]
    },
    {
      "cell_type": "code",
      "execution_count": 17,
      "metadata": {
        "id": "aZgCEbjacrvp"
      },
      "outputs": [],
      "source": [
        "import torch\n",
        "import torch.nn as nn\n",
        "import torch.nn.functional as F\n",
        "from torchsummary import summary\n",
        "\n",
        "class Models:\n",
        "    \"\"\"\n",
        "    In this class, we organize our neural network architectures as nested/inner classes.\n",
        "    This approach groups related functionalities and creates an organized and encapsulated\n",
        "    code structure. Each neural network architecture is defined as an inner class within\n",
        "    this Models class. This allows for easy instantiation and clear hierarchy of neural\n",
        "    network models, each with its distinct architecture and characteristics.\n",
        "    \"\"\"\n",
        "    @staticmethod\n",
        "    def evaluate_model(model_class, input_size=(3, 32, 32)):\n",
        "        \"\"\"\n",
        "        Static method to evaluate the model architecture.\n",
        "        This method will print a summary of the model showing the layers and parameters.\n",
        "\n",
        "        Parameters:\n",
        "        model_class (class): The inner class representing the neural network architecture to evaluate.\n",
        "        input_size (tuple): The size of the input to the model. Default is (1, 28, 28) for MNIST dataset.\n",
        "        \"\"\"\n",
        "        # Check for CUDA availability and set the device accordingly\n",
        "        use_cuda = torch.cuda.is_available()\n",
        "        device = torch.device(\"cuda\" if use_cuda else \"cpu\")\n",
        "\n",
        "        # Initialize the model from the inner class and move to the appropriate device\n",
        "        model = model_class().to(device)\n",
        "\n",
        "        # Print the summary of the model\n",
        "        summary(model, input_size=input_size)\n",
        "\n",
        "\n",
        "\n",
        "    class NetA(nn.Module):\n",
        "        \"\"\"\n",
        "        Inner class representing an initial neural network architecture.\n",
        "        \"\"\"\n",
        "        def __init__(self):\n",
        "            super(Models.NetA, self).__init__()\n",
        "            # Convolutional layers\n",
        "            #R_in, N_in, j_in, S, R_out, N_out, J_out, P, K\n",
        "            #\n",
        "            self.conv1 = nn.Conv2d(3, 32, 3,padding=1)\n",
        "            #R_in, N_in, j_in, S, R_out, N_out, J_out, P, K\n",
        "            #\n",
        "            self.conv2 = nn.Conv2d(32, 64, 3,padding=1)\n",
        "            #R_in, N_in, j_in, S, R_out, N_out, J_out, P, K\n",
        "            # 5    28      1   2    6      14     2    0  2\n",
        "            self.conv3 = nn.Conv2d(64, 64, kernel_size=1)\n",
        "\n",
        "            self.pool1 = nn.MaxPool2d(2, 2)\n",
        "\n",
        "            #R_in, N_in, j_in, S, R_out, N_out, J_out, P, K\n",
        "            #\n",
        "            self.conv4 = nn.Conv2d(64, 128, 3,padding=1)\n",
        "\n",
        "            #R_in, N_in, j_in, S, R_out, N_out, J_out, P, K\n",
        "            #\n",
        "            self.conv5 = nn.Conv2d(128, 32, 3,padding=1)\n",
        "            #R_in, N_in, j_in, S, R_out, N_out, J_out, P, K\n",
        "            # 24    5     4    1    32     3     4     0  3\n",
        "            self.conv6 = nn.Conv2d(32, 32, 3,padding=1)\n",
        "\n",
        "            #R_in, N_in, j_in, S, R_out, N_out, J_out, P, K\n",
        "            # 32    3      4   1    40     1     4     0  3\n",
        "            self.conv7 = nn.Conv2d(32, 32, 1)\n",
        "            self.pool2 = nn.MaxPool2d(2, 2)\n",
        "\n",
        "            self.conv8 = nn.Conv2d(32, 32, 3,padding=1)\n",
        "            self.conv9 = nn.Conv2d(32, 32, 3,padding=1)\n",
        "            self.conv10 = nn.Conv2d(32, 64, 3,padding=1)\n",
        "            self.global_avg_pool = nn.AdaptiveAvgPool2d((1,1))  # Global pooling to reduce parameters\n",
        "\n",
        "            self.conv11 = nn.Conv2d(64, 10, 1)\n",
        "\n",
        "        def forward(self, x):\n",
        "            x = F.relu(self.conv1(x))\n",
        "            x = F.relu(self.conv2(x))\n",
        "            x = F.relu(self.conv3(x))  # 1x1 conv\n",
        "            x = self.pool1(x)\n",
        "\n",
        "            x = F.relu(self.conv4(x))\n",
        "            x = F.relu(self.conv5(x))\n",
        "            x = F.relu(self.conv6(x))\n",
        "            x = F.relu(self.conv7(x))  # 1x1 conv\n",
        "            x = self.pool2(x)\n",
        "\n",
        "            x = F.relu(self.conv8(x))\n",
        "            x = F.relu(self.conv9(x))\n",
        "            x = F.relu(self.conv10(x))\n",
        "\n",
        "            x = self.global_avg_pool(x)\n",
        "            x = self.conv11(x)  # Final 1x1 conv\n",
        "\n",
        "            # Flatten for the final output\n",
        "            x = x.view(x.size(0), -1)\n",
        "            return F.log_softmax(x, dim=-1)"
      ]
    },
    {
      "cell_type": "markdown",
      "metadata": {
        "id": "4VTMiFM-crvu"
      },
      "source": [
        "# Target 1: Group Normalisation Network\n",
        "\n",
        "## Initial Setup\n",
        "- Construct the **basic skeleton** of the neural network model. This includes defining the layers and forward pass logic in Class Models (model.py) NetA inner class.\n",
        "-\n",
        "\n",
        "## Aim\n",
        "1.   **70%** (this must be consistently shown in your last few epochs, and not a one-time achievement)\n",
        "2.   Less than or equal to **20** Epochs\n",
        "3.   Less than **50k** Parameters"
      ]
    },
    {
      "cell_type": "code",
      "source": [
        "!pip install torchsummary\n",
        "\n",
        "from __future__ import print_function\n",
        "import torch.optim as optim\n",
        "from torchvision import datasets, transforms\n",
        "import matplotlib.pyplot as plt"
      ],
      "metadata": {
        "id": "ebJ3r56ceIHE",
        "outputId": "6f910e67-a0c8-41e8-df81-b5153f42a549",
        "colab": {
          "base_uri": "https://localhost:8080/"
        }
      },
      "execution_count": 2,
      "outputs": [
        {
          "output_type": "stream",
          "name": "stdout",
          "text": [
            "Requirement already satisfied: torchsummary in /usr/local/lib/python3.10/dist-packages (1.5.1)\n"
          ]
        }
      ]
    },
    {
      "cell_type": "code",
      "execution_count": 3,
      "metadata": {
        "id": "QG2ej3eqcrvv"
      },
      "outputs": [],
      "source": [
        "# Train Phase transformations\n",
        "train_transforms = transforms.Compose([\n",
        "                                      #  transforms.Resize((28, 28)),\n",
        "                                      #  transforms.ColorJitter(brightness=0.10, contrast=0.1, saturation=0.10, hue=0.1),\n",
        "                                       transforms.ToTensor(),\n",
        "                                       transforms.Normalize((0.49139968, 0.48215827, 0.44653124), (0.49139968, 0.48215827, 0.44653124)) # The mean and std have to be sequences (e.g., tuples), therefore you should add a comma after the values.\n",
        "                                       # Note the difference between (0.1307) and (0.1307,)\n",
        "                                       ])\n",
        "\n",
        "# Test Phase transformations\n",
        "test_transforms = transforms.Compose([\n",
        "                                      #  transforms.Resize((28, 28)),\n",
        "                                      #  transforms.ColorJitter(brightness=0.10, contrast=0.1, saturation=0.10, hue=0.1),\n",
        "                                       transforms.ToTensor(),\n",
        "                                       transforms.Normalize((0.49139968, 0.48215827, 0.44653124), (0.49139968, 0.48215827, 0.44653124))\n",
        "                                       ])"
      ]
    },
    {
      "cell_type": "code",
      "execution_count": 4,
      "metadata": {
        "id": "mqgwB5dJcrvw",
        "outputId": "0f8dffdc-b469-41c9-abf1-594fe0836f88",
        "colab": {
          "base_uri": "https://localhost:8080/"
        }
      },
      "outputs": [
        {
          "output_type": "stream",
          "name": "stdout",
          "text": [
            "Downloading https://www.cs.toronto.edu/~kriz/cifar-10-python.tar.gz to ./data/cifar-10-python.tar.gz\n"
          ]
        },
        {
          "output_type": "stream",
          "name": "stderr",
          "text": [
            "100%|██████████| 170498071/170498071 [01:37<00:00, 1741386.94it/s]\n"
          ]
        },
        {
          "output_type": "stream",
          "name": "stdout",
          "text": [
            "Extracting ./data/cifar-10-python.tar.gz to ./data\n",
            "Files already downloaded and verified\n"
          ]
        }
      ],
      "source": [
        "train = datasets.CIFAR10('./data', train=True, download=True, transform=train_transforms)\n",
        "test = datasets.CIFAR10('./data', train=False, download=True, transform=test_transforms)"
      ]
    },
    {
      "cell_type": "code",
      "execution_count": 5,
      "metadata": {
        "id": "lqtnPa-rcrvw",
        "outputId": "68490b15-6e92-4bef-a9ab-919827d9f82b",
        "colab": {
          "base_uri": "https://localhost:8080/"
        }
      },
      "outputs": [
        {
          "output_type": "stream",
          "name": "stdout",
          "text": [
            "CUDA Available? True\n"
          ]
        }
      ],
      "source": [
        "SEED = 1\n",
        "\n",
        "# CUDA?\n",
        "cuda = torch.cuda.is_available()\n",
        "print(\"CUDA Available?\", cuda)\n",
        "\n",
        "# For reproducibility\n",
        "torch.manual_seed(SEED)\n",
        "\n",
        "if cuda:\n",
        "    torch.cuda.manual_seed(SEED)\n",
        "\n",
        "# dataloader arguments - something you'll fetch these from cmdprmt\n",
        "dataloader_args = dict(shuffle=True, batch_size=256, num_workers=2, pin_memory=True) if cuda else dict(shuffle=True, batch_size=128)\n",
        "\n",
        "# train dataloader\n",
        "train_loader = torch.utils.data.DataLoader(train, **dataloader_args)\n",
        "\n",
        "# test dataloader\n",
        "test_loader = torch.utils.data.DataLoader(test, **dataloader_args)"
      ]
    },
    {
      "cell_type": "code",
      "execution_count": 6,
      "metadata": {
        "id": "zEi68fnzcrvx"
      },
      "outputs": [],
      "source": [
        "from tqdm import tqdm\n",
        "\n",
        "train_losses = []\n",
        "test_losses = []\n",
        "train_acc = []\n",
        "test_acc = []\n",
        "\n",
        "def train(model, device, train_loader, optimizer, epoch):\n",
        "  model.train()\n",
        "  pbar = tqdm(train_loader)\n",
        "  correct = 0\n",
        "  processed = 0\n",
        "  for batch_idx, (data, target) in enumerate(pbar):\n",
        "    # get samples\n",
        "    data, target = data.to(device), target.to(device)\n",
        "\n",
        "    # Init\n",
        "    optimizer.zero_grad()\n",
        "    # In PyTorch, we need to set the gradients to zero before starting to do backpropragation because PyTorch accumulates the gradients on subsequent backward passes.\n",
        "    # Because of this, when you start your training loop, ideally you should zero out the gradients so that you do the parameter update correctly.\n",
        "\n",
        "    # Predict\n",
        "    y_pred = model(data)\n",
        "\n",
        "    # Calculate loss\n",
        "    loss = F.nll_loss(y_pred, target)\n",
        "    train_losses.append(loss)\n",
        "\n",
        "    # Backpropagation\n",
        "    loss.backward()\n",
        "    optimizer.step()\n",
        "\n",
        "    # Update pbar-tqdm\n",
        "\n",
        "    pred = y_pred.argmax(dim=1, keepdim=True)  # get the index of the max log-probability\n",
        "    correct += pred.eq(target.view_as(pred)).sum().item()\n",
        "    processed += len(data)\n",
        "\n",
        "    pbar.set_description(desc= f'Loss={loss.item()} Batch_id={batch_idx} Accuracy={100*correct/processed:0.2f}%')\n",
        "    train_acc.append(100*correct/processed)\n",
        "\n",
        "def test(model, device, test_loader):\n",
        "    model.eval()\n",
        "    test_loss = 0\n",
        "    correct = 0\n",
        "    with torch.no_grad():\n",
        "        for data, target in test_loader:\n",
        "            data, target = data.to(device), target.to(device)\n",
        "            output = model(data)\n",
        "            test_loss += F.nll_loss(output, target, reduction='sum').item()  # sum up batch loss\n",
        "            pred = output.argmax(dim=1, keepdim=True)  # get the index of the max log-probability\n",
        "            correct += pred.eq(target.view_as(pred)).sum().item()\n",
        "\n",
        "    test_loss /= len(test_loader.dataset)\n",
        "    test_losses.append(test_loss)\n",
        "\n",
        "    print('\\nTest set: Average loss: {:.4f}, Accuracy: {}/{} ({:.2f}%)\\n'.format(\n",
        "        test_loss, correct, len(test_loader.dataset),\n",
        "        100. * correct / len(test_loader.dataset)))\n",
        "\n",
        "    test_acc.append(100. * correct / len(test_loader.dataset))\n"
      ]
    },
    {
      "cell_type": "code",
      "execution_count": 13,
      "metadata": {
        "id": "snFiunFecrvx",
        "outputId": "9d100dac-d1b5-4f1d-e216-be9ea36e0e30",
        "colab": {
          "base_uri": "https://localhost:8080/"
        }
      },
      "outputs": [
        {
          "output_type": "stream",
          "name": "stdout",
          "text": [
            "----------------------------------------------------------------\n",
            "        Layer (type)               Output Shape         Param #\n",
            "================================================================\n",
            "            Conv2d-1           [-1, 32, 32, 32]             896\n",
            "            Conv2d-2           [-1, 64, 32, 32]          18,496\n",
            "            Conv2d-3           [-1, 64, 32, 32]           4,160\n",
            "         MaxPool2d-4           [-1, 64, 16, 16]               0\n",
            "            Conv2d-5           [-1, 64, 16, 16]          36,928\n",
            "            Conv2d-6           [-1, 32, 16, 16]          18,464\n",
            "            Conv2d-7           [-1, 32, 16, 16]           9,248\n",
            "            Conv2d-8           [-1, 32, 16, 16]           1,056\n",
            "         MaxPool2d-9             [-1, 32, 8, 8]               0\n",
            "           Conv2d-10             [-1, 32, 8, 8]           9,248\n",
            "           Conv2d-11             [-1, 32, 8, 8]           9,248\n",
            "           Conv2d-12             [-1, 32, 8, 8]           9,248\n",
            "AdaptiveAvgPool2d-13             [-1, 32, 1, 1]               0\n",
            "           Conv2d-14             [-1, 10, 1, 1]             330\n",
            "================================================================\n",
            "Total params: 117,322\n",
            "Trainable params: 117,322\n",
            "Non-trainable params: 0\n",
            "----------------------------------------------------------------\n",
            "Input size (MB): 0.01\n",
            "Forward/backward pass size (MB): 1.75\n",
            "Params size (MB): 0.45\n",
            "Estimated Total Size (MB): 2.21\n",
            "----------------------------------------------------------------\n"
          ]
        }
      ],
      "source": [
        "Models.evaluate_model(Models.NetA)"
      ]
    },
    {
      "cell_type": "code",
      "execution_count": 18,
      "metadata": {
        "id": "i_ObMxekcrvy",
        "outputId": "afc2bf27-7683-4893-977f-194105923d0c",
        "colab": {
          "base_uri": "https://localhost:8080/"
        }
      },
      "outputs": [
        {
          "output_type": "stream",
          "name": "stdout",
          "text": [
            "EPOCH: 0\n"
          ]
        },
        {
          "output_type": "stream",
          "name": "stderr",
          "text": [
            "Loss=2.3039493560791016 Batch_id=195 Accuracy=10.02%: 100%|██████████| 196/196 [00:15<00:00, 12.32it/s]\n"
          ]
        },
        {
          "output_type": "stream",
          "name": "stdout",
          "text": [
            "\n",
            "Test set: Average loss: 2.3026, Accuracy: 1000/10000 (10.00%)\n",
            "\n",
            "EPOCH: 1\n"
          ]
        },
        {
          "output_type": "stream",
          "name": "stderr",
          "text": [
            "Loss=2.3033273220062256 Batch_id=195 Accuracy=9.78%: 100%|██████████| 196/196 [00:15<00:00, 12.69it/s]\n"
          ]
        },
        {
          "output_type": "stream",
          "name": "stdout",
          "text": [
            "\n",
            "Test set: Average loss: 2.3026, Accuracy: 1000/10000 (10.00%)\n",
            "\n",
            "EPOCH: 2\n"
          ]
        },
        {
          "output_type": "stream",
          "name": "stderr",
          "text": [
            "Loss=2.3018083572387695 Batch_id=195 Accuracy=9.91%: 100%|██████████| 196/196 [00:16<00:00, 12.24it/s]\n"
          ]
        },
        {
          "output_type": "stream",
          "name": "stdout",
          "text": [
            "\n",
            "Test set: Average loss: 2.3027, Accuracy: 1000/10000 (10.00%)\n",
            "\n",
            "EPOCH: 3\n"
          ]
        },
        {
          "output_type": "stream",
          "name": "stderr",
          "text": [
            "Loss=2.3038604259490967 Batch_id=195 Accuracy=10.00%: 100%|██████████| 196/196 [00:16<00:00, 11.93it/s]\n"
          ]
        },
        {
          "output_type": "stream",
          "name": "stdout",
          "text": [
            "\n",
            "Test set: Average loss: 2.3027, Accuracy: 1000/10000 (10.00%)\n",
            "\n",
            "EPOCH: 4\n"
          ]
        },
        {
          "output_type": "stream",
          "name": "stderr",
          "text": [
            "Loss=2.3024845123291016 Batch_id=195 Accuracy=9.56%: 100%|██████████| 196/196 [00:15<00:00, 12.49it/s]\n"
          ]
        },
        {
          "output_type": "stream",
          "name": "stdout",
          "text": [
            "\n",
            "Test set: Average loss: 2.3026, Accuracy: 1000/10000 (10.00%)\n",
            "\n",
            "EPOCH: 5\n"
          ]
        },
        {
          "output_type": "stream",
          "name": "stderr",
          "text": [
            "Loss=2.301051139831543 Batch_id=195 Accuracy=9.73%: 100%|██████████| 196/196 [00:15<00:00, 12.68it/s]\n"
          ]
        },
        {
          "output_type": "stream",
          "name": "stdout",
          "text": [
            "\n",
            "Test set: Average loss: 2.3026, Accuracy: 1000/10000 (10.00%)\n",
            "\n",
            "EPOCH: 6\n"
          ]
        },
        {
          "output_type": "stream",
          "name": "stderr",
          "text": [
            "Loss=2.3031704425811768 Batch_id=195 Accuracy=9.76%: 100%|██████████| 196/196 [00:15<00:00, 12.79it/s]\n"
          ]
        },
        {
          "output_type": "stream",
          "name": "stdout",
          "text": [
            "\n",
            "Test set: Average loss: 2.3026, Accuracy: 1000/10000 (10.00%)\n",
            "\n",
            "EPOCH: 7\n"
          ]
        },
        {
          "output_type": "stream",
          "name": "stderr",
          "text": [
            "Loss=2.301490068435669 Batch_id=195 Accuracy=9.91%: 100%|██████████| 196/196 [00:15<00:00, 12.38it/s]\n"
          ]
        },
        {
          "output_type": "stream",
          "name": "stdout",
          "text": [
            "\n",
            "Test set: Average loss: 2.3026, Accuracy: 1000/10000 (10.00%)\n",
            "\n",
            "EPOCH: 8\n"
          ]
        },
        {
          "output_type": "stream",
          "name": "stderr",
          "text": [
            "Loss=2.301427125930786 Batch_id=195 Accuracy=9.85%: 100%|██████████| 196/196 [00:15<00:00, 12.97it/s]\n"
          ]
        },
        {
          "output_type": "stream",
          "name": "stdout",
          "text": [
            "\n",
            "Test set: Average loss: 2.3026, Accuracy: 1000/10000 (10.00%)\n",
            "\n",
            "EPOCH: 9\n"
          ]
        },
        {
          "output_type": "stream",
          "name": "stderr",
          "text": [
            "Loss=2.3018012046813965 Batch_id=195 Accuracy=9.95%: 100%|██████████| 196/196 [00:16<00:00, 11.97it/s]\n"
          ]
        },
        {
          "output_type": "stream",
          "name": "stdout",
          "text": [
            "\n",
            "Test set: Average loss: 2.3026, Accuracy: 1000/10000 (10.00%)\n",
            "\n",
            "EPOCH: 10\n"
          ]
        },
        {
          "output_type": "stream",
          "name": "stderr",
          "text": [
            "Loss=2.302487850189209 Batch_id=195 Accuracy=10.00%: 100%|██████████| 196/196 [00:15<00:00, 12.96it/s]\n"
          ]
        },
        {
          "output_type": "stream",
          "name": "stdout",
          "text": [
            "\n",
            "Test set: Average loss: 2.3027, Accuracy: 1000/10000 (10.00%)\n",
            "\n",
            "EPOCH: 11\n"
          ]
        },
        {
          "output_type": "stream",
          "name": "stderr",
          "text": [
            "Loss=2.302832841873169 Batch_id=195 Accuracy=9.88%: 100%|██████████| 196/196 [00:15<00:00, 12.37it/s]\n"
          ]
        },
        {
          "output_type": "stream",
          "name": "stdout",
          "text": [
            "\n",
            "Test set: Average loss: 2.3026, Accuracy: 1000/10000 (10.00%)\n",
            "\n",
            "EPOCH: 12\n"
          ]
        },
        {
          "output_type": "stream",
          "name": "stderr",
          "text": [
            "Loss=2.304283618927002 Batch_id=195 Accuracy=9.66%: 100%|██████████| 196/196 [00:15<00:00, 12.83it/s]\n"
          ]
        },
        {
          "output_type": "stream",
          "name": "stdout",
          "text": [
            "\n",
            "Test set: Average loss: 2.3026, Accuracy: 1000/10000 (10.00%)\n",
            "\n",
            "EPOCH: 13\n"
          ]
        },
        {
          "output_type": "stream",
          "name": "stderr",
          "text": [
            "Loss=2.3025591373443604 Batch_id=195 Accuracy=9.95%: 100%|██████████| 196/196 [00:15<00:00, 13.01it/s]\n"
          ]
        },
        {
          "output_type": "stream",
          "name": "stdout",
          "text": [
            "\n",
            "Test set: Average loss: 2.3026, Accuracy: 1000/10000 (10.00%)\n",
            "\n",
            "EPOCH: 14\n"
          ]
        },
        {
          "output_type": "stream",
          "name": "stderr",
          "text": [
            "Loss=2.302042007446289 Batch_id=195 Accuracy=9.80%: 100%|██████████| 196/196 [00:15<00:00, 12.38it/s]\n"
          ]
        },
        {
          "output_type": "stream",
          "name": "stdout",
          "text": [
            "\n",
            "Test set: Average loss: 2.3026, Accuracy: 1000/10000 (10.00%)\n",
            "\n",
            "EPOCH: 15\n"
          ]
        },
        {
          "output_type": "stream",
          "name": "stderr",
          "text": [
            "Loss=2.3032569885253906 Batch_id=195 Accuracy=9.85%: 100%|██████████| 196/196 [00:15<00:00, 12.71it/s]\n"
          ]
        },
        {
          "output_type": "stream",
          "name": "stdout",
          "text": [
            "\n",
            "Test set: Average loss: 2.3026, Accuracy: 1000/10000 (10.00%)\n",
            "\n",
            "EPOCH: 16\n"
          ]
        },
        {
          "output_type": "stream",
          "name": "stderr",
          "text": [
            "Loss=2.3022494316101074 Batch_id=195 Accuracy=9.81%: 100%|██████████| 196/196 [00:16<00:00, 11.97it/s]\n"
          ]
        },
        {
          "output_type": "stream",
          "name": "stdout",
          "text": [
            "\n",
            "Test set: Average loss: 2.3026, Accuracy: 1000/10000 (10.00%)\n",
            "\n",
            "EPOCH: 17\n"
          ]
        },
        {
          "output_type": "stream",
          "name": "stderr",
          "text": [
            "Loss=2.3008275032043457 Batch_id=195 Accuracy=9.89%: 100%|██████████| 196/196 [00:15<00:00, 12.86it/s]\n"
          ]
        },
        {
          "output_type": "stream",
          "name": "stdout",
          "text": [
            "\n",
            "Test set: Average loss: 2.3026, Accuracy: 1000/10000 (10.00%)\n",
            "\n",
            "EPOCH: 18\n"
          ]
        },
        {
          "output_type": "stream",
          "name": "stderr",
          "text": [
            "Loss=2.3024768829345703 Batch_id=195 Accuracy=9.88%: 100%|██████████| 196/196 [00:15<00:00, 12.74it/s]\n"
          ]
        },
        {
          "output_type": "stream",
          "name": "stdout",
          "text": [
            "\n",
            "Test set: Average loss: 2.3026, Accuracy: 1000/10000 (10.00%)\n",
            "\n",
            "EPOCH: 19\n"
          ]
        },
        {
          "output_type": "stream",
          "name": "stderr",
          "text": [
            "Loss=2.3026230335235596 Batch_id=195 Accuracy=9.90%: 100%|██████████| 196/196 [00:15<00:00, 12.35it/s]\n"
          ]
        },
        {
          "output_type": "stream",
          "name": "stdout",
          "text": [
            "\n",
            "Test set: Average loss: 2.3026, Accuracy: 1000/10000 (10.00%)\n",
            "\n"
          ]
        }
      ],
      "source": [
        "use_cuda = torch.cuda.is_available()\n",
        "device = torch.device(\"cuda\" if use_cuda else \"cpu\")\n",
        "model = Models.NetA().to(device)\n",
        "optimizer = optim.SGD(model.parameters(), lr=0.01, momentum=0.9)\n",
        "EPOCHS = 20\n",
        "for epoch in range(EPOCHS):\n",
        "    print(\"EPOCH:\", epoch)\n",
        "    train(model, device, train_loader, optimizer, epoch)\n",
        "    test(model, device, test_loader)"
      ]
    },
    {
      "cell_type": "code",
      "execution_count": 19,
      "metadata": {
        "id": "xr08yrDjcrvy",
        "outputId": "c83b84d1-f158-4218-bc11-79816255d0fa",
        "colab": {
          "base_uri": "https://localhost:8080/",
          "height": 813
        }
      },
      "outputs": [
        {
          "output_type": "execute_result",
          "data": {
            "text/plain": [
              "Text(0.5, 1.0, 'Test Accuracy')"
            ]
          },
          "metadata": {},
          "execution_count": 19
        },
        {
          "output_type": "display_data",
          "data": {
            "text/plain": [
              "<Figure size 1500x1000 with 4 Axes>"
            ],
            "image/png": "[encoded data removed]"
          },
          "metadata": {}
        }
      ],
      "source": [
        "t = [t_items.item() for t_items in train_losses]\n",
        "\n",
        "fig, axs = plt.subplots(2,2,figsize=(15,10))\n",
        "axs[0, 0].plot(t)\n",
        "axs[0, 0].set_title(\"Training Loss\")\n",
        "axs[1, 0].plot(train_acc)\n",
        "axs[1, 0].set_title(\"Training Accuracy\")\n",
        "axs[0, 1].plot(test_losses)\n",
        "axs[0, 1].set_title(\"Test Loss\")\n",
        "axs[1, 1].plot(test_acc)\n",
        "axs[1, 1].set_title(\"Test Accuracy\")"
      ]
    }
  ],
  "metadata": {
    "language_info": {
      "name": "python"
    },
    "colab": {
      "provenance": [],
      "gpuType": "T4",
      "include_colab_link": true
    },
    "kernelspec": {
      "name": "python3",
      "display_name": "Python 3"
    },
    "accelerator": "GPU"
  },
  "nbformat": 4,
  "nbformat_minor": 0
}